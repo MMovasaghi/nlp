{
 "cells": [
  {
   "cell_type": "markdown",
   "id": "9445903d",
   "metadata": {},
   "source": [
    "<img style=\"direction:rtl;\" src=\"./../data/besm.png\" alt=\"In the name of Allah\" width=\"150\">"
   ]
  },
  {
   "cell_type": "code",
   "execution_count": 9,
   "id": "42f6f0a4",
   "metadata": {},
   "outputs": [
    {
     "name": "stdout",
     "output_type": "stream",
     "text": [
      "[3, 4, 5, 6, 7, 8]\n"
     ]
    }
   ],
   "source": [
    "a = [0,1,2,3,4,5,6,7,8]\n",
    "print(a[3:len(a)])"
   ]
  },
  {
   "cell_type": "code",
   "execution_count": null,
   "id": "860e191c",
   "metadata": {},
   "outputs": [],
   "source": []
  }
 ],
 "metadata": {
  "kernelspec": {
   "display_name": "Python 3 (ipykernel)",
   "language": "python",
   "name": "python3"
  },
  "language_info": {
   "codemirror_mode": {
    "name": "ipython",
    "version": 3
   },
   "file_extension": ".py",
   "mimetype": "text/x-python",
   "name": "python",
   "nbconvert_exporter": "python",
   "pygments_lexer": "ipython3",
   "version": "3.10.4"
  }
 },
 "nbformat": 4,
 "nbformat_minor": 5
}
