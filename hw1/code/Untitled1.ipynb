{
 "cells": [
  {
   "cell_type": "markdown",
   "id": "9445903d",
   "metadata": {},
   "source": [
    "<img style=\"direction:rtl;\" src=\"./../data/besm.png\" alt=\"In the name of Allah\" width=\"150\">"
   ]
  },
  {
   "cell_type": "code",
   "execution_count": 1,
   "id": "f2546d9d",
   "metadata": {},
   "outputs": [],
   "source": [
    "import pandas as pd"
   ]
  },
  {
   "cell_type": "code",
   "execution_count": 63,
   "id": "f9ab47fc",
   "metadata": {},
   "outputs": [],
   "source": [
    "def check_file_and_extract_data(num):\n",
    "    f = open(f'./../result/comments_{num}.txt', 'r')\n",
    "    text = f.readlines()\n",
    "    f.close()\n",
    "\n",
    "    text = [x.replace('\\n', '').replace('\\t\\t', '\\t').split('\\t') for x in text]\n",
    "\n",
    "    i = 0\n",
    "    while i < len(text):\n",
    "        if len(text[i]) == 2:\n",
    "            i += 1\n",
    "            text[i-1].append(text[i])\n",
    "            text[i] = []\n",
    "        i += 1\n",
    "\n",
    "    for i, x in enumerate(text):\n",
    "        if len(x) != 3 and x != []:\n",
    "            print(f'ERROR [{i}]')\n",
    "    return text"
   ]
  },
  {
   "cell_type": "code",
   "execution_count": 64,
   "id": "32eab04d",
   "metadata": {},
   "outputs": [],
   "source": [
    "text = []\n",
    "for i in range(1,4):\n",
    "    text.extend(check_file_and_extract_data(i))"
   ]
  },
  {
   "cell_type": "code",
   "execution_count": 65,
   "id": "401f56f7",
   "metadata": {
    "scrolled": true
   },
   "outputs": [
    {
     "data": {
      "text/plain": [
       "713280"
      ]
     },
     "execution_count": 65,
     "metadata": {},
     "output_type": "execute_result"
    }
   ],
   "source": [
    "len(text)"
   ]
  },
  {
   "cell_type": "code",
   "execution_count": 62,
   "id": "a8ee26f3",
   "metadata": {},
   "outputs": [],
   "source": []
  },
  {
   "cell_type": "code",
   "execution_count": 58,
   "id": "0418afcb",
   "metadata": {},
   "outputs": [
    {
     "data": {
      "text/plain": [
       "['family',\n",
       " 'سریال شب های مافیا دانلود و تماشای رایگان|فیلیمو',\n",
       " 'حامد آهنگی خیلی باهوش بود بعد راوی (محمدرضا علیمردانی)خیلی عصبانبی بود']"
      ]
     },
     "execution_count": 58,
     "metadata": {},
     "output_type": "execute_result"
    }
   ],
   "source": [
    "text[54898]"
   ]
  },
  {
   "cell_type": "code",
   "execution_count": 34,
   "id": "42f6f0a4",
   "metadata": {},
   "outputs": [
    {
     "data": {
      "text/plain": [
       "['',\n",
       " 'پارسا پیروز فر و طناز طباطبایی فوق العاده بی نظیر هستن پارسا پیروز فر سریال در چشم باد که ترکوند طناز طباطبایی هم که شنای پروانه ترکوند']"
      ]
     },
     "execution_count": 34,
     "metadata": {},
     "output_type": "execute_result"
    }
   ],
   "source": [
    "text[8862]"
   ]
  },
  {
   "cell_type": "code",
   "execution_count": null,
   "id": "860e191c",
   "metadata": {},
   "outputs": [],
   "source": []
  }
 ],
 "metadata": {
  "kernelspec": {
   "display_name": "Python 3 (ipykernel)",
   "language": "python",
   "name": "python3"
  },
  "language_info": {
   "codemirror_mode": {
    "name": "ipython",
    "version": 3
   },
   "file_extension": ".py",
   "mimetype": "text/x-python",
   "name": "python",
   "nbconvert_exporter": "python",
   "pygments_lexer": "ipython3",
   "version": "3.10.4"
  }
 },
 "nbformat": 4,
 "nbformat_minor": 5
}
