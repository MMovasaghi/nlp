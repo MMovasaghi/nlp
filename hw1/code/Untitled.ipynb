{
 "cells": [
  {
   "cell_type": "markdown",
   "id": "1d382099",
   "metadata": {},
   "source": [
    "<center><img src=\"./../data/besm.png\" alt=\"In the name of Allah\" width=\"150\"></center>"
   ]
  },
  {
   "cell_type": "markdown",
   "id": "6340bbe6",
   "metadata": {},
   "source": [
    "<style>\n",
    "    \n",
    "@font-face {font-family: \"B Lotus\"; src: url(\"//db.onlinewebfonts.com/t/1605a655ba0a3246ce5eca3eaff6c5c2.eot\"); src: url(\"//db.onlinewebfonts.com/t/1605a655ba0a3246ce5eca3eaff6c5c2.eot?#iefix\") format(\"embedded-opentype\"), url(\"//db.onlinewebfonts.com/t/1605a655ba0a3246ce5eca3eaff6c5c2.woff2\") format(\"woff2\"), url(\"//db.onlinewebfonts.com/t/1605a655ba0a3246ce5eca3eaff6c5c2.woff\") format(\"woff\"), url(\"//db.onlinewebfonts.com/t/1605a655ba0a3246ce5eca3eaff6c5c2.ttf\") format(\"truetype\"), url(\"//db.onlinewebfonts.com/t/1605a655ba0a3246ce5eca3eaff6c5c2.svg#B Lotus\") format(\"svg\"); }\n",
    "\n",
    "\n",
    "</style>\n",
    "\n",
    "<center style ='font-family: \"B Lotus\";'>تمرین اول - درس پردازش زبان‌های طبیعی</center>\n",
    "<center style ='font-family: \"B Lotus\";'>ترم ۱۴۰۱۱ - دانشکده مهندسی کامپیوتر</center>\n",
    "<hr>\n",
    "<center style ='font-family: \"B Lotus\";'>محمدحسین موثقی‌نیا</center>\n",
    "<center style ='font-family: \"B Lotus\";'>۴۰۰۲۰۰۹۱۹</center>\n",
    "<hr>"
   ]
  },
  {
   "cell_type": "markdown",
   "id": "8c04b85f",
   "metadata": {},
   "source": [
    "<div style=\"direction:rtl\">نصب و فراخوانی کتابخانه‌های مورد نیاز:</div>"
   ]
  },
  {
   "cell_type": "code",
   "execution_count": null,
   "id": "44ef2cdd",
   "metadata": {},
   "outputs": [],
   "source": [
    "!pip install numpy\n",
    "!pip install pandas\n",
    "!pip install matplotlib\n",
    "!pip install tqdm\n",
    "!pip install hazm\n",
    "!pip install wordcloud_fa"
   ]
  },
  {
   "cell_type": "code",
   "execution_count": 1,
   "id": "92fd530f",
   "metadata": {},
   "outputs": [],
   "source": [
    "import numpy as np\n",
    "import pandas as pd\n",
    "import os\n",
    "import matplotlib.pyplot as plt\n",
    "from matplotlib.pyplot import figure\n",
    "from tqdm import tqdm\n",
    "from wordcloud_fa import WordCloudFa\n",
    "from __future__ import unicode_literals\n",
    "import hazm\n",
    "import random"
   ]
  },
  {
   "cell_type": "markdown",
   "id": "39ae1184",
   "metadata": {},
   "source": [
    "<div style=\"direction:rtl\">تعریف الفباهای مورد نیاز، شامل موارد:</div>\n",
    "<ul style=\"direction:rtl;\">\n",
    "  <li>الفبای زبان فارسی</li>\n",
    "  <li>علائم سجاوندی</li>\n",
    "  <li>اعداد فارسی و انگلیسی</li>\n",
    "  <li>لیست ایموجی&zwnj;ها &laquo;از این <a href=\"https://gist.github.com/bfeldman89/fb25ddb63bdaa6de6ab7ac946acde96f\" rel=\"noopener noreferrer\" target=\"_blank\">لینک</a> استفاده شده است&raquo;</li>\n",
    "</ul> "
   ]
  },
  {
   "cell_type": "code",
   "execution_count": 2,
   "id": "4fec9d65",
   "metadata": {},
   "outputs": [
    {
     "data": {
      "text/html": [
       "<div>\n",
       "<style scoped>\n",
       "    .dataframe tbody tr th:only-of-type {\n",
       "        vertical-align: middle;\n",
       "    }\n",
       "\n",
       "    .dataframe tbody tr th {\n",
       "        vertical-align: top;\n",
       "    }\n",
       "\n",
       "    .dataframe thead th {\n",
       "        text-align: right;\n",
       "    }\n",
       "</style>\n",
       "<table border=\"1\" class=\"dataframe\">\n",
       "  <thead>\n",
       "    <tr style=\"text-align: right;\">\n",
       "      <th></th>\n",
       "      <th>emoji</th>\n",
       "      <th>desciption</th>\n",
       "    </tr>\n",
       "  </thead>\n",
       "  <tbody>\n",
       "    <tr>\n",
       "      <th>0</th>\n",
       "      <td>😀</td>\n",
       "      <td>Grinning Face</td>\n",
       "    </tr>\n",
       "    <tr>\n",
       "      <th>1</th>\n",
       "      <td>😁</td>\n",
       "      <td>Beaming Face With Smiling Eyes</td>\n",
       "    </tr>\n",
       "    <tr>\n",
       "      <th>2</th>\n",
       "      <td>😂</td>\n",
       "      <td>Face With Tears of Joy</td>\n",
       "    </tr>\n",
       "    <tr>\n",
       "      <th>3</th>\n",
       "      <td>🤣</td>\n",
       "      <td>Rolling on the Floor Laughing</td>\n",
       "    </tr>\n",
       "    <tr>\n",
       "      <th>4</th>\n",
       "      <td>😃</td>\n",
       "      <td>Grinning Face With Big Eyes</td>\n",
       "    </tr>\n",
       "  </tbody>\n",
       "</table>\n",
       "</div>"
      ],
      "text/plain": [
       "  emoji                       desciption\n",
       "0     😀                    Grinning Face\n",
       "1     😁   Beaming Face With Smiling Eyes\n",
       "2     😂           Face With Tears of Joy\n",
       "3     🤣    Rolling on the Floor Laughing\n",
       "4     😃      Grinning Face With Big Eyes"
      ]
     },
     "execution_count": 2,
     "metadata": {},
     "output_type": "execute_result"
    }
   ],
   "source": [
    "persian_alphabet = [\"آ\",\"ا\",\"ب\",\"پ\",\"ت\",\"س\",\"ج\",\"چ\",\"ح\",\"خ\",\"د\",\"ذ\",\"ر\",\"ز\",\"ژ\",\"س\",\"ش\",\"ص\",\"ض\",\"ط\",\"ظ\",\"ع\",\"غ\",\"ف\",\"ق\",\"ک\",\"ل\",\"م\",\"ن\",\"و\",\"ه\",\"ی\"]\n",
    "decorativeـsigns = [\" \", \",\", \":\", \"؛\", \"|\", \"\\\\\", \"*\", \" \", \"٬\", \"!\", \"؟\", \"?\", \"(\", \")\", \".\", \"،\"]\n",
    "persian_numbers = [\"0\", \"1\", \"2\", \"3\", \"4\", \"5\", \"6\", \"7\", \"8\", \"9\"] \n",
    "english_numbers = [\"۰\", \"۱\", \"۲\", \"۳\", \"۴\", \"۵\", \"۶\", \"۷\", \"۸\", \"۹\"]\n",
    "emojis_df = pd.read_csv(\"./../data/emojis.csv\", names=[\"emoji\", \"desciption\"])\n",
    "emoji_alphabet = emojis_df.emoji.to_numpy()\n",
    "emojis_df.head()"
   ]
  },
  {
   "cell_type": "markdown",
   "id": "8fff7301",
   "metadata": {},
   "source": [
    "<div style=\"direction:rtl;\">در این مرحله یک پیش&zwnj;پردازش اولیه انجام می&zwnj;شود:</div>\n",
    "<ul style=\"direction:rtl;\">\n",
    "  <li>حذف <code>n\\</code> های اضافه متن که منجر به اضافه شدن خطوط شده است</li>\n",
    "  <li>حذف مواردی که به دلیل اشتباه تایپی یا ... tab زده شده است و به دلیل این که در فایل به عنوان delimiter از tab استفاده شده است، این موارد را با یک tab جایگزین می کنیم.</li>\n",
    "</ul> "
   ]
  },
  {
   "cell_type": "code",
   "execution_count": 3,
   "id": "9e14b6c9",
   "metadata": {},
   "outputs": [],
   "source": [
    "def check_file_and_extract_data(num):\n",
    "    f = open(f'./../result/comments_{num}.txt', 'r')\n",
    "    text = f.readlines()\n",
    "    f.close()\n",
    "\n",
    "    text = [x.replace('\\n', '').replace('\\t\\t', '\\t').split('\\t') for x in text]\n",
    "\n",
    "    i = 0\n",
    "    while i < len(text):\n",
    "        if len(text[i]) == 2:\n",
    "            i += 1\n",
    "            text[i-1].append(text[i])\n",
    "            text[i] = []\n",
    "        i += 1\n",
    "\n",
    "    while [] in text:\n",
    "        text.remove([])\n",
    "    \n",
    "    for i, x in enumerate(text):\n",
    "        if len(x) != 3 and x != []:\n",
    "            print(f'ERROR [{i}]')\n",
    "    return text"
   ]
  },
  {
   "cell_type": "code",
   "execution_count": 4,
   "id": "8c5216da",
   "metadata": {},
   "outputs": [
    {
     "name": "stdout",
     "output_type": "stream",
     "text": [
      "Comments number: 708934\n"
     ]
    }
   ],
   "source": [
    "data = []\n",
    "for i in range(1,4):\n",
    "    data.extend(check_file_and_extract_data(i))\n",
    "\n",
    "comments_data = [c[2] for c in data]\n",
    "print(f'Comments number: {len(data)}')"
   ]
  },
  {
   "cell_type": "markdown",
   "id": "c9a684a2",
   "metadata": {},
   "source": [
    "<div style=\"direction:rtl;\">تابع <code>get_comments_with_emoji</code> لیستی از کامنت&zwnj;ها را دریافت می کند و در خروجی کامنت&zwnj;هایی را بر می&zwnj;گرداند که حتما دارای حداقل یک <strong>ایموجی</strong> باشند.</div>\n",
    "<div style=\"direction:rtl;\">برای این منظور، بررسی می&zwnj;کند که آیا هرکدام از الفبای ایموجی موجود حداقل یکبار در متن وجود داشته است یا خیر. در صورت وجود آن را به لیست اضافه می کند.</div>"
   ]
  },
  {
   "cell_type": "code",
   "execution_count": 5,
   "id": "d20c0ea7",
   "metadata": {},
   "outputs": [],
   "source": [
    "def get_comments_with_emoji(comments):\n",
    "    comment_texts = []\n",
    "    for comment in comments:\n",
    "        for emoji in emoji_alphabet:\n",
    "            if type(comment) == str:\n",
    "                if emoji in comment:\n",
    "                    comment_texts.append(comment)\n",
    "                    break\n",
    "    return comment_texts"
   ]
  },
  {
   "cell_type": "markdown",
   "id": "aac5e2b2",
   "metadata": {},
   "source": [
    "<div style=\"direction:rtl;\">به کمک تابع <code>get_comments_with_emoji</code> کامنت هایی که دارای ایموجی هستند را استخراج می‌کنیم و در نهایت در فایل <code>comments_with_emoji.txt</code> ذخیره می کنیم. </div>"
   ]
  },
  {
   "cell_type": "code",
   "execution_count": 6,
   "id": "094ba345",
   "metadata": {},
   "outputs": [
    {
     "data": {
      "text/plain": [
       "90873"
      ]
     },
     "execution_count": 6,
     "metadata": {},
     "output_type": "execute_result"
    }
   ],
   "source": [
    "comments_with_emoji = get_comments_with_emoji(comments_data)\n",
    "\n",
    "f = open(\"./../result/comments_with_emoji.txt\", \"w\")\n",
    "for comment in comments_with_emoji:\n",
    "    f.write(f\"{comment}\\n\")\n",
    "f.close()\n",
    "\n",
    "len(comments_with_emoji)"
   ]
  },
  {
   "cell_type": "markdown",
   "id": "dcb90b0a",
   "metadata": {},
   "source": [
    "<div style=\"direction:rtl;\">این تابع به منظور استخراج مقادیری از دیکشنری ورودی است که بزرگتر از مقدار <code>value</code> باشند.</div>"
   ]
  },
  {
   "cell_type": "code",
   "execution_count": 7,
   "id": "17a08535",
   "metadata": {},
   "outputs": [],
   "source": [
    "def get_gt_value(my_dict, value):\n",
    "    '''\n",
    "    Get values from dictionary that grater than \"value\"\n",
    "    '''\n",
    "    return {x:y for x,y in my_dict.items() if y>value}"
   ]
  },
  {
   "cell_type": "markdown",
   "id": "33490d8b",
   "metadata": {},
   "source": [
    "<div style=\"direction:rtl;\">تابع نمایش چند مورد اول لیست</div>"
   ]
  },
  {
   "cell_type": "code",
   "execution_count": 8,
   "id": "6795e24e",
   "metadata": {},
   "outputs": [],
   "source": [
    "def head_list(lst, until=5, sep=' '):\n",
    "    '''\n",
    "    Print top \"until\" item of list, \"sep\" is the seperator of printing results\n",
    "    '''\n",
    "    result = ''\n",
    "    num = 0\n",
    "    for i in lst:\n",
    "        if num == until:\n",
    "            result += f'{i}'\n",
    "        else:\n",
    "            result += f'{i}{sep}'\n",
    "        num += 1\n",
    "        if num > until:\n",
    "            break\n",
    "    print(result)"
   ]
  },
  {
   "cell_type": "markdown",
   "id": "bc2a32af",
   "metadata": {},
   "source": [
    "<div style=\"direction:rtl;\">یک دیکشنری از ایموجی ها ساخته و تعداد هرکدام را در آن ذخیره می‌کنیم و در نهایت یک مرتب سازی براساس تعداد انجام می دهیم.</div>\n",
    "<div style=\"direction:rtl;\">در زمان شمارش، برای هر خط درصورتی که چندبار از یک ایموجی استفاده شده باشد، آن ایموجی فقط یکبار در شمارش به حساب خواهد آمد.</div>"
   ]
  },
  {
   "cell_type": "code",
   "execution_count": 9,
   "id": "13755c65",
   "metadata": {},
   "outputs": [],
   "source": [
    "emoji_dict = {}\n",
    "\n",
    "for emoji in emoji_alphabet:\n",
    "    emoji_dict[emoji] = 0\n",
    "\n",
    "for comment in comments_with_emoji:\n",
    "    tmp_lst = []\n",
    "    for s in comment:\n",
    "        if s in emoji_alphabet:\n",
    "            tmp_lst.append(s)\n",
    "    for e in list(dict.fromkeys(tmp_lst)):\n",
    "        emoji_dict[e] += 1\n",
    "\n",
    "emoji_dict = {k: v for k, v in sorted(emoji_dict.items(), key=lambda item: item[1], reverse=True)}\n",
    "emoji_dict_nonzero = get_gt_value(emoji_dict, 0)"
   ]
  },
  {
   "cell_type": "code",
   "execution_count": 10,
   "id": "03722714",
   "metadata": {},
   "outputs": [
    {
     "name": "stdout",
     "output_type": "stream",
     "text": [
      "Top 20 emojis in texts:\n",
      " #\tEmoji\tNumber\n",
      " 0\t😍\t17335\n",
      " 1\t❤\t14646\n",
      " 2\t👌\t12692\n",
      " 3\t👍\t9942\n",
      " 4\t😂\t6895\n",
      " 5\t😘\t4838\n",
      " 6\t👏\t4400\n",
      " 7\t🤩\t3413\n",
      " 8\t🤣\t3017\n",
      " 9\t♥\t2912\n",
      "10\t🌹\t2441\n",
      "11\t😭\t2334\n",
      "12\t😊\t2122\n",
      "13\t🙏\t2095\n",
      "14\t💜\t1872\n",
      "15\t💙\t1769\n",
      "16\t😁\t1599\n",
      "17\t💖\t1547\n",
      "18\t😅\t1119\n",
      "19\t😐\t1118\n",
      "---------------------\n",
      "The percentage of emojis in the text compared to the total emojis: [49.6%]\n"
     ]
    }
   ],
   "source": [
    "top_num_to_show = 20\n",
    "\n",
    "print(f'Top {top_num_to_show} emojis in texts:\\n #\\tEmoji\\tNumber')\n",
    "\n",
    "i = 0\n",
    "for k in emoji_dict.keys():\n",
    "    print(f'{i:2d}\\t{k}\\t{emoji_dict[k]}')\n",
    "    i += 1\n",
    "    if i >= 20:\n",
    "        break\n",
    "\n",
    "print('---------------------')\n",
    "print(f\"The percentage of emojis in the text compared to the total emojis: \\\n",
    "[{int(len(emoji_dict_nonzero)/len(emoji_dict)*10000)/100}%]\")"
   ]
  },
  {
   "cell_type": "code",
   "execution_count": 12,
   "id": "d9d10052",
   "metadata": {},
   "outputs": [
    {
     "data": {
      "image/png": "[encoded data removed]",
      "text/plain": [
       "<Figure size 9000x1800 with 1 Axes>"
      ]
     },
     "metadata": {},
     "output_type": "display_data"
    }
   ],
   "source": [
    "data_to_show = get_gt_value(emoji_dict, 0)\n",
    "\n",
    "figure(figsize=(30, 6), dpi=300)\n",
    "\n",
    "plt.bar(range(len(data_to_show)), np.log2(list(data_to_show.values())), align='center')\n",
    "plt.xticks(range(len(data_to_show)), list(data_to_show.keys()))\n",
    "plt.xlabel(\"Emoji\")\n",
    "plt.ylabel(\"log2(#)\")\n",
    "plt.title(\"Number of each emoji\")\n",
    "plt.show()"
   ]
  },
  {
   "cell_type": "markdown",
   "id": "da178f31",
   "metadata": {
    "tags": []
   },
   "source": [
    "<h2 style='direction:rtl;font-family: \"B Lotus\";'>§ نرمال‌سازی</h2>"
   ]
  },
  {
   "cell_type": "markdown",
   "id": "e0af859e",
   "metadata": {},
   "source": [
    "<div style='direction:rtl;font-family: \"Lotus\";'>یک کلاس مجزا تعریف شده است که از کلاس <code>Normalizer</code> کتابخانه <code>hazm</code> ارث بری می&zwnj;کند. در این کلاس توابع زیر اضافه شده&zwnj;اند:</div>\n",
    "<ul style='direction:rtl;font-family: \"Lotus\";'>\n",
    "  <li>تابع <code>__init__</code> صرفا به این منظور بازنویسی شده است که تابع <code>aug_data_init</code> را صدا بزند تا محتوای فایل مورد نیاز در متغیرها ذخیره شود. همچنین الفباهای مورد نیاز را مقدار دهی می کند.</li>\n",
    "  <li>تابع <code>aug_data_init</code> فایلی را می&zwnj;خواند و در یک دیکشنری ذخیره می&zwnj;کند. این فایل غلط های متداولی که در متن وجود داشته است را در خود دارد و شکل صحیح آن را نوشته است و دیکشنری ساخته شده برهمین اساس می&zwnj;باشد.</li>\n",
    "    <li>تابع <code>add_space_between_emoji_and_text</code> به منظور ایجاد فاصله میان متن و ایموجی‌ها می‌باشد.</li>\n",
    "  <li>تابع <code>my_normalizer</code> ابتدا خود تابع <code>normalize</code> مربوط به کتابخانه <code>hazm</code> را صدا می کند و خروجی آن را گرفته و تغییرات لازم را متناسب با دیکشنری ای که توسط تابع <code>aug_data_init</code> مقدار دهی شده است را اعمال می&zwnj;کند تا این خطاها نیز رفع شود.</li>\n",
    "</ul>"
   ]
  },
  {
   "cell_type": "code",
   "execution_count": 13,
   "id": "a0a78b15",
   "metadata": {},
   "outputs": [],
   "source": [
    "class MyNormalizer(hazm.Normalizer):\n",
    "    \n",
    "    def __init__(self, persian_alphabet, emoji_alphabet):\n",
    "        super().__init__()\n",
    "        self.aug_data_init()\n",
    "        self.persian_alphabet = persian_alphabet\n",
    "        self.emoji_alphabet = emoji_alphabet\n",
    "        \n",
    "    def aug_data_init(self):\n",
    "        f = open('./../data/augmented_data.txt', 'r')\n",
    "        self.aug_data = f.readlines()\n",
    "        f.close()\n",
    "    \n",
    "    def add_space_between_emoji_and_text(self, sent):\n",
    "        res_sent = ''\n",
    "        for i in range(len(sent)):\n",
    "            if i+1 < len(sent):\n",
    "                if (sent[i] in self.persian_alphabet and sent[i+1] in self.emoji_alphabet) or \\\n",
    "                    (sent[i] in self.emoji_alphabet and sent[i+1] in self.persian_alphabet):\n",
    "                    res_sent += sent[i] + ' '\n",
    "                else:\n",
    "                    res_sent += sent[i]\n",
    "            else:\n",
    "                res_sent += sent[i]\n",
    "        return res_sent\n",
    "        \n",
    "    def my_normalizer(self, text):\n",
    "        text = self.normalize(text)\n",
    "        text = self.add_space_between_emoji_and_text(text)\n",
    "        \n",
    "        aug = {y[0]:y[1] for y in [x.replace('\\n', '').split('\\t') for x in self.aug_data]}\n",
    "\n",
    "        for k in aug:\n",
    "            while k in text:\n",
    "                text = text.replace(k, aug[k])\n",
    "        return text"
   ]
  },
  {
   "cell_type": "code",
   "execution_count": 14,
   "id": "1673c37b",
   "metadata": {},
   "outputs": [],
   "source": [
    "normalizer = MyNormalizer(persian_alphabet, emoji_alphabet)"
   ]
  },
  {
   "cell_type": "code",
   "execution_count": 15,
   "id": "cdd913d3",
   "metadata": {},
   "outputs": [
    {
     "name": "stdout",
     "output_type": "stream",
     "text": [
      "1\tBefore: واقعااااا\t\tAfter: واقعا\n",
      "2\tBefore: عاااالییییی\t\tAfter: عالی\n",
      "3\tBefore: عالیهههه\t\tAfter: عالیه\n",
      "4\tBefore: خداروششششکر\t\tAfter: خداروشکر\n",
      "5\tBefore: دم سازندش گرم😊\t\tAfter: دم سازندش گرم 😊\n",
      "6\tBefore: وانیامم🥳🥳👏\t\tAfter: وانیامم 🥳🥳👏\n"
     ]
    }
   ],
   "source": [
    "test_set = [\"واقعااااا\", \"عاااالییییی\", \"عالیهههه\", 'خداروششششکر', 'دم سازندش گرم😊', 'وانیامم🥳🥳👏']\n",
    "for i, t in enumerate(test_set):\n",
    "    print(f'{i+1}\\tBefore: {t}\\t\\tAfter: {normalizer.my_normalizer(t)}')"
   ]
  },
  {
   "cell_type": "markdown",
   "id": "c996525e",
   "metadata": {},
   "source": [
    "<div style='direction:rtl;font-family: \"Lotus\";'>پیش پردازش اولیه متن:</div>\n",
    "<ul style='direction:rtl;font-family: \"Lotus\";'>\n",
    "  <li>حذف <code>n\\</code> ها</li>\n",
    "  <li>حذف <code>space</code> های اضافه ابتدا و انتهای متن</li>\n",
    "  <li>شکستن متن از نقاط دارای <code>space</code></li>\n",
    "  <li>فقط کامنت‌های انتخاب می‌شوند که حتما متن فارسی نیز داشته باشند</li>\n",
    "</ul>  "
   ]
  },
  {
   "cell_type": "code",
   "execution_count": 23,
   "id": "b495405f",
   "metadata": {},
   "outputs": [
    {
     "name": "stderr",
     "output_type": "stream",
     "text": [
      "100%|█████████████████████████████████████████████████████████████████████████| 90873/90873 [00:00<00:00, 241987.37it/s]"
     ]
    },
    {
     "name": "stdout",
     "output_type": "stream",
     "text": [
      "Comments number: 86365\n",
      "['توی', '۸', 'ساعت', 'مهلت', 'فیلم', '۲', 'بار', 'این', 'فیلم', 'بی', 'نظیر', 'را', 'دیدم،', 'واقعیت', 'جامعه', 'و', 'واقعا', 'و', 'به', 'شدت', 'با', 'احساساتم', 'بازی', 'شد،', 'حتما', 'پیشنهاد', 'میکنم.', 'کاش', 'بیشتر', 'از', 'این', 'فیلم', 'حمایت', 'میشد.', 'با', 'فیلم', 'های', 'هالیوودی', 'برابری', 'میکرد🤣🤣🤣']\n",
      "['ارزش', 'دیدن', 'داره👌']\n",
      "['پسندیدم', '👍']\n",
      "['عااااااااالی', 'بود', '.', 'با', 'بازی', 'آقای', 'درخشانی', 'عزیز', 'عالی', 'ترم', 'شد', '.', 'خیلی', 'قشنگ', 'بود.لذت', 'بردم.👏👏👏']\n",
      "['خیلی', 'خوب', 'بود👌👌']\n",
      "['خوب', 'بود', '👏❤']\n"
     ]
    },
    {
     "name": "stderr",
     "output_type": "stream",
     "text": [
      "\n"
     ]
    }
   ],
   "source": [
    "comments = []\n",
    "for comment in tqdm(comments_with_emoji):\n",
    "    for c in persian_alphabet:\n",
    "        if c in comment:\n",
    "            comments.append(comment.replace(\"&#039;\", \"\\'\").replace('\\n', '').strip().split())\n",
    "            break\n",
    "\n",
    "print(f\"Comments number: {len(comments)}\")\n",
    "head_list(comments, sep='\\n')"
   ]
  },
  {
   "cell_type": "markdown",
   "id": "4e7de797-3066-4310-b315-adb625864321",
   "metadata": {},
   "source": [
    "<div style='direction:rtl;font-family: \"Lotus\";'>نرمال‌سازی به کمک تابع <code>my_normalizer</code> انجام می شود که شامل بخش‌های زیر می‌باشد:</div>\n",
    "<ul style='direction:rtl;font-family: \"Lotus\";'>\n",
    "  <li>اجرای تابع <code>normalizer</code> کتابخانه <code>hazm</code></li>\n",
    "  <li>با استفاده از تابع <code>add_space_between_emoji_and_text</code> در مواردی که بین متن و ایموجی فاصله‌ای وجود ندارد، فاصله ایجاد می کند.</li>\n",
    "  <li>بعضی از اشتباهات یا حالت‌هایی که در متن به صورت محاوره‌ای استفاده می‌شود، اصلاح می‌شود.</li>\n",
    "</ul>  "
   ]
  },
  {
   "cell_type": "code",
   "execution_count": 24,
   "id": "d457e144",
   "metadata": {},
   "outputs": [
    {
     "name": "stderr",
     "output_type": "stream",
     "text": [
      "100%|███████████████████████████████████████████████████████████████████████████| 86365/86365 [01:11<00:00, 1201.14it/s]\n"
     ]
    }
   ],
   "source": [
    "comments_normalized = [[normalizer.my_normalizer(y) for y in x] for x in tqdm(comments)]"
   ]
  },
  {
   "cell_type": "code",
   "execution_count": 25,
   "id": "754d0875",
   "metadata": {},
   "outputs": [
    {
     "name": "stdout",
     "output_type": "stream",
     "text": [
      "امیدوارم خوب باشه 😅\n",
      "جالب بود 👌👌👌\n",
      "عالی هست ممنون از آقای بهرنگ توفیقی 🤩🤩\n",
      "عالی بود 👍\n",
      "من اول فک کردم کارتون قشنگی نیست ولی الان دیدم و عاشقش شدم خیلی کارتون عالی بود حتما حتما ببینید خیلی قشنگه 😍😍😍😍\n",
      "حضرت عباسی عالی بود خیلی خوب ساختن بعیده 😁 پیشنهاد میکنم ببنید این فیلمو خیلی فوق العاده است\n",
      "واقعیت الان برخی جوان های امروز رو به تصویر کشید . خوبه که از فیلم درس بگیرند و ببیند آخرش چی میشه 🙂🙃\n",
      "خیلی ترسناک هست 😵😵😵☠️\n",
      "عالی،، 👍👍👍👍\n",
      "بد نبود 🤭🤩😘😁😘🤩🤩😄😃🤩🤩😗☺😍😗🤩😜☺😜\n",
      "نابغه ها خو وقتی فیلم میاد میتون نظر بدن و بگن عالیه 😐 من شمارو درک نمیکنم خدایی: /\n",
      "لحظه شماری میکنیم واسه اومدن قسمت دو 😂🥺😍\n",
      "خیلی عالی بود 😍😍 مخصوصا منی که اول بازیشو کرده بودم الان فیلمش چند برابر برام قشنگ تر شده\n",
      "خیلی ها این فیلم رو به خاطر امیر حسین آرمان میبین جذاب 😍\n",
      "فیلمه خیلی قشنگیه 👌👌👌👌\n",
      "حرف نداشت 🧡\n",
      "بهترین فیلمی که تو عمرم دیدم خیلی عالی و جذاب پیشنهاد می کنم آب دستون بزارید زمین این فیلم رو ببینید 😍\n",
      "تشکر می کنم از فیلیمو که حد اقل تریلر فیلمو سانسور نکرده 😄\n",
      "معرکه بود ❤❤❤❤❤❤❤❤❤\n",
      "عالی بود 👏🏻\n",
      "خیلی قشنگ بود ولی ایکاش دوبله نمی شد  …🌹🌹🌹🌹\n",
      "ماشاله به رئیس جهمور با فکر و دلسوز مون 😍 خدا حفظشون کنه که انقدر مردمی و به فکر هستند …. با ارزوی اقتدار و موفقیت های روز افزون برای کشورمون 😇\n",
      "خیلی خوب و عالی بود 🎀🎀💜💙🎊🎉\n",
      "خیلی بده 😩\n",
      "عالی بود. 😇😇😇😇😇😇😇😇😇\n",
      "یوسف تیموری چقد خوب نقش جدی و بازی کرده اینجا 👍👍\n",
      "فوق العاده هست 😎😎\n",
      "خیلی خیلی عاشق هری پاتر هستم هر روز براش گریه میکنم ☺\n",
      "ای کاش دست بابات آتش نمی گرفت 😥\n",
      "این قسمت زنی که دست بزن داشت 😁😆😅🤣\n",
      "اره عالی بود ♥♥\n",
      "واقعا قشنگ بود 👍🏻☺️\n",
      "واقعا دمتون گرم کی فصل بعدی میاد عالی 😂😂😂😂😂😂😂🙄🙄🙄🙄🙄🙄😚😚😚😆😆😆😆😆🐒🐒🐒🐒\n",
      "یه شاهکار دیگه از کیایی ها 👏👏🌹\n",
      "دو ستاره بزرگ بینظیر 🥇🌟🌟😢😢😢\n",
      "مگه میشه رضاعطاران باشه و بدباش؟ رضا عطاران کراش نیم قرن ایران ✌️😂\n",
      "خیلی فیلم قشنگی است 😍 عالی\n",
      "خیلی قشنگ است من گریم گرفت انشا اله هیچکس پدر ماد و خانواده اش را از دست ندهد 😭😭😭🤲🤲\n",
      "سلطان عزتی بازی کرده حتما خفنه 😍\n",
      "بازی ها ، بسیار پخته و حرفه ای بودن . متن هم جذاب و خنده دار بود . تئاتر خیلی خوبی بود . از تمام عوامل ، سپاسگزارم . 👌🌸\n",
      "دوس داشتم عالی ❤💔💓💋👄😘\n",
      "جالب بود 😘😘\n",
      "خیلی خنده دار بود مردم ازخنده 🤣🤣🤣🤣😂😂😂😂😂😅😅😅😅😅\n",
      "این فیلم عالی هست 🧛‍♀️🧛‍♀️🧛‍♂️\n",
      "این فیلم عالی هست من هرچقدر میبینم ازش سیر نمیشم 😍😍\n",
      "عالی بود یه چیز متفاوت و جذاب 🙌🙌🙌🙌\n",
      "عالی بود 👌👌 فقط بیش از حد شانس داشتن اگه یکم بدبختی می اوردن بهتر بود 😂\n",
      "بهترین فیلمی بود که دیدم حرف نداره 🤩🤩😍😍😘😘🥰🥰عالی 👌🏻👌🏻👌🏻👌🏻\n",
      "واقعا محشر و عالی 👏👏👍👍\n",
      "خیلی زیبا و قشنگ بود 🥰🥰❤❤👍🏻👍🏻\n"
     ]
    }
   ],
   "source": [
    "for x in random.sample(comments_normalized, 50):\n",
    "    print(' '.join(x))"
   ]
  },
  {
   "cell_type": "markdown",
   "id": "8f41a6e1-c897-4137-95a1-554ab3e85170",
   "metadata": {},
   "source": [
    "<h2 style='direction:rtl;font-family: \"B Lotus\";'>§ جمله‌بندی</h2>"
   ]
  },
  {
   "cell_type": "code",
   "execution_count": 26,
   "id": "02047700",
   "metadata": {},
   "outputs": [
    {
     "name": "stderr",
     "output_type": "stream",
     "text": [
      "100%|█████████████████████████████████████████████████████████████████████████| 86365/86365 [00:00<00:00, 392511.13it/s]\n"
     ]
    }
   ],
   "source": [
    "comments_sentences = [hazm.sent_tokenize(' '.join(x)) for x in tqdm(comments_normalized)]"
   ]
  },
  {
   "cell_type": "code",
   "execution_count": 29,
   "id": "a9d36438",
   "metadata": {},
   "outputs": [
    {
     "name": "stdout",
     "output_type": "stream",
     "text": [
      "🤩🤩🤩 عالی بود میشه ۴ رو هم بسازید ممنون\n",
      "خیلی خوب بود یعنی من توی عمرم انقدر نخندیده بودم 😅😅\n",
      "عالی عالی 👌\n",
      "واقعا عالی بود ❤ محشر بود\n",
      "من هزار بار ببینم خسته نمیشم.. ### فوق العادس 👌\n",
      "تیزرش یه جوری بود نمی‌دونم چرا حس می کنم ملکه گدایان نمیشه با اینا مقایسه کرد اون یچی دیگه بود 😐😍 تیزرش شبیه سنفونی نهم بی روح و بی حس و حال یه فیلم مسخره حالا شاید خوب باشه من که فقط بخاطر فرزاد فرزین یعنی آهنگش می خوام ببینم برقیه پچیزی مهم نی\n",
      "عالی بود دمتون گرم🥰😍\n",
      "فوق العاده ، خانم صامتی با اختلاف بهترین بازیگر زن ایران 😍\n",
      "خیلی غمگینه اعصابم خورد شد 😭\n",
      "خیلی فیلم قشنگی بود 👌🏼\n",
      "من رفتم سینما دیدم مردم از خنده ممنونم از سازنده و بازیگر های حرفه ای 😂🤣🤗\n",
      "عالی بود 😘😘😘😘💯💯💯⁦♥️⁩⁦♥️⁩⁦♥️⁩😍😍😍😍\n",
      "فیلم خیلی عالی بود حتما ببینید 😍😍😍🤩🤩🤩🤩\n",
      "عالی بود 👏🏻👏🏻👏🏻⚘⚘⚘\n",
      "بی صبرانه منتظر قسمت های جدید بی گناه هستم. ### برای قسمت اول فوق العاده بود. ### 😍\n",
      "آقای فرزاد فرزین یکتاست هم صداش عالیه ❤ هم بازیگریش 💙💌 من یکی از طرف داره ویژه فرزاد جون هستم 💌💞 مثل همیشه عالی 💞\n",
      "خیلی مزخرف بود حیف اینترنت 😐\n",
      "خیلی کارتون عالی و قشنگ بود 😍😍❤❤❤❤\n",
      "خیلی قشنگه 😅😅😅\n",
      "من دیدم عالی بود ❤❤❤❤🤗\n",
      "عالی ممنون از بازیگرانش که اینقدر خوب و محشر بازی کردن 👌😍\n",
      "عالی واقعا قشنگ بود لحظه لحظه شو داریم تو زندگیمون میبینیم .. ### یه فیلم کاملا پراز احساس شورو زندگی و امید .. ### وتفاوتها و دیدگاهای غلط بعضی از مردم بر زندگی همه ما …👍👍👍👍😍😍\n",
      "این فیلم خوبه عاشقان ماه هم خیلی قشنگه ❤\n",
      "سلام خسته نباشید 🙏🌹 عالی عالی واقعا عالی بود مخصوصا با اجرای سرکار خانم سحر قریشی واقعا خوب خیلی خوب بود 👍👏 سحر قریشی: گودا 😅😜\n",
      "خیلی باحال بو 😍 از نظر من که ترسناک نیست\n",
      "قسمت اول عالی بود واقعا 👌\n",
      "فیلم ترسناک و خوبی بود 😀\n",
      "بسیار جذاب و عالی مخصوصا بازی حامد بهداد عزیز ❤️❤️❤️❤️❤️❤️❤️❤️❤️❤️\n",
      "خیلی باحال بود 🤣🤣🤣🤣\n",
      "۱۲ شب داشتم فیلم رو نگاه میکردم که تا صبح نتوانستم بخوابم 🤣🤣🤣😘💖😇\n",
      "عالی بود 👌❤️\n",
      "عالی بود حرف نداشت 😎🤯\n",
      "عالی بود 👌\n",
      "عالی بود 👍\n",
      "بهترین فیلمى که دیدم ❤️❤️❤️❤️❤️❤️😘😘😘😍😍😍😍😍\n",
      "عالی بود ❤❤❤❤❤❤\n",
      "به واقع کریستوفر والتس شایسته دریافت اسکار بود 👌🏻\n",
      "سلام واقعا این فیلم قشنگه بهتون پیشنهاد میکنم ببینید ممنون از فیلیمو باتشکر از فیلیمو 😍\n",
      "😅😅😅 خنده داربود\n",
      "فیلمنامه به معنای واقعی بینظیر بود ❤️\n",
      "فقط امیر آقایی 🌹⚘\n",
      "خوب بود 😍😍😍😍😍😍😍\n",
      "فوق العاده بود 😍😍😍😍😍\n",
      "بابا دمتون گرم 😘\n",
      "عالی بود 😀😀😀😀😀\n",
      "خیلی ممنون از سازندگان فیلم ♥️♥️♥️♥️♥️♥️♥️\n",
      "خیلی عالی بود حتما ببینید 👏👏👏\n",
      "خیلی خوب بود واقعا عالی ❤️\n",
      "چقدر بهاره افشاری قوی بازی می کرد ، عالی بود 👏👏👏👏\n",
      "بسیار بسیار زیبا 😍😍\n"
     ]
    }
   ],
   "source": [
    "for x in random.sample(comments_sentences, 50):\n",
    "    print(' ### '.join(x))"
   ]
  },
  {
   "cell_type": "markdown",
   "id": "4213e71e-7924-4cd8-b29f-cbe813c2afb0",
   "metadata": {},
   "source": [
    "<h2 style='direction:rtl;font-family: \"B Lotus\";'>§ توکنیزیشن</h2>"
   ]
  },
  {
   "cell_type": "code",
   "execution_count": 30,
   "id": "e0965a0b",
   "metadata": {},
   "outputs": [
    {
     "name": "stderr",
     "output_type": "stream",
     "text": [
      "100%|█████████████████████████████████████████████████████████████████████████| 86365/86365 [00:00<00:00, 139561.49it/s]\n"
     ]
    }
   ],
   "source": [
    "comments_tokens = [[hazm.word_tokenize(sent) for sent in sents] for sents in tqdm(comments_sentences)]"
   ]
  },
  {
   "cell_type": "code",
   "execution_count": 31,
   "id": "737e2e80",
   "metadata": {},
   "outputs": [
    {
     "name": "stdout",
     "output_type": "stream",
     "text": [
      "[['بسیار', 'آموزنده', 'و', 'زیبا', 'بود', '.'], ['پیشنهاد', 'میکنم', 'که', 'ببینید', '❤']]\n",
      "[['این', 'بهترین', 'و', 'زیبا', 'ترین', 'فیلمی', 'هست', 'که', 'من', 'دید', 'عالی', 'عالی', 'عالی', '👌👌👌👍👍👍']]\n",
      "[['خیلی', 'فیلم', 'عالی', 'بود', '😍😍😍']]\n",
      "[['من', 'که', 'خوشم', 'نیومد', 'چی', 'بود', 'بابامن', 'به', 'امید', 'اینکه', 'دارکساید', 'میاد', 'باهاشون', 'میجنگه', '۴', 'ساعت', 'وقت', 'گذاشتم', 'دیدم', '.'], ['حیف', 'وقت', '😒']]\n",
      "[['واقعا', 'فیلم', 'عالیه', '😍']]\n",
      "[['خیلی', 'عالی', 'بود', '😁']]\n",
      "[['بسیار', 'عالی', '😍']]\n",
      "[['عالی', 'سریالش', 'پشنهاد', 'میکنم', 'ببینید', '👍👍']]\n",
      "[['خوب', 'بود', '👌👌👌']]\n",
      "[['حرف', 'نداره', '✌🏼']]\n",
      "[['این', 'فیلم', 'پر', 'از', 'معنا', 'و', 'مفهوم', 'بود', 'و', 'خیلی', 'جذاب', '❤️👍😉']]\n",
      "[['واقعا', 'عالی', 'بود', '💋💋💋💋💋💋💋💋💋💋👄👄👄👄👄👄👄👄👄👄❤❤❤❤❤❤❤❤❤❤😚😚😚😚😚😚😚😚😚😚😍😍😍😍😍😍😍😍😍😍']]\n",
      "[['قشنگ', 'بود', '👍👍👍👍👍👍']]\n",
      "[['خیلی', 'عالی', 'و', 'با', 'حال', 'بوده', '💯']]\n",
      "[['بسیار', 'عالی', 'و', 'زیبا', '👌']]\n",
      "[['نگاه', 'های', 'احسان', 'به', 'نیلوفر', '…', '.'], ['چقدر', 'هنرمندی', 'تو', 'جواد', 'عزتی', '❤']]\n",
      "[['خدا', 'آتش', 'نشان', 'ها', 'را', 'رحمت', 'کند', '😭😭😭😭😭😭😥😥😥😥😥😪😪😪😢😢😢😢']]\n",
      "[['عالی', 'بود', '😍😍😍😍😊😊😊😊😊😇😇😇😇😇😇']]\n",
      "[['عالی', '👍👍']]\n",
      "[['خیلی', 'عالی', 'بود', 'و', 'هیجان', 'انگیز', 'اون', 'مامان', 'باباش', 'حقشون', 'بود', 'بمیرن', '😏']]\n",
      "[['عالی', 'بود', '👍🏻👍🏻', '٢', 'بار', 'نگاه', 'کردم', '👍🏻']]\n",
      "[['عالی', 'بود', 'مخصوصا', 'هومن', 'حاجی', 'ابدالهی', 'مردم', 'از', 'خنده', '🤣']]\n",
      "[['از', 'این', 'بهتر', 'نداریم', '😂😂😂']]\n",
      "[['واقعا', 'فوق', 'العادس', 'قابل', 'وصف', 'نیست', 'قدرت', 'بازیگری', 'فینیکس', '👌']]\n",
      "[['فوق', 'العاده', 'خوب', 'بود', '😍😍😍']]\n",
      "[['این', 'قشنگ', 'ترین', 'و', 'مفهومی', 'ترین', 'انیمیشنی', 'بود', 'که', 'تا', 'حالا', 'دیدم', '😍😍😍', 'حتی', 'فکر', 'اینکه', 'تو', 'بدن', 'ما', 'هم', 'چنین', 'مرکز', 'کنترل', 'احساساتی', 'وجود', 'داشته', 'باشه', 'و', 'دائما', 'برای', 'حال', 'ما', 'تلاش', 'میکند', 'هم', 'جذابه🥰']]\n",
      "[['خیلی', 'تاثیر', 'گذار', 'بود', '🙂']]\n",
      "[['من', 'عاشق', 'شعر', 'خوندن', 'آدرین', 'شدم', 'وقتی', 'غمگین', 'بود', 'هزار', 'بار', 'این', 'فیلمو', 'دیدم', 'بخاطر', 'اون', 'یه', 'تیکه', '😂', 'اما', 'در', 'کل', 'خیلی', 'خیلی', 'فیلم', 'قشنگی', 'بود', 'عالی', '🤞🤞💜']]\n",
      "[['خیلی', 'قشنگ', 'بود', 'ممنونم', '👏']]\n",
      "[['فیلم', 'منو', 'با', 'خودش', 'برد', '…', '.', '.'], ['انگار', 'اونجا', 'داشتم', 'زندگی', 'میکردم', '،', 'خیلی', 'طبیعی', 'و', 'روان', 'بازی', 'کرده', 'بودن', '،', 'انگار', 'خود', 'واقعیشون', 'بودن', '،', '،', '،', 'مرسی', 'از', 'سروش', 'صحت', '،', 'مرسی', 'از', 'فیلیموی', 'دوست', 'داشتنی', '،', '،', '،', '،', '،', 'هانیه', 'توسلی', 'هم', 'بهترینه', '❤']]\n",
      "[['عالی', '🙏❤️']]\n",
      "[['مگا', 'استار', 'خفنمون', 'مثل', 'همیشه', 'عالی', 'بود', '🧡🌟']]\n",
      "[['خیلی', 'عالی', 'بود', '♥️😍😍😍😍']]\n",
      "[['خداحافظ', 'اسطوره', '😪😪😪😫😭']]\n",
      "[['عالی', 'عالی', 'عالی', 'عالی', 'حرف', 'نداشت', '☺☺☺']]\n",
      "[['من', 'او', 'دختر', 'رو', 'خیلی', 'دوست', 'دارم', 'من', '😉', '😂😂😂😂😂😂😂']]\n",
      "[['بیست', 'بود', '👍👍👍👍👍👍']]\n",
      "[['عالی', 'بود', '😍😍😍😍😍😊']]\n",
      "[['واقعا', 'عالیه', '👏👏👏👏']]\n",
      "[['خوب', 'بود', '👍👍👍']]\n",
      "[['بیگ', 'لایک', 'عالی', '👌']]\n",
      "[['خیلی', 'انمیشن', 'خوبی', 'بود', 'من', 'واقعا', 'از', 'تماشا', 'کردنش', 'لذت', 'بردم', '👌🏻']]\n",
      "[['یعنی', 'عالی', '👏👏👏👏👏👏👏👏👏👏👏👏👏👏👏👏👏👏👏👏👏👏👏👏👏👏👏👏👏👏👏👏👏👏👏']]\n",
      "[['عالی', '😊😍']]\n",
      "[['قسمت', 'اول', 'بی\\u200cنهایت', 'عالی', '😍😍😍😍😍']]\n",
      "[['عالی', 'با', 'سه', 'بازیگر', 'فوق\\u200cالعاده', '😘😘😘😘😘']]\n",
      "[['آنجلینا', 'جولی', 'در', 'نقش', 'مالیفیسنت', 'خفن', 'تره', 'تا', 'خود', 'واقعیش', 'نظر', 'شما', 'چیه', 'نظر', 'من', 'که', 'یک', 'دوختر', '۹', 'ساله', 'هستم', 'اینه', '🤣😘😇❤😍😚☺']]\n",
      "[['فیلم', 'عالی', '،', 'روح', 'اله', 'فوق', 'العاده', '،', 'قلبم', 'از', 'غصه', 'ی', 'این', 'بچه', 'ها', 'مچاله', 'شد', '😔']]\n",
      "[['عالیه', '👌👌👌']]\n",
      "[['عالی', '😙😊🥰🤩']]\n"
     ]
    }
   ],
   "source": [
    "for x in random.sample(comments_tokens, 50):\n",
    "    print(x)"
   ]
  },
  {
   "cell_type": "markdown",
   "id": "32dfd889-33ae-44b0-8b24-acfb6d15148d",
   "metadata": {},
   "source": [
    "<h2 style='direction:rtl;font-family: \"B Lotus\";'>§ تحیلی بسامد</h2>"
   ]
  },
  {
   "cell_type": "code",
   "execution_count": 47,
   "id": "d2945b93",
   "metadata": {},
   "outputs": [
    {
     "data": {
      "text/html": [
       "<div>\n",
       "<style scoped>\n",
       "    .dataframe tbody tr th:only-of-type {\n",
       "        vertical-align: middle;\n",
       "    }\n",
       "\n",
       "    .dataframe tbody tr th {\n",
       "        vertical-align: top;\n",
       "    }\n",
       "\n",
       "    .dataframe thead th {\n",
       "        text-align: right;\n",
       "    }\n",
       "</style>\n",
       "<table border=\"1\" class=\"dataframe\">\n",
       "  <thead>\n",
       "    <tr style=\"text-align: right;\">\n",
       "      <th></th>\n",
       "      <th>token</th>\n",
       "      <th>freq</th>\n",
       "    </tr>\n",
       "  </thead>\n",
       "  <tbody>\n",
       "    <tr>\n",
       "      <th>0</th>\n",
       "      <td>عالی</td>\n",
       "      <td>43377</td>\n",
       "    </tr>\n",
       "    <tr>\n",
       "      <th>1</th>\n",
       "      <td>بود</td>\n",
       "      <td>43027</td>\n",
       "    </tr>\n",
       "    <tr>\n",
       "      <th>2</th>\n",
       "      <td>خیلی</td>\n",
       "      <td>28972</td>\n",
       "    </tr>\n",
       "    <tr>\n",
       "      <th>3</th>\n",
       "      <td>و</td>\n",
       "      <td>15170</td>\n",
       "    </tr>\n",
       "    <tr>\n",
       "      <th>4</th>\n",
       "      <td>فیلم</td>\n",
       "      <td>14350</td>\n",
       "    </tr>\n",
       "    <tr>\n",
       "      <th>5</th>\n",
       "      <td>این</td>\n",
       "      <td>10258</td>\n",
       "    </tr>\n",
       "    <tr>\n",
       "      <th>6</th>\n",
       "      <td>که</td>\n",
       "      <td>9434</td>\n",
       "    </tr>\n",
       "    <tr>\n",
       "      <th>7</th>\n",
       "      <td>از</td>\n",
       "      <td>8986</td>\n",
       "    </tr>\n",
       "    <tr>\n",
       "      <th>8</th>\n",
       "      <td>من</td>\n",
       "      <td>8609</td>\n",
       "    </tr>\n",
       "    <tr>\n",
       "      <th>9</th>\n",
       "      <td>.</td>\n",
       "      <td>8082</td>\n",
       "    </tr>\n",
       "    <tr>\n",
       "      <th>10</th>\n",
       "      <td>خوب</td>\n",
       "      <td>6721</td>\n",
       "    </tr>\n",
       "    <tr>\n",
       "      <th>11</th>\n",
       "      <td>واقعا</td>\n",
       "      <td>6145</td>\n",
       "    </tr>\n",
       "    <tr>\n",
       "      <th>12</th>\n",
       "      <td>قشنگ</td>\n",
       "      <td>6108</td>\n",
       "    </tr>\n",
       "    <tr>\n",
       "      <th>13</th>\n",
       "      <td>،</td>\n",
       "      <td>5248</td>\n",
       "    </tr>\n",
       "    <tr>\n",
       "      <th>14</th>\n",
       "      <td>به</td>\n",
       "      <td>4961</td>\n",
       "    </tr>\n",
       "    <tr>\n",
       "      <th>15</th>\n",
       "      <td>رو</td>\n",
       "      <td>4701</td>\n",
       "    </tr>\n",
       "    <tr>\n",
       "      <th>16</th>\n",
       "      <td>عالیه</td>\n",
       "      <td>4178</td>\n",
       "    </tr>\n",
       "    <tr>\n",
       "      <th>17</th>\n",
       "      <td>😍</td>\n",
       "      <td>4132</td>\n",
       "    </tr>\n",
       "    <tr>\n",
       "      <th>18</th>\n",
       "      <td>هم</td>\n",
       "      <td>4108</td>\n",
       "    </tr>\n",
       "    <tr>\n",
       "      <th>19</th>\n",
       "      <td>حتما</td>\n",
       "      <td>3906</td>\n",
       "    </tr>\n",
       "    <tr>\n",
       "      <th>20</th>\n",
       "      <td>بهترین</td>\n",
       "      <td>3500</td>\n",
       "    </tr>\n",
       "    <tr>\n",
       "      <th>21</th>\n",
       "      <td>ببینید</td>\n",
       "      <td>3269</td>\n",
       "    </tr>\n",
       "    <tr>\n",
       "      <th>22</th>\n",
       "      <td>ولی</td>\n",
       "      <td>3239</td>\n",
       "    </tr>\n",
       "    <tr>\n",
       "      <th>23</th>\n",
       "      <td>با</td>\n",
       "      <td>3050</td>\n",
       "    </tr>\n",
       "    <tr>\n",
       "      <th>24</th>\n",
       "      <td>فوق</td>\n",
       "      <td>3014</td>\n",
       "    </tr>\n",
       "    <tr>\n",
       "      <th>25</th>\n",
       "      <td>دیدم</td>\n",
       "      <td>3013</td>\n",
       "    </tr>\n",
       "    <tr>\n",
       "      <th>26</th>\n",
       "      <td>العاده</td>\n",
       "      <td>2758</td>\n",
       "    </tr>\n",
       "    <tr>\n",
       "      <th>27</th>\n",
       "      <td>ممنون</td>\n",
       "      <td>2716</td>\n",
       "    </tr>\n",
       "    <tr>\n",
       "      <th>28</th>\n",
       "      <td>👌</td>\n",
       "      <td>2696</td>\n",
       "    </tr>\n",
       "    <tr>\n",
       "      <th>29</th>\n",
       "      <td>زیبا</td>\n",
       "      <td>2407</td>\n",
       "    </tr>\n",
       "    <tr>\n",
       "      <th>30</th>\n",
       "      <td>بسیار</td>\n",
       "      <td>2376</td>\n",
       "    </tr>\n",
       "    <tr>\n",
       "      <th>31</th>\n",
       "      <td>دوست</td>\n",
       "      <td>2317</td>\n",
       "    </tr>\n",
       "    <tr>\n",
       "      <th>32</th>\n",
       "      <td>بی</td>\n",
       "      <td>2221</td>\n",
       "    </tr>\n",
       "    <tr>\n",
       "      <th>33</th>\n",
       "      <td>فیلیمو</td>\n",
       "      <td>2215</td>\n",
       "    </tr>\n",
       "    <tr>\n",
       "      <th>34</th>\n",
       "      <td>❤</td>\n",
       "      <td>2210</td>\n",
       "    </tr>\n",
       "    <tr>\n",
       "      <th>35</th>\n",
       "      <td>خنده</td>\n",
       "      <td>2188</td>\n",
       "    </tr>\n",
       "    <tr>\n",
       "      <th>36</th>\n",
       "      <td>👍</td>\n",
       "      <td>2154</td>\n",
       "    </tr>\n",
       "    <tr>\n",
       "      <th>37</th>\n",
       "      <td>فقط</td>\n",
       "      <td>2037</td>\n",
       "    </tr>\n",
       "    <tr>\n",
       "      <th>38</th>\n",
       "      <td>بازی</td>\n",
       "      <td>2009</td>\n",
       "    </tr>\n",
       "    <tr>\n",
       "      <th>39</th>\n",
       "      <td>تو</td>\n",
       "      <td>1929</td>\n",
       "    </tr>\n",
       "    <tr>\n",
       "      <th>40</th>\n",
       "      <td>وای</td>\n",
       "      <td>1911</td>\n",
       "    </tr>\n",
       "    <tr>\n",
       "      <th>41</th>\n",
       "      <td>در</td>\n",
       "      <td>1880</td>\n",
       "    </tr>\n",
       "    <tr>\n",
       "      <th>42</th>\n",
       "      <td>داره</td>\n",
       "      <td>1856</td>\n",
       "    </tr>\n",
       "    <tr>\n",
       "      <th>43</th>\n",
       "      <td>خوبه</td>\n",
       "      <td>1780</td>\n",
       "    </tr>\n",
       "    <tr>\n",
       "      <th>44</th>\n",
       "      <td>های</td>\n",
       "      <td>1763</td>\n",
       "    </tr>\n",
       "    <tr>\n",
       "      <th>45</th>\n",
       "      <td>ها</td>\n",
       "      <td>1726</td>\n",
       "    </tr>\n",
       "    <tr>\n",
       "      <th>46</th>\n",
       "      <td>همه</td>\n",
       "      <td>1702</td>\n",
       "    </tr>\n",
       "    <tr>\n",
       "      <th>47</th>\n",
       "      <td>تا</td>\n",
       "      <td>1688</td>\n",
       "    </tr>\n",
       "    <tr>\n",
       "      <th>48</th>\n",
       "      <td>هست</td>\n",
       "      <td>1644</td>\n",
       "    </tr>\n",
       "    <tr>\n",
       "      <th>49</th>\n",
       "      <td>😍😍</td>\n",
       "      <td>1644</td>\n",
       "    </tr>\n",
       "  </tbody>\n",
       "</table>\n",
       "</div>"
      ],
      "text/plain": [
       "     token   freq\n",
       "0     عالی  43377\n",
       "1      بود  43027\n",
       "2     خیلی  28972\n",
       "3        و  15170\n",
       "4     فیلم  14350\n",
       "5      این  10258\n",
       "6       که   9434\n",
       "7       از   8986\n",
       "8       من   8609\n",
       "9        .   8082\n",
       "10     خوب   6721\n",
       "11   واقعا   6145\n",
       "12    قشنگ   6108\n",
       "13       ،   5248\n",
       "14      به   4961\n",
       "15      رو   4701\n",
       "16   عالیه   4178\n",
       "17       😍   4132\n",
       "18      هم   4108\n",
       "19    حتما   3906\n",
       "20  بهترین   3500\n",
       "21  ببینید   3269\n",
       "22     ولی   3239\n",
       "23      با   3050\n",
       "24     فوق   3014\n",
       "25    دیدم   3013\n",
       "26  العاده   2758\n",
       "27   ممنون   2716\n",
       "28       👌   2696\n",
       "29    زیبا   2407\n",
       "30   بسیار   2376\n",
       "31    دوست   2317\n",
       "32      بی   2221\n",
       "33  فیلیمو   2215\n",
       "34       ❤   2210\n",
       "35    خنده   2188\n",
       "36       👍   2154\n",
       "37     فقط   2037\n",
       "38    بازی   2009\n",
       "39      تو   1929\n",
       "40     وای   1911\n",
       "41      در   1880\n",
       "42    داره   1856\n",
       "43    خوبه   1780\n",
       "44     های   1763\n",
       "45      ها   1726\n",
       "46     همه   1702\n",
       "47      تا   1688\n",
       "48     هست   1644\n",
       "49      😍😍   1644"
      ]
     },
     "execution_count": 47,
     "metadata": {},
     "output_type": "execute_result"
    }
   ],
   "source": [
    "from nltk import FreqDist\n",
    "import itertools\n",
    "import pandas as pd\n",
    "\n",
    "tokens = list(itertools.chain(*itertools.chain(*comments_tokens)))\n",
    "\n",
    "dataframe = {}\n",
    "\n",
    "data = FreqDist(tokens).most_common(50)\n",
    "     \n",
    "\n",
    "freq_analysis = pd.DataFrame(data, columns=['token', 'freq'])  \n",
    "freq_analysis"
   ]
  },
  {
   "cell_type": "code",
   "execution_count": 50,
   "id": "d4373e16-ee65-4501-aa22-a12993045947",
   "metadata": {},
   "outputs": [
    {
     "name": "stdout",
     "output_type": "stream",
     "text": [
      "Number of words  715203          \n",
      "Number of unique words 41106           \n",
      "Average word length 3.9047165629898086\n",
      "Longest word     💞💞💖💖💖💖💖❤❤💚💚💚💜💗💗💜💚❤💖💖💞💞💖❤💜💜💜💜💜💗💗💗💜💚❤💖💞💞💞❤💚💚💜💗💗💗💗💜💜💜💜💗💗💚❤💞💞💞💖💍💖😍😍😍😍😍😍😍😍😍😍😍😍😍😍😍😍😘😘😘😘😘😘😘😘😘😘😘⭐⭐⭐⭐⭐⭐🌠🌠💘💘🌠🌠🌠⭐⭐⭐💜💜💗💗😂💗🌠🌠💘💘😘💍💍💍😘💍💍⭐⭐🌠🌠💘💘💘🌠🌠⭐💍💍❤😘❤😘❤❤😘😘❤😘💍❤❤💚💚💚💜💜💗💗💗💗😂😂💘💘💘💘💘💘💘💕💕💕💕💕💕💕💕💕💕💕💞💞💞💘💘💘💞💞💞💞💘💞💞💞💚💚💜💜💖💖💖💖💞💞💞💞💞💞💘💘💘💞💞💖💖💚💚💜💚❤❤❤❤❤❤💗💗💗💗💓💓💕💕💕💕💓💓💓💓💕💕💕💓💓💓💓💓💕💕💕💕💕💕💕💕⭐⭐🌠🌠⭐⭐🌠🌠⭐⭐🌠⭐⭐⭐⭐⭐🌠🌠🌠⭐⭐🌠🌠🌠🌠🌠🌠🌠🌠🌠⭐⭐🌠🌠🌠🌠💚💚❤💗💓💕⭐🌠🌠🌠🌠🌠⭐⭐💓💗💚💚❤💓💓⭐🌠🌠🌠💜💜💜⭐⭐⭐⭐🌠💜💜🌠💖⭐⭐⭐💕💞💕💕💖💕💘💘💓💓😂😂💗💗💓💘💘😂💗💗❤💚💚😘😘😘💍😂💘💖😘😘😘💍😂💘💞💖💜💖💖😍😍😍💖💖💖💓💗😘😘😘💚💚💗💘💞💞💕💞💞💖💜💜💖💕💍💍😘😂💕⭐💜💜💜💜💕💘💍💍💚💚😘😘😘💚😂💞💖💜💜💜🌠🌠🌠💜💜⭐⭐💖💖💖💞💖💘❤💚💍😘💚😘💚😘❤❤😂💘💞💘💞💞💖💞💘😂💘💘😂💍😂😂😂😂😂😂❤💍❤❤😘💚💚💚😘💚❤❤❤💗💓💓💕💕⭐⭐🌠🌠💜💜💜💖💖💞😂😘😘😘😂💘💜💜💜🌠🌠⭐⭐💓💗💗❤💚😘😂😂💘💞💞💖🌠⭐💕💕💓💗❤💚💚💗💓💕💕⭐💖💜💜💖💞😂😂😂💍😘😘😘😂❤❤💓💕💖💞😂😂😘😘💗💗💓💞💜💖💜💘💖💗💘💘❤💘❤💚💗❤💍💓💗💕💗⭐💞💜💖💜💕⭐💓💓❤💗💚⭐💓⭐💜💘⭐💘💕💘❤💘❤💚❤💚😂💚💘💍💞💗💖💕💜💕💖💓💕💗💘❤💚💗😘💗😂💍💞😂💘💖💜💕💜💕💖💓💘😂😘😂😘😂💞😂💕💜💖💓💞💓💓❤💗💚💍💓💘💖💞😂😂😘😂💞💖💓💜💞💖💘😂💞😂💍💍😘😂😂💞💜💞💜💖⭐💗💕💗💕💗💓❤💗💚💗❤💕💗💓⭐⭐💕💕🌠💕⭐⭐💓💓💗💓❤❤💓💓😂💖💘💜💞💜💕💓⭐💞💗❤💘💚💗❤💗😂❤💓❤❤💓💘❤💘💗💘💗💘❤💘❤❤💘💘❤💍💘💍💘💘💍💍💘💍💘💗❤💞💗💖💓💕💖💜💕💕💖💞💗😂💍😘💍💚💗❤💗💕💗💓⭐💜💕💕💖💞😂💍😂😘💍💍💘💞😂💞😂💞💗💗💕💓⭐💖💕💜💞😈💞💓💖💞💗💘💗💘💗💞💗💓💞💓💗💞💗💞💗💕💕💗💘💞💗💞💗💕💗💞💞💕💗💗💕💗💕💕💗💗💓💗💓💓💓💗💕💗💓⭐⭐💕🌠💕⭐🌠🌠⭐🌠😈💞💗💕💗💖💕💕🌠💖💕💖💓💕💓💖💘💘💖💖💘💓💘💖💘💖💘💖💓💖💓💕💘💕💕💗💕💗💕💓💖💓💓💖💖💓💕💖💓💖💖💓⭐💓⭐💓💓⭐⭐💓💕⭐💖💓💖💕💕⭐💕⭐💕⭐⭐💕💓⭐💕💓💓💕💓❤💗💗❤💕💓💓⭐⭐💓💗💕💓❤❤💓💓❤💓❤💓❤💓❤💗❤💓❤💓❤💓❤💓❤❤💓❤💓💓💗💓💗💓❤💗❤💗💗❤💗❤😂💘😂💘😂💍😂😘💍💍😘😂💍😂💘💞💞💜💜💜💜😈😈😈😈😈😈😈😈💜💜😍😍😍😍😍😍😍😍😍😍😍⭐💕💓💞💗❤💓😂💘😂💓💓💓😂💞💘💞💘💞💞😂💓💗💍😘😂💚❤💚❤💚💍💚💚💚❤💚😘💍💍😘💍😂💘💍💘😂💘💖💖💞💜💖💜💜💜💖💖💜💜💖💜💖💖💘💖💞💘💞😂💞💍😂😘💍😘💍💍😂💍💘💖💘💜💖💖💜😈💖😍😈😈😍😍😈😈😍😈😍😍😈😍😈💖💜💖💜💖💜💖💜💖💜⭐🌠💕⭐💕💓💕❤💗❤💗💚❤💚❤💚❤💚💍💍😂😂💘💖💕💜💖😈💖😈😍😍😍😍😍😍😍😍😈😈😈😈😈😈😈😍😈😍😈😍⭐⭐⭐💜💕💖💓⭐💖💓💓💕💕💓💗💕😈😈😍😈😍😈😈😍😍😈😈😍😍😈😍😈😍😈💖💜💖💜💕💖💖💓💗💞💘💘💍💘💍😂💍😂😂💍💘😂💘💞💘😳💘😳💘💞😂💞💘😳💘💞💞💘😂💞💍💘💍😂😂💍😂💍💘❤💘💘💘💗💓💞💓💕💞💓💞💓💞💓💖💓💖💕💜⭐💜💖😍😈😈😍😍😈😈😍💜💖🌠💕⭐💕💓💕❤💗💗❤❤😂😂❤💞💞💖💞💜💜💕💓💚💗💍😂💘💞💓💞❤💘😂💗💘💘😂😂💘❤💗💍😂❤💗💍😂😂💘💍💘😘😂😘💍💚💚❤😂💚💘😂💍💘💍💘❤💘💓💕💕💓💓⭐💕⭐💞💜💖💜💖💕💞💘💘😂💍😘😘💍💍😘💍💚💍😘😂😘😂😂❤❤😂❤💘😂💘💘😂😂💍😂💍💍💘💞😂💞💘💞😂💓😂💍💘💍😂💗💓💗💕😂💞😂💘😂💘💓💗💘😂😂💞💕💓💕💗💞💗💞💓💗💓💗💗💓💘💘😂💘😂💘💘💞💕💓😂💘💘😂💘💞💞💘💞😂💘💗💗💕💓💕💍💗💓⭐😂💕⭐💗💘💖😂💍💍😂💓⭐💕💕❤💗💖💞💓💞😂💍💗💕💓💞💓💗💍💗💓💕❤❤💗💓💕💓💕❤💓😂💓💞❤💍😂💘💖💍😂💘💞💗💕💚💞💍😂💘💍😂💓💞😂😂😘💍💗💘😘❤💗💓😘😘❤💓❤💓😘💗😘💓💍😘💍😂💘😂💘😘😂💗💞😂💞💘💍💕💖😂😂💘💕⭐😂💘💕💖😂💘💕💖😂💘💕💖💖💕😂💓💍⭐😂💍😂💓⭐😘❤💓💕💓💕💍💗💗💕💓💕💍💖💓❤💖⭐💗💓💕💖⭐💖⭐❤💓⭐💖😂💍💍💗💓⭐❤💗💓⭐⭐💖💍💗💓⭐💖⭐😂💘💕😂💓💕⭐⭐😂💓💕⭐💓💘😂💕⭐💖💕💞😂💘💖💘😂💘💕💖💖💓💕💕💖💕💕💖💕💍😂💓💞💘💖😂💍💞💘💍😂😂😂💘💖😂💘💞💖💗💓💕⭐😂💘💕💖💖😂💘💕💞💖😂💕😂💘💕💖⭐💘😂⭐😂💓💕⭐😂💘💕💖💘💕💖😂💘💕💖😂💓💕💖💕💘💞💖💍😂💓💕💘💕💖💘💜💞💜💖💖💘😘😂💘💞😘💍😂💘😘😘😂😘💍😂💞😂💘💘💞💖💜💜💞💘💞💜💗💞😘❤💍💗💓😘😘❤💗💓💗😘❤💗😂💍💍💍😂💘💘💞💖💜💞💖💜💞💘😂💘💍😂💍😘😂😘😘💍💘😂💘💞💍😂💍💗💕😘💞😂💍💘💍💘😘😂💍😂💞💘💍😂💘😍😳👺😰😰💖💘💞💘😘💍😂💘💍💗💘💓❤💚❤😘❤💗💕💍😂💓💞😰😂💘💞💘😂💍💘💞😂💘💞💞😂😂💘💞💍😂💘💞💞😂💍💍😂💘💞😂💘💍💞💞💖😂💘💘💞💖😳💘👺💍😂💍😘💘💗😘💗💞😂😂💖💕💖💕💘💜💕💜💜💜⭐💖💕💓💓💖💕💗💕💖💓😂💓💖💓💍💓💕💓💗❤💓💕❤💗💓💕❤💍💕💓💗💕💕💍💍💗💓😘😘💍💓💗❤💓💕💓💕💗💕💓⭐⭐🌠💓⭐⭐💓💕💞💓💓💖💓💖⭐💕💕❤💗💕⭐💗💓💕⭐💓⭐💗💕💓💕⭐💗⭐💓💗💓💕💕💗💕💓⭐💗💓💕⭐⭐💓💕💗💗💓💕🌠🌠💓💗💕💓💓⭐💗💕⭐💓💕💗⭐💓💗💕💕⭐💓💗💕❤💗💓⭐💕💗💗💕❤💗💓💕❤💗💓💕❤💗💗💕❤💗💕💓💗💚❤💕💗💕❤❤💗💓💕💗💗💓💕💗💓💗💗💓💕❤❤💗💓💕💗💓💕❤💓💖💗❤⭐💓💗❤⭐💕💗💓⭐💕💓💗💗💓💕⭐⭐💕💓💕💕⭐💗💓⭐💕💓💗💓💕💗⭐💗💓💕⭐⭐💗❤⭐💓❤💗❤💗💓⭐💗❤💗💓💕💞💗💞💞💗💓💕😘❤💗💞💓😂💞💍😂💓😂😂💓💖💞😂💞💘😂💘💘💞😂💘💘💍💞😘😂😘😘💍💘😘💍😂💍😂💘💞💖💘💞💖💞😂💘💞💖💘😂💖💘😂❤💓❤💗💓💗❤💕💗💚💗💞💓💓💕⭐💜💜⭐💕💜💞💖💘💞💖😂💘💞💖💖💘😂😂💘💞💞💘💘💍😂💞😂💘💖😂💘💖💘💘😂😂💖💘💞💖💞💞💘💞💖😂💘💞💖💘💞💖💖💘💘💞😂💘💞💖💖😂💘💕💞💖😂💞😂💘💕💖💞😂💘💖💖💘😂💞💖💘💕💘💖💖💓💖💓💖😂😂💘💕💖😂💘💕💖💖💘💕💞💖💘💖💘😂💞😂💞💖💘😂💞💖💘💕😂💕💖😂💕💖💞😂💕😂💘💕💖💕💖💘💞💖💘😂💕💞😂💓💕💖💓💕⭐💓😂💓💕💖⭐💓💕⭐😂💓💕⭐💕⭐💕💘💕💖😂💘💕💖😂💘💕💖😂💓💕⭐💓💕⭐😂😂💓💕⭐😂💓💕⭐💖😂💓💕⭐💕😂💓💓💕⭐😂💓💕⭐😂💗💓⭐😂💓⭐💕💓💍😂😂💓💖😂💓💖💍😂😂💓💖💕💖💖💓💕💓💓💕😂⭐💖💕😂💓💗💕⭐💓😂💘💕⭐💕😂💓⭐⭐💓😂⭐💍😂💓💖💘💖😂💍💞💘💘💍😂💘💞💞💍😂💘💍😂💘💞💞💘💍😂💍😂💘💞💍😂💓💞💍😂💘💖💍💍😂💘💞😂💘💖💍😂💘💞😂💍😂💘💞💞💘💍😂💘😂💞😂💘💞😂💍😂💘💖💖💍😂💓💖💓💍😂😂💘💖💍💍💖💘😂💍💘💖💍😂💍😂💘💖💍💘💖😂💖😂💘😂😂💞💖😂💖💘💍😂😂💓💞😂💓⭐💍💍💗💕⭐💕⭐💗💗💓⭐❤💓💕💗⭐⭐❤💗💓💕⭐💓💓💗💓💓💗⭐⭐💓💕💕💕⭐⭐🌠\n"
     ]
    }
   ],
   "source": [
    "print ('%-16s' % 'Number of words', '%-16s' % len(tokens))\n",
    "print ('%-16s' % 'Number of unique words', '%-16s' % len(set(tokens)))\n",
    "avg=np.sum([len(word) for word in tokens])/len(tokens)\n",
    "print ('%-16s' % 'Average word length', '%-16s' % avg)\n",
    "print ('%-16s' % 'Longest word', '%-16s' % tokens[np.argmax([len(word) for word in tokens])])"
   ]
  },
  {
   "cell_type": "code",
   "execution_count": null,
   "id": "6b8234e6",
   "metadata": {},
   "outputs": [],
   "source": [
    "wordcloud = WordCloudFa(persian_normalize=True, width=1500, height=1000)\n",
    "wc = wordcloud.generate(text)\n",
    "image = wc.to_image()\n",
    "image.show()"
   ]
  },
  {
   "cell_type": "code",
   "execution_count": 5,
   "id": "a79ad1c6",
   "metadata": {},
   "outputs": [
    {
     "data": {
      "text/html": [
       "<div>\n",
       "<style scoped>\n",
       "    .dataframe tbody tr th:only-of-type {\n",
       "        vertical-align: middle;\n",
       "    }\n",
       "\n",
       "    .dataframe tbody tr th {\n",
       "        vertical-align: top;\n",
       "    }\n",
       "\n",
       "    .dataframe thead th {\n",
       "        text-align: right;\n",
       "    }\n",
       "</style>\n",
       "<table border=\"1\" class=\"dataframe\">\n",
       "  <thead>\n",
       "    <tr style=\"text-align: right;\">\n",
       "      <th></th>\n",
       "      <th>genre</th>\n",
       "      <th>url</th>\n",
       "    </tr>\n",
       "  </thead>\n",
       "  <tbody>\n",
       "    <tr>\n",
       "      <th>0</th>\n",
       "      <td>drama</td>\n",
       "      <td>https://www.filimo.com/m/0v9if</td>\n",
       "    </tr>\n",
       "    <tr>\n",
       "      <th>1</th>\n",
       "      <td>drama</td>\n",
       "      <td>https://www.filimo.com/m/i3uga</td>\n",
       "    </tr>\n",
       "    <tr>\n",
       "      <th>2</th>\n",
       "      <td>drama</td>\n",
       "      <td>https://www.filimo.com/m/p8yhg</td>\n",
       "    </tr>\n",
       "    <tr>\n",
       "      <th>3</th>\n",
       "      <td>drama</td>\n",
       "      <td>https://www.filimo.com/m/vsucQ</td>\n",
       "    </tr>\n",
       "    <tr>\n",
       "      <th>4</th>\n",
       "      <td>drama</td>\n",
       "      <td>https://www.filimo.com/m/6lx40</td>\n",
       "    </tr>\n",
       "    <tr>\n",
       "      <th>...</th>\n",
       "      <td>...</td>\n",
       "      <td>...</td>\n",
       "    </tr>\n",
       "    <tr>\n",
       "      <th>4938</th>\n",
       "      <td>theatre</td>\n",
       "      <td>https://www.filimo.com/m/y078s</td>\n",
       "    </tr>\n",
       "    <tr>\n",
       "      <th>4939</th>\n",
       "      <td>theatre</td>\n",
       "      <td>https://www.filimo.com/m/0yiac</td>\n",
       "    </tr>\n",
       "    <tr>\n",
       "      <th>4940</th>\n",
       "      <td>theatre</td>\n",
       "      <td>https://www.filimo.com/m/ildr4</td>\n",
       "    </tr>\n",
       "    <tr>\n",
       "      <th>4941</th>\n",
       "      <td>theatre</td>\n",
       "      <td>https://www.filimo.com/m/eqwkc</td>\n",
       "    </tr>\n",
       "    <tr>\n",
       "      <th>4942</th>\n",
       "      <td>theatre</td>\n",
       "      <td>https://www.filimo.com/m/2le7o</td>\n",
       "    </tr>\n",
       "  </tbody>\n",
       "</table>\n",
       "<p>4943 rows × 2 columns</p>\n",
       "</div>"
      ],
      "text/plain": [
       "        genre                             url\n",
       "0       drama  https://www.filimo.com/m/0v9if\n",
       "1       drama  https://www.filimo.com/m/i3uga\n",
       "2       drama  https://www.filimo.com/m/p8yhg\n",
       "3       drama  https://www.filimo.com/m/vsucQ\n",
       "4       drama  https://www.filimo.com/m/6lx40\n",
       "...       ...                             ...\n",
       "4938  theatre  https://www.filimo.com/m/y078s\n",
       "4939  theatre  https://www.filimo.com/m/0yiac\n",
       "4940  theatre  https://www.filimo.com/m/ildr4\n",
       "4941  theatre  https://www.filimo.com/m/eqwkc\n",
       "4942  theatre  https://www.filimo.com/m/2le7o\n",
       "\n",
       "[4943 rows x 2 columns]"
      ]
     },
     "execution_count": 5,
     "metadata": {},
     "output_type": "execute_result"
    }
   ],
   "source": [
    "movies = pd.read_csv(\"./../result/movies.txt\", names=[\"genre\", \"url\"], delimiter='\\t')\n",
    "movies"
   ]
  },
  {
   "cell_type": "code",
   "execution_count": 6,
   "id": "81e8776b",
   "metadata": {},
   "outputs": [
    {
     "data": {
      "text/plain": [
       "{'drama': 752,\n",
       " 'war': 82,\n",
       " 'adventure': 483,\n",
       " 'sci-fi': 113,\n",
       " 'romance': 150,\n",
       " 'horror': 200,\n",
       " 'mystery': 165,\n",
       " 'family': 234,\n",
       " 'musical': 49,\n",
       " 'talk-show': 70,\n",
       " 'short': 152,\n",
       " 'reality-tv': 35,\n",
       " 'history': 111,\n",
       " 'action': 569,\n",
       " 'fantasy': 118,\n",
       " 'comedy': 415,\n",
       " 'western': 28,\n",
       " 'crime': 381,\n",
       " 'thriller': 236,\n",
       " 'sport': 50,\n",
       " 'documentary': 228,\n",
       " 'music': 30,\n",
       " 'religious': 42,\n",
       " 'concert': 18,\n",
       " 'biography': 208,\n",
       " 'theatre': 24}"
      ]
     },
     "execution_count": 6,
     "metadata": {},
     "output_type": "execute_result"
    }
   ],
   "source": [
    "genres = [\"drama\", \"war\", \"adventure\", \"sci-fi\", \"romance\", \n",
    "          \"horror\", \"mystery\", \"family\", \"musical\", \"talk-show\", \n",
    "          \"short\", \"reality-tv\", \"history\", \"action\", \"fantasy\", \n",
    "          \"comedy\", \"western\", \"crime\", \"thriller\", \"sport\", \n",
    "          \"documentary\", \"music\", \"religious\", \"concert\", \n",
    "          \"biography\", \"theatre\"]\n",
    "\n",
    "num = {}\n",
    "for m in genres:\n",
    "    num[m] = 0\n",
    "for m in movies[\"genre\"]:\n",
    "    num[m] += 1\n",
    "num"
   ]
  },
  {
   "cell_type": "code",
   "execution_count": 17,
   "id": "f2dda87d",
   "metadata": {},
   "outputs": [
    {
     "data": {
      "text/plain": [
       "4621"
      ]
     },
     "execution_count": 17,
     "metadata": {},
     "output_type": "execute_result"
    }
   ],
   "source": [
    "num['drama'] + num['war'] + num['adventure'] + num['sci-fi'] + num['romance'] \\\n",
    "+ num['horror'] + num['mystery'] + num['family'] + num['musical'] + num['talk-show'] \\\n",
    "+ num['short'] + num['reality-tv'] + num['history'] + num['action'] + num['fantasy'] \\\n",
    "+ num['comedy'] + num['western'] + num['crime'] + num['thriller'] + + num['sport'] \\\n",
    "+ num['documentary']\n"
   ]
  },
  {
   "cell_type": "code",
   "execution_count": null,
   "id": "4d97e9cc",
   "metadata": {},
   "outputs": [],
   "source": []
  }
 ],
 "metadata": {
  "kernelspec": {
   "display_name": "Python 3 (ipykernel)",
   "language": "python",
   "name": "python3"
  },
  "language_info": {
   "codemirror_mode": {
    "name": "ipython",
    "version": 3
   },
   "file_extension": ".py",
   "mimetype": "text/x-python",
   "name": "python",
   "nbconvert_exporter": "python",
   "pygments_lexer": "ipython3",
   "version": "3.10.4"
  }
 },
 "nbformat": 4,
 "nbformat_minor": 5
}
