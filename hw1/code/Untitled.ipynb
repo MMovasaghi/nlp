{
 "cells": [
  {
   "cell_type": "markdown",
   "id": "1d382099",
   "metadata": {
    "id": "1d382099"
   },
   "source": [
    "<center><img src=\"./../data/besm.png\" alt=\"In the name of Allah\" width=\"150\"></center>"
   ]
  },
  {
   "cell_type": "markdown",
   "id": "6340bbe6",
   "metadata": {
    "id": "6340bbe6"
   },
   "source": [
    "<style>\n",
    "    \n",
    "@font-face {font-family: \"B Lotus\"; src: url(\"//db.onlinewebfonts.com/t/1605a655ba0a3246ce5eca3eaff6c5c2.eot\"); src: url(\"//db.onlinewebfonts.com/t/1605a655ba0a3246ce5eca3eaff6c5c2.eot?#iefix\") format(\"embedded-opentype\"), url(\"//db.onlinewebfonts.com/t/1605a655ba0a3246ce5eca3eaff6c5c2.woff2\") format(\"woff2\"), url(\"//db.onlinewebfonts.com/t/1605a655ba0a3246ce5eca3eaff6c5c2.woff\") format(\"woff\"), url(\"//db.onlinewebfonts.com/t/1605a655ba0a3246ce5eca3eaff6c5c2.ttf\") format(\"truetype\"), url(\"//db.onlinewebfonts.com/t/1605a655ba0a3246ce5eca3eaff6c5c2.svg#B Lotus\") format(\"svg\"); }\n",
    "\n",
    "\n",
    "</style>\n",
    "\n",
    "<center style ='font-family: \"B Lotus\";'>تمرین اول - درس پردازش زبان‌های طبیعی</center>\n",
    "<center style ='font-family: \"B Lotus\";'>ترم ۱۴۰۱۱ - دانشکده مهندسی کامپیوتر</center>\n",
    "<hr>\n",
    "<center style ='font-family: \"B Lotus\";'>محمدحسین موثقی‌نیا</center>\n",
    "<center style ='font-family: \"B Lotus\";'>۴۰۰۲۰۰۹۱۹</center>\n",
    "<hr>"
   ]
  },
  {
   "cell_type": "markdown",
   "id": "8c04b85f",
   "metadata": {
    "id": "8c04b85f"
   },
   "source": [
    "<div style=\"direction:rtl; font-family: 'B Lotus';\">نصب و فراخوانی کتابخانه‌های مورد نیاز:</div>"
   ]
  },
  {
   "cell_type": "code",
   "execution_count": 3,
   "id": "44ef2cdd",
   "metadata": {
    "colab": {
     "base_uri": "https://localhost:8080/"
    },
    "executionInfo": {
     "elapsed": 31625,
     "status": "ok",
     "timestamp": 1666166479524,
     "user": {
      "displayName": "Mohammad Hosein Movasaghinia",
      "userId": "01598110076807801550"
     },
     "user_tz": -210
    },
    "id": "44ef2cdd",
    "outputId": "a61a8e65-5d11-4ac8-b6e8-99e11c57f7af",
    "scrolled": true
   },
   "outputs": [
    {
     "name": "stdout",
     "output_type": "stream",
     "text": [
      "Looking in indexes: https://pypi.org/simple, https://us-python.pkg.dev/colab-wheels/public/simple/\n",
      "Requirement already satisfied: numpy in /usr/local/lib/python3.7/dist-packages (1.21.6)\n",
      "Looking in indexes: https://pypi.org/simple, https://us-python.pkg.dev/colab-wheels/public/simple/\n",
      "Requirement already satisfied: pandas in /usr/local/lib/python3.7/dist-packages (1.3.5)\n",
      "Requirement already satisfied: python-dateutil>=2.7.3 in /usr/local/lib/python3.7/dist-packages (from pandas) (2.8.2)\n",
      "Requirement already satisfied: pytz>=2017.3 in /usr/local/lib/python3.7/dist-packages (from pandas) (2022.4)\n",
      "Requirement already satisfied: numpy>=1.17.3 in /usr/local/lib/python3.7/dist-packages (from pandas) (1.21.6)\n",
      "Requirement already satisfied: six>=1.5 in /usr/local/lib/python3.7/dist-packages (from python-dateutil>=2.7.3->pandas) (1.15.0)\n",
      "Looking in indexes: https://pypi.org/simple, https://us-python.pkg.dev/colab-wheels/public/simple/\n",
      "Requirement already satisfied: matplotlib in /usr/local/lib/python3.7/dist-packages (3.2.2)\n",
      "Requirement already satisfied: numpy>=1.11 in /usr/local/lib/python3.7/dist-packages (from matplotlib) (1.21.6)\n",
      "Requirement already satisfied: cycler>=0.10 in /usr/local/lib/python3.7/dist-packages (from matplotlib) (0.11.0)\n",
      "Requirement already satisfied: python-dateutil>=2.1 in /usr/local/lib/python3.7/dist-packages (from matplotlib) (2.8.2)\n",
      "Requirement already satisfied: kiwisolver>=1.0.1 in /usr/local/lib/python3.7/dist-packages (from matplotlib) (1.4.4)\n",
      "Requirement already satisfied: pyparsing!=2.0.4,!=2.1.2,!=2.1.6,>=2.0.1 in /usr/local/lib/python3.7/dist-packages (from matplotlib) (3.0.9)\n",
      "Requirement already satisfied: typing-extensions in /usr/local/lib/python3.7/dist-packages (from kiwisolver>=1.0.1->matplotlib) (4.1.1)\n",
      "Requirement already satisfied: six>=1.5 in /usr/local/lib/python3.7/dist-packages (from python-dateutil>=2.1->matplotlib) (1.15.0)\n",
      "Looking in indexes: https://pypi.org/simple, https://us-python.pkg.dev/colab-wheels/public/simple/\n",
      "Requirement already satisfied: tqdm in /usr/local/lib/python3.7/dist-packages (4.64.1)\n",
      "Looking in indexes: https://pypi.org/simple, https://us-python.pkg.dev/colab-wheels/public/simple/\n",
      "Collecting hazm\n",
      "  Downloading hazm-0.7.0-py3-none-any.whl (316 kB)\n",
      "\u001b[K     |████████████████████████████████| 316 kB 26.7 MB/s \n",
      "\u001b[?25hCollecting libwapiti>=0.2.1\n",
      "  Downloading libwapiti-0.2.1.tar.gz (233 kB)\n",
      "\u001b[K     |████████████████████████████████| 233 kB 60.6 MB/s \n",
      "\u001b[?25hCollecting nltk==3.3\n",
      "  Downloading nltk-3.3.0.zip (1.4 MB)\n",
      "\u001b[K     |████████████████████████████████| 1.4 MB 42.7 MB/s \n",
      "\u001b[?25hRequirement already satisfied: six in /usr/local/lib/python3.7/dist-packages (from nltk==3.3->hazm) (1.15.0)\n",
      "Building wheels for collected packages: nltk, libwapiti\n",
      "  Building wheel for nltk (setup.py) ... \u001b[?25l\u001b[?25hdone\n",
      "  Created wheel for nltk: filename=nltk-3.3-py3-none-any.whl size=1394489 sha256=97ecb119e55fc60c142e7d9fd956d5a2589d4cb51bd8c14bf69a813a5afb0a56\n",
      "  Stored in directory: /root/.cache/pip/wheels/9b/fd/0c/d92302c876e5de87ebd7fc0979d82edb93e2d8d768bf71fac4\n",
      "  Building wheel for libwapiti (setup.py) ... \u001b[?25l\u001b[?25hdone\n",
      "  Created wheel for libwapiti: filename=libwapiti-0.2.1-cp37-cp37m-linux_x86_64.whl size=154511 sha256=c0d9dfd1e609d64912040d0d00d535f3f0c6e9b00dbb8d3a3b3f11efdf30d953\n",
      "  Stored in directory: /root/.cache/pip/wheels/ab/b2/5b/0fe4b8f5c0e65341e8ea7bb3f4a6ebabfe8b1ac31322392dbf\n",
      "Successfully built nltk libwapiti\n",
      "Installing collected packages: nltk, libwapiti, hazm\n",
      "  Attempting uninstall: nltk\n",
      "    Found existing installation: nltk 3.7\n",
      "    Uninstalling nltk-3.7:\n",
      "      Successfully uninstalled nltk-3.7\n",
      "Successfully installed hazm-0.7.0 libwapiti-0.2.1 nltk-3.3\n",
      "Looking in indexes: https://pypi.org/simple, https://us-python.pkg.dev/colab-wheels/public/simple/\n",
      "Collecting wordcloud_fa\n",
      "  Downloading wordcloud_fa-0.1.9-py2.py3-none-any.whl (71 kB)\n",
      "\u001b[K     |████████████████████████████████| 71 kB 5.4 MB/s \n",
      "\u001b[?25hRequirement already satisfied: matplotlib>=3.1.2 in /usr/local/lib/python3.7/dist-packages (from wordcloud_fa) (3.2.2)\n",
      "Collecting wordcloud==1.8.1\n",
      "  Downloading wordcloud-1.8.1-cp37-cp37m-manylinux1_x86_64.whl (366 kB)\n",
      "\u001b[K     |████████████████████████████████| 366 kB 21.8 MB/s \n",
      "\u001b[?25hRequirement already satisfied: pillow>=7.0.0 in /usr/local/lib/python3.7/dist-packages (from wordcloud_fa) (7.1.2)\n",
      "Requirement already satisfied: hazm==0.7.0 in /usr/local/lib/python3.7/dist-packages (from wordcloud_fa) (0.7.0)\n",
      "Requirement already satisfied: numpy>=1.18.1 in /usr/local/lib/python3.7/dist-packages (from wordcloud_fa) (1.21.6)\n",
      "Collecting python-bidi==0.4.2\n",
      "  Downloading python_bidi-0.4.2-py2.py3-none-any.whl (30 kB)\n",
      "Collecting arabic-reshaper>=2.1.3\n",
      "  Downloading arabic_reshaper-2.1.4-py3-none-any.whl (20 kB)\n",
      "Requirement already satisfied: nltk==3.3 in /usr/local/lib/python3.7/dist-packages (from hazm==0.7.0->wordcloud_fa) (3.3)\n",
      "Requirement already satisfied: libwapiti>=0.2.1 in /usr/local/lib/python3.7/dist-packages (from hazm==0.7.0->wordcloud_fa) (0.2.1)\n",
      "Requirement already satisfied: six in /usr/local/lib/python3.7/dist-packages (from nltk==3.3->hazm==0.7.0->wordcloud_fa) (1.15.0)\n",
      "Requirement already satisfied: future in /usr/local/lib/python3.7/dist-packages (from arabic-reshaper>=2.1.3->wordcloud_fa) (0.16.0)\n",
      "Requirement already satisfied: kiwisolver>=1.0.1 in /usr/local/lib/python3.7/dist-packages (from matplotlib>=3.1.2->wordcloud_fa) (1.4.4)\n",
      "Requirement already satisfied: cycler>=0.10 in /usr/local/lib/python3.7/dist-packages (from matplotlib>=3.1.2->wordcloud_fa) (0.11.0)\n",
      "Requirement already satisfied: python-dateutil>=2.1 in /usr/local/lib/python3.7/dist-packages (from matplotlib>=3.1.2->wordcloud_fa) (2.8.2)\n",
      "Requirement already satisfied: pyparsing!=2.0.4,!=2.1.2,!=2.1.6,>=2.0.1 in /usr/local/lib/python3.7/dist-packages (from matplotlib>=3.1.2->wordcloud_fa) (3.0.9)\n",
      "Requirement already satisfied: typing-extensions in /usr/local/lib/python3.7/dist-packages (from kiwisolver>=1.0.1->matplotlib>=3.1.2->wordcloud_fa) (4.1.1)\n",
      "Installing collected packages: wordcloud, python-bidi, arabic-reshaper, wordcloud-fa\n",
      "  Attempting uninstall: wordcloud\n",
      "    Found existing installation: wordcloud 1.8.2.2\n",
      "    Uninstalling wordcloud-1.8.2.2:\n",
      "      Successfully uninstalled wordcloud-1.8.2.2\n",
      "Successfully installed arabic-reshaper-2.1.4 python-bidi-0.4.2 wordcloud-1.8.1 wordcloud-fa-0.1.9\n"
     ]
    }
   ],
   "source": [
    "!pip install numpy\n",
    "!pip install pandas\n",
    "!pip install matplotlib\n",
    "!pip install tqdm\n",
    "!pip install hazm\n",
    "!pip install wordcloud_fa\n",
    "!pip install nltk"
   ]
  },
  {
   "cell_type": "code",
   "execution_count": 1,
   "id": "92fd530f",
   "metadata": {
    "executionInfo": {
     "elapsed": 1796,
     "status": "ok",
     "timestamp": 1666166547649,
     "user": {
      "displayName": "Mohammad Hosein Movasaghinia",
      "userId": "01598110076807801550"
     },
     "user_tz": -210
    },
    "id": "92fd530f"
   },
   "outputs": [],
   "source": [
    "import numpy as np\n",
    "import pandas as pd\n",
    "import os\n",
    "import matplotlib.pyplot as plt\n",
    "from matplotlib.pyplot import figure\n",
    "from tqdm import tqdm\n",
    "from wordcloud_fa import WordCloudFa\n",
    "from __future__ import unicode_literals\n",
    "import hazm\n",
    "import random\n",
    "import codecs\n",
    "from nltk import FreqDist\n",
    "import itertools"
   ]
  },
  {
   "cell_type": "markdown",
   "id": "1392e105",
   "metadata": {},
   "source": [
    "<div style=\"direction:rtl; font-family: 'B Lotus';\">زمانی که از <code>google-colab</code> استفاده می‌شود باید دو مورد زیر اضافه شود:</div>"
   ]
  },
  {
   "cell_type": "code",
   "execution_count": 7,
   "id": "5G0vE__6RHZY",
   "metadata": {
    "colab": {
     "base_uri": "https://localhost:8080/"
    },
    "executionInfo": {
     "elapsed": 21814,
     "status": "ok",
     "timestamp": 1666166614654,
     "user": {
      "displayName": "Mohammad Hosein Movasaghinia",
      "userId": "01598110076807801550"
     },
     "user_tz": -210
    },
    "id": "5G0vE__6RHZY",
    "outputId": "0ae1bb4b-5350-47af-b76a-06cddb6740f1"
   },
   "outputs": [
    {
     "name": "stdout",
     "output_type": "stream",
     "text": [
      "Mounted at /content/drive\n"
     ]
    }
   ],
   "source": [
    "# from google.colab import drive\n",
    "# drive.mount('/content/drive')"
   ]
  },
  {
   "cell_type": "code",
   "execution_count": 18,
   "id": "hzu9AvXUQg71",
   "metadata": {
    "executionInfo": {
     "elapsed": 817,
     "status": "ok",
     "timestamp": 1666166837735,
     "user": {
      "displayName": "Mohammad Hosein Movasaghinia",
      "userId": "01598110076807801550"
     },
     "user_tz": -210
    },
    "id": "hzu9AvXUQg71"
   },
   "outputs": [],
   "source": [
    "# os.chdir('/content/drive/MyDrive/NLP/hw1/nlp/hw1/code/')"
   ]
  },
  {
   "cell_type": "markdown",
   "id": "39ae1184",
   "metadata": {
    "id": "39ae1184"
   },
   "source": [
    "<div style=\"direction:rtl; font-family: 'B Lotus';\">تعریف الفباهای مورد نیاز، شامل موارد:</div>\n",
    "<ul style=\"direction:rtl; font-family: 'B Lotus';\">\n",
    "  <li>الفبای زبان فارسی</li>\n",
    "  <li>علائم سجاوندی</li>\n",
    "  <li>اعداد فارسی و انگلیسی</li>\n",
    "  <li>لیست ایموجی&zwnj;ها &laquo;از این <a href=\"https://unicode.org/Public/emoji/15.0/\" rel=\"noopener noreferrer\" target=\"_blank\">لینک</a> استفاده شده است&raquo;</li>\n",
    "</ul> "
   ]
  },
  {
   "cell_type": "code",
   "execution_count": 86,
   "id": "4fec9d65",
   "metadata": {
    "colab": {
     "base_uri": "https://localhost:8080/",
     "height": 424
    },
    "executionInfo": {
     "elapsed": 14730,
     "status": "ok",
     "timestamp": 1666169425952,
     "user": {
      "displayName": "Mohammad Hosein Movasaghinia",
      "userId": "01598110076807801550"
     },
     "user_tz": -210
    },
    "id": "4fec9d65",
    "outputId": "6d42724d-b7d0-4405-e391-9e4129657789"
   },
   "outputs": [],
   "source": [
    "persian_alphabet = [\"آ\",\"ا\",\"أ\",\"ئ\",\"ب\",\"پ\",\"ت\",\"ث\",\"ج\",\"چ\",\"ح\",\"خ\",\"د\",\"ذ\",\"ر\",\"ز\",\"ژ\",\"س\",\"ش\",\"ص\",\"ض\",\"ط\",\"ظ\",\"ع\",\"غ\",\"ف\",\"ق\",\"ک\",\"گ\",\"ل\",\"م\",\"ن\",\"و\",\"ه\",\"ی\"]\n",
    "decorative_signs = [\" \", \",\", \":\", \"؛\", \"|\", \"\\\\\", \"*\", \"\\u200C\", \"٬\", \"!\", \"؟\", \"?\", \"(\", \")\", \".\", \"،\", \"%\", \"٪\", \"ـ\", \"-\", \"+\", \"=\", \"`\", \"~\", \"ء\", \"ٔ\", \"ٓ\", \"«\", \"»\", \"ة\", \"]\", \"[\", \"ة\", \"{\", \"}\"]\n",
    "english_alphabet = [chr(i) for i in range(ord('A'), ord('Z')+1)]\n",
    "english_alphabet.extend([chr(i) for i in range(ord('a'), ord('z')+1)])\n",
    "persian_numbers = [\"0\", \"1\", \"2\", \"3\", \"4\", \"5\", \"6\", \"7\", \"8\", \"9\"] \n",
    "english_numbers = [\"۰\", \"۱\", \"۲\", \"۳\", \"۴\", \"۵\", \"۶\", \"۷\", \"۸\", \"۹\"]"
   ]
  },
  {
   "cell_type": "code",
   "execution_count": 3,
   "id": "6ffa6489",
   "metadata": {},
   "outputs": [
    {
     "data": {
      "text/html": [
       "<div>\n",
       "<style scoped>\n",
       "    .dataframe tbody tr th:only-of-type {\n",
       "        vertical-align: middle;\n",
       "    }\n",
       "\n",
       "    .dataframe tbody tr th {\n",
       "        vertical-align: top;\n",
       "    }\n",
       "\n",
       "    .dataframe thead th {\n",
       "        text-align: right;\n",
       "    }\n",
       "</style>\n",
       "<table border=\"1\" class=\"dataframe\">\n",
       "  <thead>\n",
       "    <tr style=\"text-align: right;\">\n",
       "      <th></th>\n",
       "      <th>emoji</th>\n",
       "      <th>name</th>\n",
       "      <th>group</th>\n",
       "      <th>sub_group</th>\n",
       "      <th>codepoints</th>\n",
       "    </tr>\n",
       "  </thead>\n",
       "  <tbody>\n",
       "    <tr>\n",
       "      <th>0</th>\n",
       "      <td>😀</td>\n",
       "      <td>grinning face</td>\n",
       "      <td>Smileys &amp; Emotion</td>\n",
       "      <td>face-smiling</td>\n",
       "      <td>1F600</td>\n",
       "    </tr>\n",
       "    <tr>\n",
       "      <th>1</th>\n",
       "      <td>😃</td>\n",
       "      <td>grinning face with big eyes</td>\n",
       "      <td>Smileys &amp; Emotion</td>\n",
       "      <td>face-smiling</td>\n",
       "      <td>1F603</td>\n",
       "    </tr>\n",
       "    <tr>\n",
       "      <th>2</th>\n",
       "      <td>😄</td>\n",
       "      <td>grinning face with smiling eyes</td>\n",
       "      <td>Smileys &amp; Emotion</td>\n",
       "      <td>face-smiling</td>\n",
       "      <td>1F604</td>\n",
       "    </tr>\n",
       "    <tr>\n",
       "      <th>3</th>\n",
       "      <td>😁</td>\n",
       "      <td>beaming face with smiling eyes</td>\n",
       "      <td>Smileys &amp; Emotion</td>\n",
       "      <td>face-smiling</td>\n",
       "      <td>1F601</td>\n",
       "    </tr>\n",
       "    <tr>\n",
       "      <th>4</th>\n",
       "      <td>😆</td>\n",
       "      <td>grinning squinting face</td>\n",
       "      <td>Smileys &amp; Emotion</td>\n",
       "      <td>face-smiling</td>\n",
       "      <td>1F606</td>\n",
       "    </tr>\n",
       "    <tr>\n",
       "      <th>...</th>\n",
       "      <td>...</td>\n",
       "      <td>...</td>\n",
       "      <td>...</td>\n",
       "      <td>...</td>\n",
       "      <td>...</td>\n",
       "    </tr>\n",
       "    <tr>\n",
       "      <th>4576</th>\n",
       "      <td>🇿🇲</td>\n",
       "      <td>flag: Zambia</td>\n",
       "      <td>Flags</td>\n",
       "      <td>country-flag</td>\n",
       "      <td>1F1FF 1F1F2</td>\n",
       "    </tr>\n",
       "    <tr>\n",
       "      <th>4577</th>\n",
       "      <td>🇿🇼</td>\n",
       "      <td>flag: Zimbabwe</td>\n",
       "      <td>Flags</td>\n",
       "      <td>country-flag</td>\n",
       "      <td>1F1FF 1F1FC</td>\n",
       "    </tr>\n",
       "    <tr>\n",
       "      <th>4578</th>\n",
       "      <td>🏴󠁧󠁢󠁥󠁮󠁧󠁿</td>\n",
       "      <td>flag: England</td>\n",
       "      <td>Flags</td>\n",
       "      <td>subdivision-flag</td>\n",
       "      <td>1F3F4 E0067 E0062 E0065 E006E E0067 E007F</td>\n",
       "    </tr>\n",
       "    <tr>\n",
       "      <th>4579</th>\n",
       "      <td>🏴󠁧󠁢󠁳󠁣󠁴󠁿</td>\n",
       "      <td>flag: Scotland</td>\n",
       "      <td>Flags</td>\n",
       "      <td>subdivision-flag</td>\n",
       "      <td>1F3F4 E0067 E0062 E0073 E0063 E0074 E007F</td>\n",
       "    </tr>\n",
       "    <tr>\n",
       "      <th>4580</th>\n",
       "      <td>🏴󠁧󠁢󠁷󠁬󠁳󠁿</td>\n",
       "      <td>flag: Wales</td>\n",
       "      <td>Flags</td>\n",
       "      <td>subdivision-flag</td>\n",
       "      <td>1F3F4 E0067 E0062 E0077 E006C E0073 E007F</td>\n",
       "    </tr>\n",
       "  </tbody>\n",
       "</table>\n",
       "<p>4581 rows × 5 columns</p>\n",
       "</div>"
      ],
      "text/plain": [
       "        emoji                             name              group  \\\n",
       "0           😀                    grinning face  Smileys & Emotion   \n",
       "1           😃      grinning face with big eyes  Smileys & Emotion   \n",
       "2           😄  grinning face with smiling eyes  Smileys & Emotion   \n",
       "3           😁   beaming face with smiling eyes  Smileys & Emotion   \n",
       "4           😆          grinning squinting face  Smileys & Emotion   \n",
       "...       ...                              ...                ...   \n",
       "4576       🇿🇲                     flag: Zambia              Flags   \n",
       "4577       🇿🇼                   flag: Zimbabwe              Flags   \n",
       "4578  🏴󠁧󠁢󠁥󠁮󠁧󠁿                    flag: England              Flags   \n",
       "4579  🏴󠁧󠁢󠁳󠁣󠁴󠁿                   flag: Scotland              Flags   \n",
       "4580  🏴󠁧󠁢󠁷󠁬󠁳󠁿                      flag: Wales              Flags   \n",
       "\n",
       "             sub_group                                 codepoints  \n",
       "0         face-smiling                                      1F600  \n",
       "1         face-smiling                                      1F603  \n",
       "2         face-smiling                                      1F604  \n",
       "3         face-smiling                                      1F601  \n",
       "4         face-smiling                                      1F606  \n",
       "...                ...                                        ...  \n",
       "4576      country-flag                                1F1FF 1F1F2  \n",
       "4577      country-flag                                1F1FF 1F1FC  \n",
       "4578  subdivision-flag  1F3F4 E0067 E0062 E0065 E006E E0067 E007F  \n",
       "4579  subdivision-flag  1F3F4 E0067 E0062 E0073 E0063 E0074 E007F  \n",
       "4580  subdivision-flag  1F3F4 E0067 E0062 E0077 E006C E0073 E007F  \n",
       "\n",
       "[4581 rows x 5 columns]"
      ]
     },
     "execution_count": 3,
     "metadata": {},
     "output_type": "execute_result"
    }
   ],
   "source": [
    "emoji_df = pd.read_csv('./../data/emoji_df.csv')\n",
    "\n",
    "emoji_df_single = pd.DataFrame(columns=[\"emoji\",\"name\",\"group\",\"sub_group\",\"codepoints\"])\n",
    "emoji_df_multiple = pd.DataFrame(columns=[\"emoji\",\"name\",\"group\",\"sub_group\",\"codepoints\"])\n",
    "\n",
    "j = 0\n",
    "k = 0\n",
    "for i, code in enumerate(emoji_df['codepoints']):\n",
    "    if len(code.split()) > 1:\n",
    "        emoji_df_multiple.loc[j] = emoji_df.loc[i]\n",
    "        j += 1\n",
    "    else:\n",
    "        emoji_df_single.loc[k] = emoji_df.loc[i]\n",
    "        k += 1\n",
    "\n",
    "emoji_df"
   ]
  },
  {
   "cell_type": "code",
   "execution_count": 4,
   "id": "olive-collection",
   "metadata": {
    "colab": {
     "base_uri": "https://localhost:8080/",
     "height": 424
    },
    "executionInfo": {
     "elapsed": 15,
     "status": "ok",
     "timestamp": 1666166859097,
     "user": {
      "displayName": "Mohammad Hosein Movasaghinia",
      "userId": "01598110076807801550"
     },
     "user_tz": -210
    },
    "id": "olive-collection",
    "outputId": "c03391ce-e817-405e-b52f-246f3eb5a89a"
   },
   "outputs": [
    {
     "data": {
      "text/html": [
       "<div>\n",
       "<style scoped>\n",
       "    .dataframe tbody tr th:only-of-type {\n",
       "        vertical-align: middle;\n",
       "    }\n",
       "\n",
       "    .dataframe tbody tr th {\n",
       "        vertical-align: top;\n",
       "    }\n",
       "\n",
       "    .dataframe thead th {\n",
       "        text-align: right;\n",
       "    }\n",
       "</style>\n",
       "<table border=\"1\" class=\"dataframe\">\n",
       "  <thead>\n",
       "    <tr style=\"text-align: right;\">\n",
       "      <th></th>\n",
       "      <th>emoji</th>\n",
       "      <th>name</th>\n",
       "      <th>group</th>\n",
       "      <th>sub_group</th>\n",
       "      <th>codepoints</th>\n",
       "    </tr>\n",
       "  </thead>\n",
       "  <tbody>\n",
       "    <tr>\n",
       "      <th>0</th>\n",
       "      <td>😀</td>\n",
       "      <td>grinning face</td>\n",
       "      <td>Smileys &amp; Emotion</td>\n",
       "      <td>face-smiling</td>\n",
       "      <td>1F600</td>\n",
       "    </tr>\n",
       "    <tr>\n",
       "      <th>1</th>\n",
       "      <td>😃</td>\n",
       "      <td>grinning face with big eyes</td>\n",
       "      <td>Smileys &amp; Emotion</td>\n",
       "      <td>face-smiling</td>\n",
       "      <td>1F603</td>\n",
       "    </tr>\n",
       "    <tr>\n",
       "      <th>2</th>\n",
       "      <td>😄</td>\n",
       "      <td>grinning face with smiling eyes</td>\n",
       "      <td>Smileys &amp; Emotion</td>\n",
       "      <td>face-smiling</td>\n",
       "      <td>1F604</td>\n",
       "    </tr>\n",
       "    <tr>\n",
       "      <th>3</th>\n",
       "      <td>😁</td>\n",
       "      <td>beaming face with smiling eyes</td>\n",
       "      <td>Smileys &amp; Emotion</td>\n",
       "      <td>face-smiling</td>\n",
       "      <td>1F601</td>\n",
       "    </tr>\n",
       "    <tr>\n",
       "      <th>4</th>\n",
       "      <td>😆</td>\n",
       "      <td>grinning squinting face</td>\n",
       "      <td>Smileys &amp; Emotion</td>\n",
       "      <td>face-smiling</td>\n",
       "      <td>1F606</td>\n",
       "    </tr>\n",
       "    <tr>\n",
       "      <th>...</th>\n",
       "      <td>...</td>\n",
       "      <td>...</td>\n",
       "      <td>...</td>\n",
       "      <td>...</td>\n",
       "      <td>...</td>\n",
       "    </tr>\n",
       "    <tr>\n",
       "      <th>1315</th>\n",
       "      <td>🏁</td>\n",
       "      <td>chequered flag</td>\n",
       "      <td>Flags</td>\n",
       "      <td>flag</td>\n",
       "      <td>1F3C1</td>\n",
       "    </tr>\n",
       "    <tr>\n",
       "      <th>1316</th>\n",
       "      <td>🚩</td>\n",
       "      <td>triangular flag</td>\n",
       "      <td>Flags</td>\n",
       "      <td>flag</td>\n",
       "      <td>1F6A9</td>\n",
       "    </tr>\n",
       "    <tr>\n",
       "      <th>1317</th>\n",
       "      <td>🎌</td>\n",
       "      <td>crossed flags</td>\n",
       "      <td>Flags</td>\n",
       "      <td>flag</td>\n",
       "      <td>1F38C</td>\n",
       "    </tr>\n",
       "    <tr>\n",
       "      <th>1318</th>\n",
       "      <td>🏴</td>\n",
       "      <td>black flag</td>\n",
       "      <td>Flags</td>\n",
       "      <td>flag</td>\n",
       "      <td>1F3F4</td>\n",
       "    </tr>\n",
       "    <tr>\n",
       "      <th>1319</th>\n",
       "      <td>🏳</td>\n",
       "      <td>white flag</td>\n",
       "      <td>Flags</td>\n",
       "      <td>flag</td>\n",
       "      <td>1F3F3</td>\n",
       "    </tr>\n",
       "  </tbody>\n",
       "</table>\n",
       "<p>1320 rows × 5 columns</p>\n",
       "</div>"
      ],
      "text/plain": [
       "     emoji                             name              group     sub_group  \\\n",
       "0        😀                    grinning face  Smileys & Emotion  face-smiling   \n",
       "1        😃      grinning face with big eyes  Smileys & Emotion  face-smiling   \n",
       "2        😄  grinning face with smiling eyes  Smileys & Emotion  face-smiling   \n",
       "3        😁   beaming face with smiling eyes  Smileys & Emotion  face-smiling   \n",
       "4        😆          grinning squinting face  Smileys & Emotion  face-smiling   \n",
       "...    ...                              ...                ...           ...   \n",
       "1315     🏁                   chequered flag              Flags          flag   \n",
       "1316     🚩                  triangular flag              Flags          flag   \n",
       "1317     🎌                    crossed flags              Flags          flag   \n",
       "1318     🏴                       black flag              Flags          flag   \n",
       "1319     🏳                       white flag              Flags          flag   \n",
       "\n",
       "     codepoints  \n",
       "0         1F600  \n",
       "1         1F603  \n",
       "2         1F604  \n",
       "3         1F601  \n",
       "4         1F606  \n",
       "...         ...  \n",
       "1315      1F3C1  \n",
       "1316      1F6A9  \n",
       "1317      1F38C  \n",
       "1318      1F3F4  \n",
       "1319      1F3F3  \n",
       "\n",
       "[1320 rows x 5 columns]"
      ]
     },
     "execution_count": 4,
     "metadata": {},
     "output_type": "execute_result"
    }
   ],
   "source": [
    "emoji_df_single"
   ]
  },
  {
   "cell_type": "code",
   "execution_count": 5,
   "id": "successful-tamil",
   "metadata": {
    "colab": {
     "base_uri": "https://localhost:8080/",
     "height": 424
    },
    "executionInfo": {
     "elapsed": 7,
     "status": "ok",
     "timestamp": 1666166859918,
     "user": {
      "displayName": "Mohammad Hosein Movasaghinia",
      "userId": "01598110076807801550"
     },
     "user_tz": -210
    },
    "id": "successful-tamil",
    "outputId": "f15ed527-9cd9-4bcc-cca6-b79106430e39"
   },
   "outputs": [
    {
     "data": {
      "text/html": [
       "<div>\n",
       "<style scoped>\n",
       "    .dataframe tbody tr th:only-of-type {\n",
       "        vertical-align: middle;\n",
       "    }\n",
       "\n",
       "    .dataframe tbody tr th {\n",
       "        vertical-align: top;\n",
       "    }\n",
       "\n",
       "    .dataframe thead th {\n",
       "        text-align: right;\n",
       "    }\n",
       "</style>\n",
       "<table border=\"1\" class=\"dataframe\">\n",
       "  <thead>\n",
       "    <tr style=\"text-align: right;\">\n",
       "      <th></th>\n",
       "      <th>emoji</th>\n",
       "      <th>name</th>\n",
       "      <th>group</th>\n",
       "      <th>sub_group</th>\n",
       "      <th>codepoints</th>\n",
       "    </tr>\n",
       "  </thead>\n",
       "  <tbody>\n",
       "    <tr>\n",
       "      <th>0</th>\n",
       "      <td>☺️</td>\n",
       "      <td>smiling face</td>\n",
       "      <td>Smileys &amp; Emotion</td>\n",
       "      <td>face-affection</td>\n",
       "      <td>263A FE0F</td>\n",
       "    </tr>\n",
       "    <tr>\n",
       "      <th>1</th>\n",
       "      <td>😶‍🌫️</td>\n",
       "      <td>face in clouds</td>\n",
       "      <td>Smileys &amp; Emotion</td>\n",
       "      <td>face-neutral-skeptical</td>\n",
       "      <td>1F636 200D 1F32B FE0F</td>\n",
       "    </tr>\n",
       "    <tr>\n",
       "      <th>2</th>\n",
       "      <td>😶‍🌫</td>\n",
       "      <td>face in clouds</td>\n",
       "      <td>Smileys &amp; Emotion</td>\n",
       "      <td>face-neutral-skeptical</td>\n",
       "      <td>1F636 200D 1F32B</td>\n",
       "    </tr>\n",
       "    <tr>\n",
       "      <th>3</th>\n",
       "      <td>😮‍💨</td>\n",
       "      <td>face exhaling</td>\n",
       "      <td>Smileys &amp; Emotion</td>\n",
       "      <td>face-neutral-skeptical</td>\n",
       "      <td>1F62E 200D 1F4A8</td>\n",
       "    </tr>\n",
       "    <tr>\n",
       "      <th>4</th>\n",
       "      <td>😵‍💫</td>\n",
       "      <td>face with spiral eyes</td>\n",
       "      <td>Smileys &amp; Emotion</td>\n",
       "      <td>face-unwell</td>\n",
       "      <td>1F635 200D 1F4AB</td>\n",
       "    </tr>\n",
       "    <tr>\n",
       "      <th>...</th>\n",
       "      <td>...</td>\n",
       "      <td>...</td>\n",
       "      <td>...</td>\n",
       "      <td>...</td>\n",
       "      <td>...</td>\n",
       "    </tr>\n",
       "    <tr>\n",
       "      <th>3256</th>\n",
       "      <td>🇿🇲</td>\n",
       "      <td>flag: Zambia</td>\n",
       "      <td>Flags</td>\n",
       "      <td>country-flag</td>\n",
       "      <td>1F1FF 1F1F2</td>\n",
       "    </tr>\n",
       "    <tr>\n",
       "      <th>3257</th>\n",
       "      <td>🇿🇼</td>\n",
       "      <td>flag: Zimbabwe</td>\n",
       "      <td>Flags</td>\n",
       "      <td>country-flag</td>\n",
       "      <td>1F1FF 1F1FC</td>\n",
       "    </tr>\n",
       "    <tr>\n",
       "      <th>3258</th>\n",
       "      <td>🏴󠁧󠁢󠁥󠁮󠁧󠁿</td>\n",
       "      <td>flag: England</td>\n",
       "      <td>Flags</td>\n",
       "      <td>subdivision-flag</td>\n",
       "      <td>1F3F4 E0067 E0062 E0065 E006E E0067 E007F</td>\n",
       "    </tr>\n",
       "    <tr>\n",
       "      <th>3259</th>\n",
       "      <td>🏴󠁧󠁢󠁳󠁣󠁴󠁿</td>\n",
       "      <td>flag: Scotland</td>\n",
       "      <td>Flags</td>\n",
       "      <td>subdivision-flag</td>\n",
       "      <td>1F3F4 E0067 E0062 E0073 E0063 E0074 E007F</td>\n",
       "    </tr>\n",
       "    <tr>\n",
       "      <th>3260</th>\n",
       "      <td>🏴󠁧󠁢󠁷󠁬󠁳󠁿</td>\n",
       "      <td>flag: Wales</td>\n",
       "      <td>Flags</td>\n",
       "      <td>subdivision-flag</td>\n",
       "      <td>1F3F4 E0067 E0062 E0077 E006C E0073 E007F</td>\n",
       "    </tr>\n",
       "  </tbody>\n",
       "</table>\n",
       "<p>3261 rows × 5 columns</p>\n",
       "</div>"
      ],
      "text/plain": [
       "        emoji                   name              group  \\\n",
       "0          ☺️           smiling face  Smileys & Emotion   \n",
       "1        😶‍🌫️         face in clouds  Smileys & Emotion   \n",
       "2         😶‍🌫         face in clouds  Smileys & Emotion   \n",
       "3         😮‍💨          face exhaling  Smileys & Emotion   \n",
       "4         😵‍💫  face with spiral eyes  Smileys & Emotion   \n",
       "...       ...                    ...                ...   \n",
       "3256       🇿🇲           flag: Zambia              Flags   \n",
       "3257       🇿🇼         flag: Zimbabwe              Flags   \n",
       "3258  🏴󠁧󠁢󠁥󠁮󠁧󠁿          flag: England              Flags   \n",
       "3259  🏴󠁧󠁢󠁳󠁣󠁴󠁿         flag: Scotland              Flags   \n",
       "3260  🏴󠁧󠁢󠁷󠁬󠁳󠁿            flag: Wales              Flags   \n",
       "\n",
       "                   sub_group                                 codepoints  \n",
       "0             face-affection                                  263A FE0F  \n",
       "1     face-neutral-skeptical                      1F636 200D 1F32B FE0F  \n",
       "2     face-neutral-skeptical                           1F636 200D 1F32B  \n",
       "3     face-neutral-skeptical                           1F62E 200D 1F4A8  \n",
       "4                face-unwell                           1F635 200D 1F4AB  \n",
       "...                      ...                                        ...  \n",
       "3256            country-flag                                1F1FF 1F1F2  \n",
       "3257            country-flag                                1F1FF 1F1FC  \n",
       "3258        subdivision-flag  1F3F4 E0067 E0062 E0065 E006E E0067 E007F  \n",
       "3259        subdivision-flag  1F3F4 E0067 E0062 E0073 E0063 E0074 E007F  \n",
       "3260        subdivision-flag  1F3F4 E0067 E0062 E0077 E006C E0073 E007F  \n",
       "\n",
       "[3261 rows x 5 columns]"
      ]
     },
     "execution_count": 5,
     "metadata": {},
     "output_type": "execute_result"
    }
   ],
   "source": [
    "emoji_df_multiple"
   ]
  },
  {
   "cell_type": "code",
   "execution_count": 6,
   "id": "alone-nutrition",
   "metadata": {
    "colab": {
     "base_uri": "https://localhost:8080/"
    },
    "executionInfo": {
     "elapsed": 957,
     "status": "ok",
     "timestamp": 1666173109249,
     "user": {
      "displayName": "Mohammad Hosein Movasaghinia",
      "userId": "01598110076807801550"
     },
     "user_tz": -210
    },
    "id": "alone-nutrition",
    "outputId": "c9f51c74-3707-481b-97d6-ab294bcb2fdb"
   },
   "outputs": [
    {
     "data": {
      "text/plain": [
       "(4581, 1320, 3261)"
      ]
     },
     "execution_count": 6,
     "metadata": {},
     "output_type": "execute_result"
    }
   ],
   "source": [
    "emoji_alphabet_single = list(emoji_df_single['emoji'])\n",
    "emoji_alphabet_multiple = list(emoji_df_multiple['emoji'])\n",
    "emoji_alphabet = list(emoji_df['emoji'])\n",
    "len(emoji_alphabet), len(emoji_alphabet_single), len(emoji_alphabet_multiple)"
   ]
  },
  {
   "cell_type": "code",
   "execution_count": 7,
   "id": "p6OQSi5IpZ0p",
   "metadata": {
    "executionInfo": {
     "elapsed": 542,
     "status": "ok",
     "timestamp": 1666173112172,
     "user": {
      "displayName": "Mohammad Hosein Movasaghinia",
      "userId": "01598110076807801550"
     },
     "user_tz": -210
    },
    "id": "p6OQSi5IpZ0p"
   },
   "outputs": [],
   "source": [
    "emoji_alphabet = emoji_alphabet_single"
   ]
  },
  {
   "cell_type": "markdown",
   "id": "8fff7301",
   "metadata": {
    "id": "8fff7301"
   },
   "source": [
    "<div style=\"direction:rtl; font-family: 'B Lotus';\">در این مرحله یک پیش&zwnj;پردازش اولیه انجام می&zwnj;شود:</div>\n",
    "<ul style=\"direction:rtl; font-family: 'B Lotus';\">\n",
    "  <li>حذف <code>n\\</code> های اضافه متن که منجر به اضافه شدن خطوط شده است</li>\n",
    "  <li>حذف مواردی که به دلیل اشتباه تایپی یا ... tab زده شده است و به دلیل این که در فایل به عنوان delimiter از tab استفاده شده است، این موارد را با یک tab جایگزین می کنیم.</li>\n",
    "</ul> "
   ]
  },
  {
   "cell_type": "code",
   "execution_count": 8,
   "id": "9e14b6c9",
   "metadata": {
    "executionInfo": {
     "elapsed": 5,
     "status": "ok",
     "timestamp": 1666167521766,
     "user": {
      "displayName": "Mohammad Hosein Movasaghinia",
      "userId": "01598110076807801550"
     },
     "user_tz": -210
    },
    "id": "9e14b6c9"
   },
   "outputs": [],
   "source": [
    "def check_file_and_extract_data(num):\n",
    "    f = open(f'./../result/comments_{num}.txt', 'r')\n",
    "    text = f.readlines()\n",
    "    f.close()\n",
    "\n",
    "    text = [x.replace('\\n', '').replace('\\t\\t', '\\t').split('\\t') for x in text]\n",
    "\n",
    "    i = 0\n",
    "    while i < len(text):\n",
    "        if len(text[i]) == 2:\n",
    "            i += 1\n",
    "            text[i-1].append(text[i])\n",
    "            text[i] = []\n",
    "        i += 1\n",
    "\n",
    "    while [] in text:\n",
    "        text.remove([])\n",
    "    \n",
    "    for i, x in enumerate(text):\n",
    "        if len(x) != 3 and x != []:\n",
    "            print(f'ERROR [{i}]')\n",
    "    return text"
   ]
  },
  {
   "cell_type": "code",
   "execution_count": 18,
   "id": "8c5216da",
   "metadata": {
    "colab": {
     "base_uri": "https://localhost:8080/"
    },
    "executionInfo": {
     "elapsed": 16287,
     "status": "ok",
     "timestamp": 1666167548706,
     "user": {
      "displayName": "Mohammad Hosein Movasaghinia",
      "userId": "01598110076807801550"
     },
     "user_tz": -210
    },
    "id": "8c5216da",
    "outputId": "35e5f6b9-731f-4b55-8cca-3deed2324296"
   },
   "outputs": [
    {
     "name": "stdout",
     "output_type": "stream",
     "text": [
      "Comments number: 708934\n"
     ]
    }
   ],
   "source": [
    "data = []\n",
    "for i in range(1,4):\n",
    "    data.extend(check_file_and_extract_data(i))\n",
    "\n",
    "comments_data = [c[2] for c in data]\n",
    "print(f'Comments number: {len(data)}')"
   ]
  },
  {
   "cell_type": "markdown",
   "id": "c9a684a2",
   "metadata": {
    "id": "c9a684a2"
   },
   "source": [
    "<div style=\"direction:rtl; font-family: 'B Lotus';\">تابع <code>get_comments_with_emoji</code> لیستی از کامنت&zwnj;ها را دریافت می کند و در خروجی کامنت&zwnj;هایی را بر می&zwnj;گرداند که حتما دارای حداقل یک <strong>ایموجی</strong> باشند.</div>\n",
    "<div style=\"direction:rtl; font-family: 'B Lotus';\">برای این منظور، بررسی می&zwnj;کند که آیا هرکدام از الفبای ایموجی موجود حداقل یکبار در متن وجود داشته است یا خیر. در صورت وجود آن را به لیست اضافه می کند.</div>"
   ]
  },
  {
   "cell_type": "code",
   "execution_count": 9,
   "id": "d20c0ea7",
   "metadata": {
    "executionInfo": {
     "elapsed": 609,
     "status": "ok",
     "timestamp": 1666173706419,
     "user": {
      "displayName": "Mohammad Hosein Movasaghinia",
      "userId": "01598110076807801550"
     },
     "user_tz": -210
    },
    "id": "d20c0ea7"
   },
   "outputs": [],
   "source": [
    "def get_comments_with_emoji(comments):\n",
    "    comment_texts = []\n",
    "    s1 = set(emoji_alphabet_multiple)\n",
    "    \n",
    "    for comment in tqdm(comments):\n",
    "        if type(comment) == str:\n",
    "            if s1.intersection(set(comment.split())) == set():\n",
    "                for e in emoji_alphabet:\n",
    "                    if e in comment:\n",
    "                        comment_texts.append(comment)\n",
    "                        break\n",
    "    return comment_texts"
   ]
  },
  {
   "cell_type": "code",
   "execution_count": 10,
   "id": "f3b97fdb",
   "metadata": {},
   "outputs": [
    {
     "name": "stderr",
     "output_type": "stream",
     "text": [
      "100%|███████████████████████████████████████████████████████████████████████████████████| 2/2 [00:00<00:00, 6662.91it/s]\n"
     ]
    },
    {
     "data": {
      "text/plain": [
       "['Hello 👍', 'hi 👍🏻😒']"
      ]
     },
     "execution_count": 10,
     "metadata": {},
     "output_type": "execute_result"
    }
   ],
   "source": [
    "get_comments_with_emoji(['Hello 👍', 'hi 👍🏻😒'])"
   ]
  },
  {
   "cell_type": "markdown",
   "id": "aac5e2b2",
   "metadata": {
    "id": "aac5e2b2"
   },
   "source": [
    "<div style=\"direction:rtl; font-family: 'B Lotus';\">به کمک تابع <code>get_comments_with_emoji</code> کامنت هایی که دارای ایموجی هستند را استخراج می‌کنیم و در نهایت در فایل <code>comments_with_emoji.txt</code> ذخیره می کنیم. </div>"
   ]
  },
  {
   "cell_type": "code",
   "execution_count": 110,
   "id": "094ba345",
   "metadata": {
    "colab": {
     "base_uri": "https://localhost:8080/"
    },
    "executionInfo": {
     "elapsed": 35308,
     "status": "ok",
     "timestamp": 1666173743697,
     "user": {
      "displayName": "Mohammad Hosein Movasaghinia",
      "userId": "01598110076807801550"
     },
     "user_tz": -210
    },
    "id": "094ba345",
    "outputId": "ec000364-4445-4002-95f2-794169525fc0"
   },
   "outputs": [
    {
     "name": "stderr",
     "output_type": "stream",
     "text": [
      "100%|██████████| 708934/708934 [00:34<00:00, 20491.63it/s]\n"
     ]
    },
    {
     "data": {
      "text/plain": [
       "91291"
      ]
     },
     "execution_count": 110,
     "metadata": {},
     "output_type": "execute_result"
    }
   ],
   "source": [
    "# comments_with_emoji = get_comments_with_emoji(comments_data)\n",
    "\n",
    "# f = open(\"./../result/comments_with_emoji.txt\", \"w\")\n",
    "# for comment in comments_with_emoji:\n",
    "#     f.write(f\"{comment}\\n\")\n",
    "# f.close()\n",
    "\n",
    "# len(comments_with_emoji)"
   ]
  },
  {
   "cell_type": "markdown",
   "id": "a88e06a8",
   "metadata": {},
   "source": [
    "<div style=\"direction:rtl; font-family: 'B Lotus';\">با توجه به این که پروسه استخراج کامنت‌های دارای ایموجی، کمی طولانی است، خروجی در فایل <code>comments_with_emoji.txt</code> ذخیره شده و هر موقع نیاز باشد، بازخوانی می‌شود. </div>"
   ]
  },
  {
   "cell_type": "code",
   "execution_count": 11,
   "id": "758aad69",
   "metadata": {},
   "outputs": [
    {
     "data": {
      "text/plain": [
       "91291"
      ]
     },
     "execution_count": 11,
     "metadata": {},
     "output_type": "execute_result"
    }
   ],
   "source": [
    "comments_with_emoji = []\n",
    "\n",
    "f = open(\"./../result/comments_with_emoji.txt\", \"r\")\n",
    "comments_with_emoji = f.readlines()\n",
    "f.close()\n",
    "\n",
    "len(comments_with_emoji)"
   ]
  },
  {
   "cell_type": "markdown",
   "id": "dcb90b0a",
   "metadata": {
    "id": "dcb90b0a"
   },
   "source": [
    "<div style=\"direction:rtl; font-family: 'B Lotus';\">این تابع به منظور استخراج مقادیری از دیکشنری ورودی است که بزرگتر از مقدار <code>value</code> باشند.</div>"
   ]
  },
  {
   "cell_type": "code",
   "execution_count": 12,
   "id": "17a08535",
   "metadata": {
    "executionInfo": {
     "elapsed": 809,
     "status": "ok",
     "timestamp": 1666173815671,
     "user": {
      "displayName": "Mohammad Hosein Movasaghinia",
      "userId": "01598110076807801550"
     },
     "user_tz": -210
    },
    "id": "17a08535"
   },
   "outputs": [],
   "source": [
    "def get_gt_value(my_dict, value):\n",
    "    '''\n",
    "    Get values from dictionary that grater than \"value\"\n",
    "    '''\n",
    "    return {x:y for x,y in my_dict.items() if y>value}"
   ]
  },
  {
   "cell_type": "markdown",
   "id": "33490d8b",
   "metadata": {
    "id": "33490d8b"
   },
   "source": [
    "<div style=\"direction:rtl; font-family: 'B Lotus';\">تابع نمایش چند مورد اول لیست</div>"
   ]
  },
  {
   "cell_type": "code",
   "execution_count": 13,
   "id": "6795e24e",
   "metadata": {
    "executionInfo": {
     "elapsed": 3,
     "status": "ok",
     "timestamp": 1666173816775,
     "user": {
      "displayName": "Mohammad Hosein Movasaghinia",
      "userId": "01598110076807801550"
     },
     "user_tz": -210
    },
    "id": "6795e24e"
   },
   "outputs": [],
   "source": [
    "def head_list(lst, until=5, sep=' '):\n",
    "    '''\n",
    "    Print top \"until\" item of list, \"sep\" is the seperator of printing results\n",
    "    '''\n",
    "    result = ''\n",
    "    num = 0\n",
    "    for i in lst:\n",
    "        if num == until:\n",
    "            result += f'{i}'\n",
    "        else:\n",
    "            result += f'{i}{sep}'\n",
    "        num += 1\n",
    "        if num > until:\n",
    "            break\n",
    "    print(result)"
   ]
  },
  {
   "cell_type": "markdown",
   "id": "bc2a32af",
   "metadata": {
    "id": "bc2a32af"
   },
   "source": [
    "<div style=\"direction:rtl; font-family: 'B Lotus';\">یک دیکشنری از ایموجی ها ساخته و تعداد هرکدام را در آن ذخیره می‌کنیم و در نهایت یک مرتب سازی براساس تعداد انجام می دهیم.</div>\n",
    "<div style=\"direction:rtl; font-family: 'B Lotus';\">در زمان شمارش، برای هر خط درصورتی که چندبار از یک ایموجی استفاده شده باشد، آن ایموجی فقط یکبار در شمارش به حساب خواهد آمد.</div>"
   ]
  },
  {
   "cell_type": "code",
   "execution_count": 23,
   "id": "13755c65",
   "metadata": {
    "colab": {
     "base_uri": "https://localhost:8080/"
    },
    "executionInfo": {
     "elapsed": 80396,
     "status": "ok",
     "timestamp": 1666173900963,
     "user": {
      "displayName": "Mohammad Hosein Movasaghinia",
      "userId": "01598110076807801550"
     },
     "user_tz": -210
    },
    "id": "13755c65",
    "outputId": "b1b3d5e4-7f4b-44b4-8c6a-f2034448c8fc"
   },
   "outputs": [
    {
     "name": "stderr",
     "output_type": "stream",
     "text": [
      "100%|███████████████████████████████████████████████████████████████████████████| 91291/91291 [00:28<00:00, 3184.48it/s]\n"
     ]
    }
   ],
   "source": [
    "emoji_dict = {}\n",
    "\n",
    "for emoji in emoji_alphabet:\n",
    "    emoji_dict[emoji] = 0\n",
    "\n",
    "for comment in tqdm(comments_with_emoji):\n",
    "    tmp_lst = []\n",
    "    for s in comment:\n",
    "        if s in emoji_alphabet:\n",
    "            tmp_lst.append(s)\n",
    "    for e in list(dict.fromkeys(tmp_lst)):\n",
    "        emoji_dict[e] += 1\n",
    "\n",
    "emoji_dict = {k: v for k, v in sorted(emoji_dict.items(), key=lambda item: item[1], reverse=True)}\n",
    "emoji_dict_nonzero = get_gt_value(emoji_dict, 0)"
   ]
  },
  {
   "cell_type": "code",
   "execution_count": 24,
   "id": "03722714",
   "metadata": {
    "colab": {
     "base_uri": "https://localhost:8080/"
    },
    "executionInfo": {
     "elapsed": 17,
     "status": "ok",
     "timestamp": 1666173900963,
     "user": {
      "displayName": "Mohammad Hosein Movasaghinia",
      "userId": "01598110076807801550"
     },
     "user_tz": -210
    },
    "id": "03722714",
    "outputId": "dfec69a3-e99e-4879-cbfa-360d16307b6e"
   },
   "outputs": [
    {
     "name": "stdout",
     "output_type": "stream",
     "text": [
      "Top 20 emojis in texts:\n",
      " #\tEmoji\tNumber\n",
      " 0\t😍\t17301\n",
      " 1\t❤\t14088\n",
      " 2\t👌\t12406\n",
      " 3\t👍\t9779\n",
      " 4\t😂\t6890\n",
      " 5\t😘\t4831\n",
      " 6\t👏\t4325\n",
      " 7\t🤩\t3412\n",
      " 8\t🤣\t3017\n",
      " 9\t🥰\t2943\n",
      "10\t♥\t2752\n",
      "11\t🌹\t2430\n",
      "12\t😭\t2334\n",
      "13\t😊\t2118\n",
      "14\t🙏\t2049\n",
      "15\t💜\t1868\n",
      "16\t💙\t1761\n",
      "17\t😁\t1593\n",
      "18\t💖\t1546\n",
      "19\t🥺\t1432\n",
      "---------------------\n",
      "The percentage of emojis in the text compared to the total emojis: [63.56%]\n"
     ]
    }
   ],
   "source": [
    "top_num_to_show = 20\n",
    "\n",
    "print(f'Top {top_num_to_show} emojis in texts:\\n #\\tEmoji\\tNumber')\n",
    "\n",
    "i = 0\n",
    "for k in emoji_dict.keys():\n",
    "    print(f'{i:2d}\\t{k}\\t{emoji_dict[k]}')\n",
    "    i += 1\n",
    "    if i >= 20:\n",
    "        break\n",
    "\n",
    "print('---------------------')\n",
    "print(f\"The percentage of emojis in the text compared to the total emojis: \\\n",
    "[{int(len(emoji_dict_nonzero)/len(emoji_dict)*10000)/100}%]\")"
   ]
  },
  {
   "cell_type": "code",
   "execution_count": 81,
   "id": "d9d10052",
   "metadata": {
    "colab": {
     "base_uri": "https://localhost:8080/",
     "height": 301
    },
    "executionInfo": {
     "elapsed": 9257,
     "status": "ok",
     "timestamp": 1666172010278,
     "user": {
      "displayName": "Mohammad Hosein Movasaghinia",
      "userId": "01598110076807801550"
     },
     "user_tz": -210
    },
    "id": "d9d10052",
    "outputId": "0132f48d-bd60-45a0-d0a9-16246488dfae"
   },
   "outputs": [
    {
     "data": {
      "image/png": "[encoded data removed]",
      "text/plain": [
       "<Figure size 9000x1800 with 1 Axes>"
      ]
     },
     "metadata": {
      "needs_background": "light"
     },
     "output_type": "display_data"
    }
   ],
   "source": [
    "data_to_show = get_gt_value(emoji_dict, 0)\n",
    "\n",
    "figure(figsize=(30, 6), dpi=300)\n",
    "\n",
    "plt.bar(range(len(data_to_show)), np.log2(list(data_to_show.values())), align='center')\n",
    "plt.xticks(range(len(data_to_show)), list(data_to_show.keys()))\n",
    "plt.xlabel(\"Emoji\")\n",
    "plt.ylabel(\"log2(#)\")\n",
    "plt.title(\"Number of each emoji\")\n",
    "plt.show()"
   ]
  },
  {
   "cell_type": "markdown",
   "id": "da178f31",
   "metadata": {
    "id": "da178f31",
    "tags": []
   },
   "source": [
    "<h2 style='direction:rtl;font-family: \"B Lotus\";'>§ نرمال‌سازی</h2>"
   ]
  },
  {
   "cell_type": "markdown",
   "id": "e0af859e",
   "metadata": {
    "id": "e0af859e"
   },
   "source": [
    "<div style='direction:rtl;font-family: \"B Lotus\";'>یک کلاس مجزا تعریف شده است که از کلاس <code>Normalizer</code> کتابخانه <code>hazm</code> ارث بری می&zwnj;کند. در این کلاس توابع زیر اضافه شده&zwnj;اند:</div>\n",
    "<ul style='direction:rtl;font-family: \"B Lotus\";'>\n",
    "  <li>تابع <code>__init__</code> صرفا به این منظور بازنویسی شده است که تابع <code>aug_data_init</code> را صدا بزند تا محتوای فایل مورد نیاز در متغیرها ذخیره شود. همچنین الفباهای مورد نیاز را مقدار دهی می کند.</li>\n",
    "  <li>تابع <code>aug_data_init</code> فایلی را می&zwnj;خواند و در یک دیکشنری ذخیره می&zwnj;کند. این فایل غلط های متداولی که در متن وجود داشته است را در خود دارد و شکل صحیح آن را نوشته است و دیکشنری ساخته شده برهمین اساس می&zwnj;باشد.</li>\n",
    "    <li>تابع <code>add_space_between_emoji_and_text</code> به منظور ایجاد فاصله میان متن و ایموجی‌ها می‌باشد.</li>\n",
    "    <li>تابع <code>convert_to_basic_emoji</code> برخی از ایموجی‌ها که رنگ‌های مخلتف یا ساختارهای مختلف مبتنی بر یک پایه هستند را به حالت پایه تبدیل می‌کند</li>\n",
    "    <li>تابع <code>normalize_emoji_len</code> تعداد ایموجی‌های موجود در متن را شمارش کرده و درصورتی که اختلاف تعداد آن‌ها با تعداد کاراکتر‌های غیر ایموجی متن بیش از <code>threshold</code> مشخصی باشد، از آن <code>threshold</code> به بعد، اجازه درج ایموجی را نمی‌دهد.</li>\n",
    "    <li>تابع <code>replace_with_persian</code> برخی از کاراکترهایی که مشابه فارسی هستند ولی در الفبای فارسی نیستند را به مشابه فارسی آن‌ها تبدیل می‌کند.</li>\n",
    "    <li>تابع <code>my_normalizer</code> ابتدا خود تابع <code>normalize</code> مربوط به کتابخانه <code>hazm</code> را صدا می کند و خروجی آن را گرفته و تغییرات لازم را متناسب با دیکشنری ای که توسط تابع <code>aug_data_init</code> مقدار دهی شده است را اعمال می&zwnj;کند تا این خطاها نیز رفع شود.</li>\n",
    "</ul>"
   ]
  },
  {
   "cell_type": "code",
   "execution_count": 92,
   "id": "a0a78b15",
   "metadata": {
    "executionInfo": {
     "elapsed": 552,
     "status": "ok",
     "timestamp": 1666176955316,
     "user": {
      "displayName": "Mohammad Hosein Movasaghinia",
      "userId": "01598110076807801550"
     },
     "user_tz": -210
    },
    "id": "a0a78b15"
   },
   "outputs": [],
   "source": [
    "class MyNormalizer(hazm.Normalizer):\n",
    "    \n",
    "    def __init__(self, persian_alphabet, english_alphabet, decorative_signs, \n",
    "                 persian_numbers, english_numbers, emoji_alphabet):\n",
    "        super().__init__()\n",
    "        self.aug_data_init()\n",
    "        self.persian_alphabet = persian_alphabet\n",
    "        self.decorative_signs = decorative_signs\n",
    "        self.english_alphabet = english_alphabet\n",
    "        self.persian_numbers = persian_numbers\n",
    "        self.english_numbers = english_numbers\n",
    "        self.emoji_alphabet = emoji_alphabet\n",
    "        \n",
    "    def aug_data_init(self):\n",
    "        f = open('./../data/augmented_data.txt', 'r')\n",
    "        self.aug_data = f.readlines()\n",
    "        f.close()\n",
    "    \n",
    "    def add_space_between_emoji_and_text(self, sent):\n",
    "        res_sent = ''\n",
    "        for i in range(len(sent)):\n",
    "            if i+1 < len(sent):\n",
    "                if (sent[i] in self.emoji_alphabet and sent[i+1] != ' ') or \\\n",
    "                    (sent[i] != ' ' and sent[i+1] in self.emoji_alphabet):\n",
    "                    res_sent += sent[i] + ' '\n",
    "                else:\n",
    "                    res_sent += sent[i]\n",
    "            else:\n",
    "                res_sent += sent[i]\n",
    "        return res_sent\n",
    "    \n",
    "    \n",
    "    def convert_to_basic_emoji(self, sent):\n",
    "        res_sent = ''\n",
    "        for c in sent:\n",
    "            if c in self.persian_alphabet or \\\n",
    "            c in self.decorative_signs or \\\n",
    "            c in self.english_alphabet or \\\n",
    "            c in self.persian_numbers or \\\n",
    "            c in self.english_numbers or \\\n",
    "            c in self.emoji_alphabet :\n",
    "                res_sent += c\n",
    "        return res_sent\n",
    "\n",
    "    \n",
    "    def normalize_emoji_len(self, text, threshold=300):\n",
    "        emoji_num = 0\n",
    "        persian_num = 0\n",
    "        for t in text:\n",
    "            if t not in self.persian_alphabet:\n",
    "                emoji_num += 1\n",
    "            elif t in self.persian_alphabet:\n",
    "                persian_num += 1\n",
    "        res_text = ''\n",
    "        if emoji_num > persian_num + threshold:\n",
    "            j = 0\n",
    "            for i, t in enumerate(text):\n",
    "                if t not in self.persian_alphabet:\n",
    "                    j += 1\n",
    "                if (j < persian_num + threshold and t in self.persian_alphabet) or (not (t in self.persian_alphabet)):\n",
    "                    res_text += t\n",
    "                \n",
    "        else:\n",
    "            res_text = text\n",
    "        \n",
    "        return res_text\n",
    "    \n",
    "    \n",
    "    def replace_with_persian(self, sent):\n",
    "        replace_list = {'ى':'ی',\n",
    "                        'ة':'ه',\n",
    "                        'ي':'ی'}\n",
    "        \n",
    "        for x in replace_list:\n",
    "            sent = sent.replace(x, replace_list[x])\n",
    "        \n",
    "        return sent\n",
    "    \n",
    "    \n",
    "    def my_normalizer(self, text):\n",
    "        text = self.replace_with_persian(text)\n",
    "        text = self.add_space_between_emoji_and_text(text)\n",
    "        text = self.normalize_emoji_len(text)\n",
    "        text = self.normalize(text)\n",
    "        text = self.convert_to_basic_emoji(text)\n",
    "        \n",
    "        \n",
    "        aug = {y[0]:y[1] for y in [x.replace('\\n', '').split('\\t') for x in self.aug_data]}\n",
    "\n",
    "        for k in aug:\n",
    "            while k in text:\n",
    "                text = text.replace(k, aug[k])\n",
    "        return text"
   ]
  },
  {
   "cell_type": "code",
   "execution_count": 93,
   "id": "1673c37b",
   "metadata": {
    "executionInfo": {
     "elapsed": 427,
     "status": "ok",
     "timestamp": 1666176957289,
     "user": {
      "displayName": "Mohammad Hosein Movasaghinia",
      "userId": "01598110076807801550"
     },
     "user_tz": -210
    },
    "id": "1673c37b"
   },
   "outputs": [],
   "source": [
    "normalizer = MyNormalizer(persian_alphabet, \n",
    "                          english_alphabet, \n",
    "                          decorative_signs, \n",
    "                          persian_numbers, \n",
    "                          english_numbers, \n",
    "                          emoji_alphabet\n",
    "                          )"
   ]
  },
  {
   "cell_type": "code",
   "execution_count": 95,
   "id": "cdd913d3",
   "metadata": {
    "colab": {
     "base_uri": "https://localhost:8080/"
    },
    "executionInfo": {
     "elapsed": 600,
     "status": "ok",
     "timestamp": 1666176973972,
     "user": {
      "displayName": "Mohammad Hosein Movasaghinia",
      "userId": "01598110076807801550"
     },
     "user_tz": -210
    },
    "id": "cdd913d3",
    "outputId": "7b770bde-8675-4b65-bb66-aeb978c4c76d"
   },
   "outputs": [
    {
     "name": "stdout",
     "output_type": "stream",
     "text": [
      "1\tBefore: واقعااااا\t\tAfter: واقعا\n",
      "2\tBefore: عاااالییییی\t\tAfter: عالی\n",
      "3\tBefore: عالیهههه\t\tAfter: عالیه\n",
      "4\tBefore: خداروششششکر\t\tAfter: خداروشکر\n",
      "5\tBefore: دم سازندش گرم😊\t\tAfter: دم سازندش گرم 😊\n",
      "6\tBefore: وانیامم🥳🥳👏\t\tAfter: وانیامم 🥳 🥳 👏\n",
      "7\tBefore: فوق العاده\t\tAfter: فوق العاده\n"
     ]
    }
   ],
   "source": [
    "test_set = [\"واقعااااا\", \"عاااالییییی\", \"عالیهههه\", 'خداروششششکر', 'دم سازندش گرم😊', 'وانیامم🥳🥳👏', 'فوق العاده']\n",
    "for i, t in enumerate(test_set):\n",
    "    print(f'{i+1}\\tBefore: {t}\\t\\tAfter: {normalizer.my_normalizer(t)}')"
   ]
  },
  {
   "cell_type": "markdown",
   "id": "c996525e",
   "metadata": {
    "id": "c996525e"
   },
   "source": [
    "<div style='direction:rtl;font-family: \"B Lotus\";'>پیش پردازش اولیه متن:</div>\n",
    "<ul style='direction:rtl;font-family: \"B Lotus\";'>\n",
    "  <li>حذف <code>n\\</code> ها</li>\n",
    "  <li>حذف <code>space</code> های اضافه ابتدا و انتهای متن</li>\n",
    "  <li>شکستن متن از نقاط دارای <code>space</code></li>\n",
    "  <li>فقط کامنت‌های انتخاب می‌شوند که حتما متن فارسی نیز داشته باشند</li>\n",
    "</ul>  "
   ]
  },
  {
   "cell_type": "code",
   "execution_count": 97,
   "id": "b495405f",
   "metadata": {
    "colab": {
     "base_uri": "https://localhost:8080/"
    },
    "executionInfo": {
     "elapsed": 610,
     "status": "ok",
     "timestamp": 1666176979665,
     "user": {
      "displayName": "Mohammad Hosein Movasaghinia",
      "userId": "01598110076807801550"
     },
     "user_tz": -210
    },
    "id": "b495405f",
    "outputId": "325c2b61-93b0-4773-e04a-f27d8c1e5803"
   },
   "outputs": [
    {
     "name": "stderr",
     "output_type": "stream",
     "text": [
      "100%|█████████████████████████████████████████████████████████████████████████| 91291/91291 [00:00<00:00, 806286.44it/s]"
     ]
    },
    {
     "name": "stdout",
     "output_type": "stream",
     "text": [
      "Comments number: 86801\n"
     ]
    },
    {
     "name": "stderr",
     "output_type": "stream",
     "text": [
      "\n"
     ]
    }
   ],
   "source": [
    "comments = []\n",
    "for comment in tqdm(comments_with_emoji):\n",
    "    for c in persian_alphabet:\n",
    "        if c in comment:\n",
    "            comments.append(comment.replace(\"&#039;\", \"\\'\").replace('\\n', '').strip().split())\n",
    "            break\n",
    "\n",
    "print(f\"Comments number: {len(comments)}\")"
   ]
  },
  {
   "cell_type": "code",
   "execution_count": 98,
   "id": "6c2fd3e6",
   "metadata": {
    "scrolled": true
   },
   "outputs": [
    {
     "name": "stdout",
     "output_type": "stream",
     "text": [
      "خیلییی محشر بود حیف شد گین مرد من کلی گریه کردم ،😔☹️😢😢🤕🤒🤧\n",
      "عالی بود مرسی ❤️🌹\n",
      "امیر مقاره هم هس🤩🥺😛🤩🤩🤩🤩🤩🤩🤩\n",
      "وااای فوق العاده قشنگ بود ، تابحال فیلم به این زیبایی ندیده بودم😍\n",
      "خیلی عالی بود خوشم اومد 🌹\n",
      "من تو سینما دیدم خیلی خنده دار داره 🤣🤣🤣\n",
      "باحال ببوددددد😅😅😅😅\n",
      "عاشق این فیلمم عالی بود بی نظیر مخصوصا آقا رضا گلزار ❤\n",
      "این عا لی 😉😉😉😉😉😇😉😇🎂🎂🎂🎂🎂🎂😍😍😍😍😍😇😇😇😇\n",
      "من خیلی خیلی دوست داشتم فیلم رو 💜💜💜\n",
      "خیلییئییییییییییییی عالیه😍\n",
      "فقط رضا نیکخواه😂😂😂\n",
      "واقعاعالی بود حتمه ببیننش 👍👍👍\n",
      "مامانم‌این‌فیلمو‌دوست‌داره😃😃😃😃😃😃\n",
      "بسیار عالی 😍\n",
      "بامزه بود😍😍\n",
      "عالی بود ♥️♥️♥️♥️\n",
      "واقعا خیلی دوست دارم چون که هر فیلم ایرانی آخرش بد تموم میشه ولی این واقعا آخرش عالی تموم شد ممنون از کارگردان و همچنین تهیه کننده ممنونم بابت فیلمی که ساختید بازم ممنونم ❤❤♥️♥️♥️😍😍😍😍\n",
      "خیلی خنده داشت 😂😂😂\n",
      "عالی عالی من عاشقش شدم اگه میشه (مرحله ۲ )هم بزارید ممنون😍\n",
      "فیلم خیلی قشنگی هست 😍😍\n",
      "عاااالی😭\n",
      "عاااااالی 👍\n",
      "فوق العاده بود❤\n",
      "سحر قریشی خوب بازی کرد😍به پورسرخ هم طنز میاد\n",
      "جالب بود دوسداشتم😊\n",
      "ولی بلک پینک یه چیز دیگست💖🖤\n",
      "فیلم خیلی جذابی بود من خودم خیلی خوشم اومد چون هزینه های زیادی کردن فیلم خیلی واقعی به نظر میرسید صحنه هاش عالی دم بازیگراش گرم 👏👏👏👏👏\n",
      "عالی بود🌷\n",
      "عالی 🙏\n"
     ]
    }
   ],
   "source": [
    "for x in random.sample(comments, 30):\n",
    "    print(' '.join(x))"
   ]
  },
  {
   "cell_type": "markdown",
   "id": "4e7de797-3066-4310-b315-adb625864321",
   "metadata": {
    "id": "4e7de797-3066-4310-b315-adb625864321"
   },
   "source": [
    "<div style='direction:rtl;font-family: \"B Lotus\";'>نرمال‌سازی به کمک تابع <code>my_normalizer</code> انجام می شود که شامل بخش‌های زیر می‌باشد:</div>\n",
    "<ul style='direction:rtl;font-family: \"B Lotus\";'>\n",
    "  <li>اجرای تابع <code>normalizer</code> کتابخانه <code>hazm</code></li>\n",
    "  <li>با استفاده از تابع <code>add_space_between_emoji_and_text</code> در مواردی که بین متن و ایموجی فاصله‌ای وجود ندارد، فاصله ایجاد می کند.</li>\n",
    "    <li>با استفاده از تابع <code>normalize_emoji_len</code> تعداد ایموجی‌های موجود در متن نرمالایز می‌شود.</li>\n",
    "  <li>بعضی از اشتباهات یا حالت‌هایی که در متن به صورت محاوره‌ای استفاده می‌شود، اصلاح می‌شود.</li>\n",
    "</ul>  "
   ]
  },
  {
   "cell_type": "code",
   "execution_count": 99,
   "id": "d457e144",
   "metadata": {
    "colab": {
     "base_uri": "https://localhost:8080/"
    },
    "executionInfo": {
     "elapsed": 191157,
     "status": "ok",
     "timestamp": 1666177174105,
     "user": {
      "displayName": "Mohammad Hosein Movasaghinia",
      "userId": "01598110076807801550"
     },
     "user_tz": -210
    },
    "id": "d457e144",
    "outputId": "9128ff26-495e-4774-a66e-d18b175e6684"
   },
   "outputs": [
    {
     "name": "stderr",
     "output_type": "stream",
     "text": [
      "100%|███████████████████████████████████████████████████████████████████████████| 86801/86801 [00:51<00:00, 1697.39it/s]\n"
     ]
    }
   ],
   "source": [
    "comments_normalized = [[normalizer.my_normalizer(y) for y in x] for x in tqdm(comments)]"
   ]
  },
  {
   "cell_type": "code",
   "execution_count": 100,
   "id": "754d0875",
   "metadata": {
    "colab": {
     "base_uri": "https://localhost:8080/"
    },
    "executionInfo": {
     "elapsed": 28,
     "status": "ok",
     "timestamp": 1666177174106,
     "user": {
      "displayName": "Mohammad Hosein Movasaghinia",
      "userId": "01598110076807801550"
     },
     "user_tz": -210
    },
    "id": "754d0875",
    "outputId": "6b687b73-a3e7-45c8-dd4c-f1f746848f49",
    "scrolled": true
   },
   "outputs": [
    {
     "name": "stdout",
     "output_type": "stream",
     "text": [
      "اگر همچین ویروسی ساخته بشه واقعا چی؟ 🤦  ♀ \n",
      "خیلی با حال بود 😍 ❤ ❤ ❤\n",
      "عالی 😍 😍 😍 😍 😍\n",
      "جذاب بود 👍 \n",
      "♥ ♥ ♥ ♥ ♥ ♥ ♥ ♥ ♥ ♥ ♥ ♥ ♥ ممنونم فیلم دوست دارم\n",
      "دم محمد حسین مهدویان و جواد عزتی گرم ترکوندن 🎇\n",
      "فیلم فوق العاده خوبی خنده دار هم هست عالیه 👍 👍 🌹 🌹\n",
      "عالی 😍 😍 😍 😍\n",
      "فک کنم این فیلم عالی باشهچون هم اسپایدر من و هم ونوم توش هستن 🤩\n",
      "عالی ❤  ❤  ❤  ❤  ❤  ❤  ❤  ❤  ❤  ❤  ❤  ❤  ❤  ❤  💜 💜 💜 💜 💜 💜 💜 💜 💜 💜 💜 💜 💜 💜\n",
      "دوبله عالی 😂 😂 😂\n",
      "فقط اخرش که بابای سو آن مرد من خیلی خیلی گریه کردم 😭 😭 😭 💔 💔 💔\n",
      "عالی ترسناک نیست 😍\n",
      "عالی عالی عالی عالی عالی عالی عالی عالی عالی عالی عالی عالی عالی عالی 👑 👑 👑 👑 👑 👑 👑 👑\n",
      "سلام وهزاران دورودکارتون عالی بود خیلی قشنگ بودممنون 🥰 ❤ 🌹\n",
      "خیلی خنده دار بود 😂 😂 😂 😂 😂\n",
      "من عاشق این فیلم شدم خیلی خیلی خوب بود 💗 💗\n",
      "خیلی قشنگهممنون بابت فیلم زیباتون 💛 👬 🌻\n",
      "👌  👌  👌  👌  👌  👌  👌  👌  بسیار عالی\n",
      "پسندیدیم 😎\n",
      "ممنون از کسی که این فیلم رو ساخته عالی بود فقط مرده ۴تا زن داشت 😑\n",
      "واقعا امین حیایی و بیژن بنفشه خواه همه و همه عالی بودن 😂\n",
      "عالی بود حتما ببینید  👌\n",
      "بر اساس واقعیت بود 😭\n",
      "من نیسان آبی رو دوست دارم 💐 💐 💐 🌸 🌸\n",
      "‌از طرف فاطمه ، دوست دارم دختر کفشدوزکی فیلت خیلی عالی بودمرسی از کارگردانش 🙏 ❤ 💋 💖\n",
      "ناتاشا مرد 😭 کپ مرد 💔 استارک هم مرد 😭 😭 😭 😭 💔\n",
      "خب به خانه نمیامد 😅\n",
      "عالی بود 😍 😘 👌 👌 👍 👍 😂 😂 😂 😂 😂 💚 💙\n",
      "عالی بود 👏\n",
      "خیلی خنده داره حتما ببینید چون من ۵ بار پشت سر هم دیدیمش 😂 😂\n",
      "خیلی باحاله حتما ببینید 😍 😍 😍 😍\n",
      "عالی 🤩 🤩 🤩 🤩 🤩 🤩 🤩 🤩 🤩 🤩 🤩 🤩 🤩 🤩 🤩 🤩 🤩 🤩 🤩 خوب بود\n",
      "امیرحسین آرمان عشقه ❤ ❤ ❤\n",
      "خیلی ترسناک بود 😬\n",
      "عالی بود 😂 😂\n",
      "فقط اونجاش که میگه خاموش کن گلابی 😂 😂 😂\n",
      "خانم بهرام همیشه بهترین و حرفه ای ترین بودن و هستن 😎 💙\n",
      "بسیار جذاب ارزش دیدن وقت گذاشتن رو داره 👌\n",
      "عالی بود 😊 😊 😊 😊 🌹\n",
      "فیلمی که باید دید 👌\n",
      "عالی بو من که واقعا اشکم درومد با زی مهناز افشارم فوقعالده بود 👌 👌\n",
      "خیلی خوب بود 👍\n",
      "اولش خیلی شاد بود ولی بعد انقد غمگین شد که من بخاطرش خیلی گریه کردم مخصوص بخاطر صحنه ای که شاهزاده ۱۰ مرد لطفا فصل دو هم بیاد 🥲 🥺 🥺\n",
      "🤩 🤩 🤩 🤩 🤩 عالی\n",
      "خیلی عالی بود 👌 😁 😁\n",
      "قشنگترین فیلمی که دیدم بی نظیره 😔\n",
      "ترسناک نیستش اصلا 😢\n",
      "عالی بود 👌 👌\n",
      "عالی بود 😀\n"
     ]
    }
   ],
   "source": [
    "for x in random.sample(comments_normalized, 50):\n",
    "    print(' '.join(x))"
   ]
  },
  {
   "cell_type": "markdown",
   "id": "8f41a6e1-c897-4137-95a1-554ab3e85170",
   "metadata": {
    "id": "8f41a6e1-c897-4137-95a1-554ab3e85170"
   },
   "source": [
    "<h2 style='direction:rtl;font-family: \"B Lotus\";'>§ جمله‌بندی</h2>"
   ]
  },
  {
   "cell_type": "markdown",
   "id": "2f95e6db",
   "metadata": {},
   "source": [
    "<div style=\"direction:rtl; font-family: 'B Lotus'\">در این بخش کامنت ها را به جملات تشکیل دهنده می‌شکنی؛ این کار به کمک تابع <code>sent_tokenize</code> کتابخانه <code>hazm</code> انجام شده است.</div>"
   ]
  },
  {
   "cell_type": "code",
   "execution_count": 101,
   "id": "02047700",
   "metadata": {
    "colab": {
     "base_uri": "https://localhost:8080/"
    },
    "executionInfo": {
     "elapsed": 674,
     "status": "ok",
     "timestamp": 1666177174757,
     "user": {
      "displayName": "Mohammad Hosein Movasaghinia",
      "userId": "01598110076807801550"
     },
     "user_tz": -210
    },
    "id": "02047700",
    "outputId": "702ddf2d-7147-48ff-edf7-317a1cd611e2"
   },
   "outputs": [
    {
     "name": "stderr",
     "output_type": "stream",
     "text": [
      "100%|█████████████████████████████████████████████████████████████████████████| 86801/86801 [00:00<00:00, 420120.11it/s]\n"
     ]
    }
   ],
   "source": [
    "comments_sentences = [hazm.sent_tokenize(' '.join(x)) for x in tqdm(comments_normalized)]"
   ]
  },
  {
   "cell_type": "code",
   "execution_count": 102,
   "id": "a9d36438",
   "metadata": {
    "colab": {
     "base_uri": "https://localhost:8080/"
    },
    "executionInfo": {
     "elapsed": 24,
     "status": "ok",
     "timestamp": 1666177174758,
     "user": {
      "displayName": "Mohammad Hosein Movasaghinia",
      "userId": "01598110076807801550"
     },
     "user_tz": -210
    },
    "id": "a9d36438",
    "outputId": "63c77c30-aa8d-4985-c029-0e923c8be68c",
    "scrolled": true
   },
   "outputs": [
    {
     "name": "stdout",
     "output_type": "stream",
     "text": [
      "عالی بود 👌 👌 👌 👌\n",
      "سلام 🤩\n",
      "فقط میرطاهر 🤣 🤣 🤣\n",
      "یه فیلم با قبلیت ترمیم روح و حال خوب کن 😍 😍 😍 😍 😍\n",
      "یکی از بهترین ها بود واقعا فقط میشه گفت دمشون گرم عالی 👏 👏 👏 👌 👌 👌\n",
      "این فیلم عالی بود حتما ببینید من سه بار خودم دیدم چند بار هم با دوستانم ممنون از سازندش ❤ ❤ ❤ ❤ ❤ 👧 👧 ♥ ♥\n",
      "عالیه عالیه حتما ببینید 😍 👏 👏 👏 👌 👌 👌\n",
      "ژاله صامتی 👌 👌 👌\n",
      "الی بود 👌 👌 👌 👌 👆\n",
      "دلم برای دابی سوخت ☹ 😭 💔\n",
      "بی نظیر ♥  ♥  ♥  ♥  ♥  ♥  ♥  ♥\n",
      "خوب بود پسندیدم 👌\n",
      "امیر مهدی ژوله رو عشقه ❤ ❤ ❤ ❤ ❤ ❤\n",
      "خیلی خوبه 😍 😍 😍 😍 هرکی دوست داشت لایک کنه 😍 😍 😍 😍 😅 😅 😅\n",
      "وای باور نکردنیی دینامیت امده 🤩 🤩 🤩 🤩\n",
      "عالی بود 💜 🖤 🤍\n",
      "خیلی خیلی عالی بود مرسی از فیلمو 👍 👍 👍 👍 👍\n",
      "بهترین فیلمی هست که من دیدمولی بنزرم می نباید می مرد آخه چرا 😭\n",
      "بعضی ها خیلی سوال های مسخره میپرسند 😐 فیلم خیلی قشنگی\n",
      "عالی بود 👍 👌 ❤\n",
      "واقعا طنز زیبایی داشت 😂\n",
      "بهترین دیالوگ این فیلم این بود: «اینقدر نبض یک رابطه‌ی مرده را نگیر» 🌿 🌹 🌿 🌹 🌿 🌹 🌿 🌹\n",
      "عالی 👍 👍\n",
      "انگار یه جای نوشته بود تا اخرهای ماه تیر بیادکاش به زودی اکران بشه طاقت ندارم ❤\n",
      "آلی بود 😍 😍\n",
      "حرف نداشت یعنی عالی بود 😍 😍\n",
      "خیلی فیلم قشنگی هست من عاششق پایان خوش هستم 😘 ❤\n",
      "اگه از این سریال خوشتون اومد خانه کاغذی رو هنوز ندیدی 😍\n",
      "این کارتون خیلی خوب بود 👌 👌\n",
      "خیلی قشنگ من خیلی این فیلمو دوست دارم آقای گلزار هم عالی بودن ❤\n",
      "دوست داشتم ❤\n",
      "عایی. ### مرسی 👍 👍 ❤\n",
      "یه فیلم خسته کنده و شیطان پسند 🐃 🐃\n",
      "عالی و غم انگیز 😔 👌\n",
      "بسیار عالی بود 😍 😍 😍\n",
      "وای کاش فصل دومش بیاد 🤩 🤩 💕 💕\n",
      "چه خفن بود بازیش فکر نمی کردم انقدر خطرناک باشه 🤪 اولش خسته کنده بود ولی بعد از چند دقیقه قشنگ شد\n",
      "خیلی خفنه 👌\n",
      "واقعا از محشرهم اونور تر بود واقعا باید تو تاریخ ایران ثبتش کن حتی اگه ۱۰۰ بار هم این فیلم رو ببینیم کافی نیست محشره بی نقص ✋ ❤\n",
      "هیجانی و جالب بود موسیقی فیلم هم خیلی قشنگ و جذاب . ### حتما ببینید 🌹 🌹 🌹 🌹 🌹\n",
      "خیلی خیلی منتظرمم تروخدا زودتر اکرانش کنید 🙏\n",
      "مگه میشه توی فیلم و سریالی که دونگ وک توشه بد بشه اخهعه 😭 😭 😭 😭 😭 محشره 😭 💖\n",
      "این فیلم قشنگ ترین فیلم دنیا هست عالی اگه نبیینی از دستش دادی چون خیلی زیباست واقا نمره ۱ را داره 🥇 ❤\n",
      "کلا جمعه ها روز سریالای خوبهاول خوب بد جلف,بعد زخم کاری، الانم که میدان سرخ 😍 😍 🤩\n",
      "واقعا یکی از بهترین فیلمایی بود که دیدم عالی بود 👍\n",
      "احساس میکردم دارم بازی پلی استیشن میکنم   انقد بد بود که نتونستم تا آخرش ببینم 😒 😒\n",
      "خیلی عالی بود 😍\n",
      "خیلی عالیه متشکرم از فیلیمو 💖 💖 💝 💝\n",
      "خیلی قشنگ بود من و مامانم که گریه کردیم 😭 😂 💝 💝 💝 💋\n",
      "خیلی عالیه 😘 😘 😘\n"
     ]
    }
   ],
   "source": [
    "for x in random.sample(comments_sentences, 50):\n",
    "    print(' ### '.join(x))"
   ]
  },
  {
   "cell_type": "markdown",
   "id": "4213e71e-7924-4cd8-b29f-cbe813c2afb0",
   "metadata": {
    "id": "4213e71e-7924-4cd8-b29f-cbe813c2afb0"
   },
   "source": [
    "<h2 style='direction:rtl;font-family: \"B Lotus\";'>§ توکنیزیشن</h2>"
   ]
  },
  {
   "cell_type": "markdown",
   "id": "2f8f3a3d",
   "metadata": {},
   "source": [
    "<div style=\"direction:rtl; font-family: 'B Lotus'\">این بخش جملات جدا شده را به تفکیک بررسی کرده و به کلمات سازده آن می‌شکنیم؛ برای این منظور از تابع <code>my_word_tokenize</code> استفاده می‌کنیم که در ادامه توضیح داده شده است.</div>"
   ]
  },
  {
   "cell_type": "markdown",
   "id": "2f066500",
   "metadata": {},
   "source": [
    "<div style=\"direction:rtl; font-family: 'B Lotus'\">تابع <code>my_word_tokenize</code> ابتدا جمله را به تابع <code>word_tokenize</code> کتابخانه <code>hazm</code> می دهد و خروجی آن را بررسی کرده که در صورت وجود برخی از کلمات خاص که نیاز به اصلاح دارند، آن‌ها را اصلاح کرده و کلمات نهایی را برگرداند.</div>"
   ]
  },
  {
   "cell_type": "code",
   "execution_count": 110,
   "id": "1a2175c2",
   "metadata": {},
   "outputs": [],
   "source": [
    "def my_word_tokenize(self, sent):\n",
    "    res_token = []\n",
    "    n_gram = {'فوق‌العاده': ['فوق', 'العاده'],\n",
    "              'غم‌انگیز': ['غم', 'انگیز'],\n",
    "              'هیجان‌انگیز': ['هیجان', 'انگیز']}\n",
    "    tokens = hazm.word_tokenize(sent)\n",
    "    i = 0\n",
    "    while i < len(tokens)-1:\n",
    "        for aug in n_gram:\n",
    "            if tokens[i] == n_gram[aug][0] and tokens[i+1] == n_gram[aug][1]:\n",
    "                res_token.append(aug)\n",
    "                i += 2\n",
    "            else:\n",
    "                res_token.append(tokens[i])\n",
    "                i += 1\n",
    "            if i >= len(tokens)-1:\n",
    "                break\n",
    "    return res_token"
   ]
  },
  {
   "cell_type": "code",
   "execution_count": 104,
   "id": "e0965a0b",
   "metadata": {
    "colab": {
     "base_uri": "https://localhost:8080/"
    },
    "executionInfo": {
     "elapsed": 3139,
     "status": "ok",
     "timestamp": 1666178159454,
     "user": {
      "displayName": "Mohammad Hosein Movasaghinia",
      "userId": "01598110076807801550"
     },
     "user_tz": -210
    },
    "id": "e0965a0b",
    "outputId": "02812f93-a345-4379-ab2d-104321006d6e"
   },
   "outputs": [
    {
     "name": "stderr",
     "output_type": "stream",
     "text": [
      "100%|█████████████████████████████████████████████████████████████████████████| 86801/86801 [00:00<00:00, 116894.91it/s]\n"
     ]
    }
   ],
   "source": [
    "comments_tokens = [[my_word_tokenize(sent) for sent in sents] for sents in tqdm(comments_sentences)]"
   ]
  },
  {
   "cell_type": "code",
   "execution_count": 105,
   "id": "737e2e80",
   "metadata": {
    "colab": {
     "base_uri": "https://localhost:8080/"
    },
    "executionInfo": {
     "elapsed": 742,
     "status": "ok",
     "timestamp": 1666178162404,
     "user": {
      "displayName": "Mohammad Hosein Movasaghinia",
      "userId": "01598110076807801550"
     },
     "user_tz": -210
    },
    "id": "737e2e80",
    "outputId": "7c4388a0-7f21-4662-8f5d-78206995db47",
    "scrolled": true
   },
   "outputs": [
    {
     "name": "stdout",
     "output_type": "stream",
     "text": [
      "[['خوب', 'نیست', 'عالیه', '🤩', '🤩', '🤩', '🤩', '🤩']]\n",
      "[['عالی', '❤', '❤', '❤']]\n",
      "[['بهترین', 'و', 'عالی', 'ترین', 'فیلم', 'ایرانی', '👍', '👍', '👍', '👍', '👍', '👌', '👌', '👌']]\n",
      "[['فیلیمی', 'که', 'حتی', 'چند', 'روز', 'بعد', 'دیدنش', 'درگیرشیعالی', 'بود']]\n",
      "[['خیلی', 'عالی', 'بود', 'حتما', 'ببینید', '🥰', '🥰']]\n",
      "[['خیلی', 'ممنون', 'از', 'معرفی', 'دقیق', 'بازیگران', '😂']]\n",
      "[['بعضیا', 'پرسیدند', 'که', 'اخر', 'فیلم', 'چی', 'شد', 'و', 'اخرش', 'باز', 'بود', 'باید', 'بگم', 'ک', 'اصلا', 'پایانه', 'بازی', 'نداشت', 'اون', 'مرده', 'که', 'زن', 'و', 'بچش', 'رو', 'کشت', 'بعد', 'از', 'این', 'که', 'کشت', 'دچار', 'یه', 'اختلالی', 'شد', 'که', 'یه', 'توهم', 'خیلی', 'بزرگی', 'زدو', 'فک', 'کرد', 'که', 'فقط', 'بچش', 'از', 'بلندی', 'افتاد', 'و', 'فقط', 'دستش', 'شکست', 'و', 'زنشم', 'زندس', 'بعد', 'می', 'ره', 'بیمارستان', 'برای', 'دسته', 'بچش', 'ولی', 'اون', 'جا', 'هم', 'یه', 'توهم', 'می', 'زنه', 'که', 'تویه', 'بیمارستان', 'یه', 'طبقه', 'ای', 'هست', 'که', 'همه', 'ی', 'اعضایه', 'بدن', 'رو', 'در', 'میارن', 'و', 'می', 'فروشن', 'برایه', 'همین', 'تو', 'کل', 'فیلم', 'تلاش', 'می', 'کرد', 'که', 'خوانواده', 'ای', 'که', 'توهمش', 'بودن', 'که', 'رفتن', 'تویه', 'اون', 'طبقه', 'رو', 'نجات', 'بده', 'و', 'اخرشم', 'که', 'همه', 'ی', 'اینا', 'رو', 'نشون', 'داد', 'که', 'همشون', 'توهم', 'ذهنش', 'بوده', 'و', 'بچش', 'رو', 'برایه', 'رومخ', 'بودن', 'کشته', 'و', 'مادره', 'هم', 'برایه', 'این', 'که', 'انقدر', 'سر', 'کوفتش', 'می', 'کرد', 'که', 'چرا', 'کشتیش', 'چرا', 'کشتیش', 'هلش', 'داده', 'و', 'کشدتش'], ['اوف', 'بلخره', 'تموم', 'شد', 'حالا', 'فهمیدید', 'جریانو']]\n",
      "[['فیلم', 'خوب', 'با', 'جواد', 'عزتی', 'معنا', 'دا', 'ره', '👋', '👌', '👍']]\n",
      "[['خیلی', 'عالی', 'بود']]\n",
      "[['سکانس', 'آخر', 'خیلی', 'زیبا', 'بود', '😭']]\n",
      "[['به', 'نظر', 'من', 'فیلم', 'خیلی', 'قشنگیه']]\n",
      "[['عالیه', 'من', 'دوبله', 'فارسی', 'این', 'رو', 'دیدم']]\n",
      "[['بیی', 'نظییره', 'از', 'بچگی', 'عاشقمم', '😍', '😍', '😍']]\n",
      "[['اما', 'واتسون', 'فقط', '💚', '🖤', '💙', '❤']]\n",
      "[['عالی', 'بود', '👌', '👌']]\n",
      "[['عالی', 'بی', 'نظیره', 'شاهکاره', '👍']]\n",
      "[['من', 'هیچی', 'نفهمیدم', 'و', 'کاملا', 'گیج', 'شدم', '😕', 'ولی', 'پایان', 'من', 'پایان', 'آخر', 'و', 'یکی', 'مونده', 'به', 'آخر', 'رو', 'خیلی', 'دوست']]\n",
      "[['عالی', 'بود', 'خیلی', 'خیلی', 'خوب', 'و', 'دوست', 'داشتنی', '❤', '❤']]\n",
      "[['باید'], ['بگم', 'که', '❤', 'عالی', '😘']]\n",
      "[['دمتون', 'گرمم']]\n",
      "[['خیلی', 'فیلم', 'خوب', 'و', 'تاثیر', 'گذاری', 'بود', '👏']]\n",
      "[['دوبله', 'نیست', 'ولی', 'عاشقشمم', '😇']]\n",
      "[['دوبله', 'واقعا', 'عالی', 'بود', 'مرسی']]\n",
      "[['واقعا', 'زیبا', 'بود']]\n",
      "[['کیف', 'کردم']]\n",
      "[['عالی', 'بود'], ['نیکخواه', 'واقعا', 'یه', 'هنرمنده'], ['👍']]\n",
      "[['عالی', 'بود', '😍', '😍', '😍', '🤩', '🤩', '🤩']]\n",
      "[['من', 'برای', 'هیچ', 'فیلمی', 'گریه', 'نمیکردم', 'برای', 'این', 'زار', 'زار', 'گریه', 'کردم', '😢', 'یکی', 'از', 'بهترین', 'فیلم', 'ها', 'بود', 'عالیه', 'عالی', 'درجه', 'یک', 'سن', 'من', '۱۳', 'با', 'این', 'سن', 'نسبتا', 'کمم', 'خیلی', 'گریه', 'کردم', 'این', 'فیلم', 'فوق']]\n",
      "[['بسایار', 'عال', '🗻']]\n",
      "[['واقعا', 'عالی', 'بود', 'ممنونم', 'فیلمو', '💟', '💟', '💟', '💖', '💖']]\n",
      "[['خیلی', 'فیلم', 'خوبی', 'ممنون']]\n",
      "[['بد', 'نبود', 'بیشتر', 'تا', 'خوب', 'مسخره', 'بود', '🤢']]\n",
      "[['عالی', '💕', '💕', '💕', '💕', '💕', '💕', '💕', '💕', '💕', '💕', '💕', '💕', '💕', '💕', '💕']]\n",
      "[['وایی', 'وایی', 'چقدر', 'خوبه', 'بهترین', 'فیلمیه', 'که', 'توی', 'زندگیم', 'دیدم', 'لحظه', 'لحظش', 'درس', 'زندگیه', '😍', '😍']]\n",
      "[['خیلی', 'عالی', 'بود', '❤', '❤', '😘']]\n",
      "[['باب', 'اسفنجی', 'بهترینه', '،', 'خیلی', 'عالی', 'بود']]\n",
      "[['😂', '😂', '😂', '😂', 'واقعا', 'خنده', 'دار', 'بود', 'حتما']]\n",
      "[['زیاد', 'جالب', 'نبود']]\n",
      "[['این', 'فیلم', 'معرکس', '😘', '😘']]\n",
      "[['👌', '👌', 'عالی']]\n",
      "[['عالیبیی', '✋', '✋', '✋', '✋', '✋']]\n",
      "[['عالی', 'من', 'حتی', 'دوشم', 'دیدم', '❤', '❤', '❤', '❤']]\n",
      "[['خیلی', 'جالب', 'بود', '💪']]\n",
      "[['قشنگه']]\n",
      "[['من', 'صد', 'بار', 'این', 'فیلم', 'دیدم', 'ولی', 'قشنگ', 'بود', 'و', 'دوست', 'داشتم', 'ولی', 'اصلا', 'گریه', 'نکردم', 'براش', '😊']]\n",
      "[['خیلی', 'خوب', 'بود', '😃']]\n",
      "[['خیلی', 'باحال', 'بود', 'مخصوصا', 'بازی', 'ساعد', 'سهیلی', 'ازاده', 'صمدی', 'و', 'هستی', 'مهدوی', 'فر', '😂', '😂', '😂']]\n",
      "[['🤣', '🤣', '🤣', 'فقط', 'کاظم', 'سیاحیاما', 'در', 'کل', 'این', 'قسمت', 'مشخص', 'نشد', 'چی', 'ب', 'چیه', 'امیدوارم', 'قسمت', 'های', 'بعدی', 'بهتر']]\n",
      "[['بد', 'نبود']]\n",
      "[['ولی', 'خدایی', 'خیلی', 'داستان', 'چرتی', 'بود', 'ولی', 'خیلی', 'خندیدم']]\n"
     ]
    }
   ],
   "source": [
    "for x in random.sample(comments_tokens, 50):\n",
    "    print(x)"
   ]
  },
  {
   "cell_type": "code",
   "execution_count": 238,
   "id": "287a57d8",
   "metadata": {},
   "outputs": [],
   "source": [
    "# f = open('./../result/sam.txt', 'w')\n",
    "# for x in random.sample(comments_tokens, 700):\n",
    "#     f.write(f\"{'--'.join(x[0])}\\n\")\n",
    "# f.close()"
   ]
  },
  {
   "cell_type": "markdown",
   "id": "32dfd889-33ae-44b0-8b24-acfb6d15148d",
   "metadata": {
    "id": "32dfd889-33ae-44b0-8b24-acfb6d15148d"
   },
   "source": [
    "<h2 style='direction:rtl;font-family: \"B Lotus\";'>§ تحیلی بسامد</h2>"
   ]
  },
  {
   "cell_type": "markdown",
   "id": "17c47ec2",
   "metadata": {},
   "source": [
    "<div style=\"direction:rtl; font-family: 'B Lotus'\">در این قسمت به بررسی کلمات پرتکرار متن می‌پردازیم تا بتوانیم شناخت بهتری از کسب کنیم.</div>"
   ]
  },
  {
   "cell_type": "markdown",
   "id": "9dd1f4e9",
   "metadata": {},
   "source": [
    "<div style=\"direction:rtl; font-family: 'B Lotus'\">در بخش اول تمامی توکن‌ها (کلمات) را بررس می‌کنیم تا وضعیت کلی از کلمات پرتکرار به دست اید.</div>"
   ]
  },
  {
   "cell_type": "code",
   "execution_count": 106,
   "id": "d2945b93",
   "metadata": {
    "colab": {
     "base_uri": "https://localhost:8080/",
     "height": 1000
    },
    "executionInfo": {
     "elapsed": 1458,
     "status": "ok",
     "timestamp": 1666178168629,
     "user": {
      "displayName": "Mohammad Hosein Movasaghinia",
      "userId": "01598110076807801550"
     },
     "user_tz": -210
    },
    "id": "d2945b93",
    "outputId": "93b10916-06bb-4c12-880c-946228b049c9",
    "scrolled": true
   },
   "outputs": [
    {
     "data": {
      "text/html": [
       "<div>\n",
       "<style scoped>\n",
       "    .dataframe tbody tr th:only-of-type {\n",
       "        vertical-align: middle;\n",
       "    }\n",
       "\n",
       "    .dataframe tbody tr th {\n",
       "        vertical-align: top;\n",
       "    }\n",
       "\n",
       "    .dataframe thead th {\n",
       "        text-align: right;\n",
       "    }\n",
       "</style>\n",
       "<table border=\"1\" class=\"dataframe\">\n",
       "  <thead>\n",
       "    <tr style=\"text-align: right;\">\n",
       "      <th></th>\n",
       "      <th>token</th>\n",
       "      <th>freq</th>\n",
       "    </tr>\n",
       "  </thead>\n",
       "  <tbody>\n",
       "    <tr>\n",
       "      <th>0</th>\n",
       "      <td>عالی</td>\n",
       "      <td>43699</td>\n",
       "    </tr>\n",
       "    <tr>\n",
       "      <th>1</th>\n",
       "      <td>بود</td>\n",
       "      <td>42819</td>\n",
       "    </tr>\n",
       "    <tr>\n",
       "      <th>2</th>\n",
       "      <td>😍</td>\n",
       "      <td>38995</td>\n",
       "    </tr>\n",
       "    <tr>\n",
       "      <th>3</th>\n",
       "      <td>❤</td>\n",
       "      <td>35685</td>\n",
       "    </tr>\n",
       "    <tr>\n",
       "      <th>4</th>\n",
       "      <td>خیلی</td>\n",
       "      <td>29623</td>\n",
       "    </tr>\n",
       "    <tr>\n",
       "      <th>5</th>\n",
       "      <td>👌</td>\n",
       "      <td>20256</td>\n",
       "    </tr>\n",
       "    <tr>\n",
       "      <th>6</th>\n",
       "      <td>👍</td>\n",
       "      <td>19529</td>\n",
       "    </tr>\n",
       "    <tr>\n",
       "      <th>7</th>\n",
       "      <td>و</td>\n",
       "      <td>15166</td>\n",
       "    </tr>\n",
       "    <tr>\n",
       "      <th>8</th>\n",
       "      <td>فیلم</td>\n",
       "      <td>14251</td>\n",
       "    </tr>\n",
       "    <tr>\n",
       "      <th>9</th>\n",
       "      <td>😂</td>\n",
       "      <td>13821</td>\n",
       "    </tr>\n",
       "    <tr>\n",
       "      <th>10</th>\n",
       "      <td>😘</td>\n",
       "      <td>13267</td>\n",
       "    </tr>\n",
       "    <tr>\n",
       "      <th>11</th>\n",
       "      <td>این</td>\n",
       "      <td>10250</td>\n",
       "    </tr>\n",
       "    <tr>\n",
       "      <th>12</th>\n",
       "      <td>👏</td>\n",
       "      <td>10130</td>\n",
       "    </tr>\n",
       "    <tr>\n",
       "      <th>13</th>\n",
       "      <td>که</td>\n",
       "      <td>9405</td>\n",
       "    </tr>\n",
       "    <tr>\n",
       "      <th>14</th>\n",
       "      <td>از</td>\n",
       "      <td>8984</td>\n",
       "    </tr>\n",
       "    <tr>\n",
       "      <th>15</th>\n",
       "      <td>من</td>\n",
       "      <td>8732</td>\n",
       "    </tr>\n",
       "    <tr>\n",
       "      <th>16</th>\n",
       "      <td>🤣</td>\n",
       "      <td>7706</td>\n",
       "    </tr>\n",
       "    <tr>\n",
       "      <th>17</th>\n",
       "      <td>🤩</td>\n",
       "      <td>7353</td>\n",
       "    </tr>\n",
       "    <tr>\n",
       "      <th>18</th>\n",
       "      <td>خوب</td>\n",
       "      <td>6764</td>\n",
       "    </tr>\n",
       "    <tr>\n",
       "      <th>19</th>\n",
       "      <td>♥</td>\n",
       "      <td>6552</td>\n",
       "    </tr>\n",
       "    <tr>\n",
       "      <th>20</th>\n",
       "      <td>قشنگ</td>\n",
       "      <td>6370</td>\n",
       "    </tr>\n",
       "    <tr>\n",
       "      <th>21</th>\n",
       "      <td>واقعا</td>\n",
       "      <td>6143</td>\n",
       "    </tr>\n",
       "    <tr>\n",
       "      <th>22</th>\n",
       "      <td>😭</td>\n",
       "      <td>5492</td>\n",
       "    </tr>\n",
       "    <tr>\n",
       "      <th>23</th>\n",
       "      <td>،</td>\n",
       "      <td>5186</td>\n",
       "    </tr>\n",
       "    <tr>\n",
       "      <th>24</th>\n",
       "      <td>به</td>\n",
       "      <td>4963</td>\n",
       "    </tr>\n",
       "    <tr>\n",
       "      <th>25</th>\n",
       "      <td>🥰</td>\n",
       "      <td>4905</td>\n",
       "    </tr>\n",
       "    <tr>\n",
       "      <th>26</th>\n",
       "      <td>رو</td>\n",
       "      <td>4667</td>\n",
       "    </tr>\n",
       "    <tr>\n",
       "      <th>27</th>\n",
       "      <td>عالیه</td>\n",
       "      <td>4147</td>\n",
       "    </tr>\n",
       "    <tr>\n",
       "      <th>28</th>\n",
       "      <td>هم</td>\n",
       "      <td>4113</td>\n",
       "    </tr>\n",
       "    <tr>\n",
       "      <th>29</th>\n",
       "      <td>حتما</td>\n",
       "      <td>3915</td>\n",
       "    </tr>\n",
       "    <tr>\n",
       "      <th>30</th>\n",
       "      <td>💖</td>\n",
       "      <td>3861</td>\n",
       "    </tr>\n",
       "    <tr>\n",
       "      <th>31</th>\n",
       "      <td>🌹</td>\n",
       "      <td>3792</td>\n",
       "    </tr>\n",
       "    <tr>\n",
       "      <th>32</th>\n",
       "      <td>💜</td>\n",
       "      <td>3632</td>\n",
       "    </tr>\n",
       "    <tr>\n",
       "      <th>33</th>\n",
       "      <td>💙</td>\n",
       "      <td>3617</td>\n",
       "    </tr>\n",
       "    <tr>\n",
       "      <th>34</th>\n",
       "      <td>بهترین</td>\n",
       "      <td>3501</td>\n",
       "    </tr>\n",
       "    <tr>\n",
       "      <th>35</th>\n",
       "      <td>😊</td>\n",
       "      <td>3363</td>\n",
       "    </tr>\n",
       "    <tr>\n",
       "      <th>36</th>\n",
       "      <td>ولی</td>\n",
       "      <td>3357</td>\n",
       "    </tr>\n",
       "    <tr>\n",
       "      <th>37</th>\n",
       "      <td>ببینید</td>\n",
       "      <td>3128</td>\n",
       "    </tr>\n",
       "    <tr>\n",
       "      <th>38</th>\n",
       "      <td>با</td>\n",
       "      <td>3058</td>\n",
       "    </tr>\n",
       "    <tr>\n",
       "      <th>39</th>\n",
       "      <td>🙏</td>\n",
       "      <td>3051</td>\n",
       "    </tr>\n",
       "    <tr>\n",
       "      <th>40</th>\n",
       "      <td>دیدم</td>\n",
       "      <td>3003</td>\n",
       "    </tr>\n",
       "    <tr>\n",
       "      <th>41</th>\n",
       "      <td>💗</td>\n",
       "      <td>2820</td>\n",
       "    </tr>\n",
       "    <tr>\n",
       "      <th>42</th>\n",
       "      <td>ممنون</td>\n",
       "      <td>2710</td>\n",
       "    </tr>\n",
       "    <tr>\n",
       "      <th>43</th>\n",
       "      <td>زیبا</td>\n",
       "      <td>2403</td>\n",
       "    </tr>\n",
       "    <tr>\n",
       "      <th>44</th>\n",
       "      <td>بسیار</td>\n",
       "      <td>2379</td>\n",
       "    </tr>\n",
       "    <tr>\n",
       "      <th>45</th>\n",
       "      <td>دوست</td>\n",
       "      <td>2358</td>\n",
       "    </tr>\n",
       "    <tr>\n",
       "      <th>46</th>\n",
       "      <td>⭐</td>\n",
       "      <td>2265</td>\n",
       "    </tr>\n",
       "    <tr>\n",
       "      <th>47</th>\n",
       "      <td>بی</td>\n",
       "      <td>2240</td>\n",
       "    </tr>\n",
       "    <tr>\n",
       "      <th>48</th>\n",
       "      <td>😁</td>\n",
       "      <td>2235</td>\n",
       "    </tr>\n",
       "    <tr>\n",
       "      <th>49</th>\n",
       "      <td>خنده</td>\n",
       "      <td>2175</td>\n",
       "    </tr>\n",
       "    <tr>\n",
       "      <th>50</th>\n",
       "      <td>فیلیمو</td>\n",
       "      <td>2116</td>\n",
       "    </tr>\n",
       "    <tr>\n",
       "      <th>51</th>\n",
       "      <td>فقط</td>\n",
       "      <td>2052</td>\n",
       "    </tr>\n",
       "    <tr>\n",
       "      <th>52</th>\n",
       "      <td>فوق‌العاده</td>\n",
       "      <td>2046</td>\n",
       "    </tr>\n",
       "    <tr>\n",
       "      <th>53</th>\n",
       "      <td>🌟</td>\n",
       "      <td>2035</td>\n",
       "    </tr>\n",
       "    <tr>\n",
       "      <th>54</th>\n",
       "      <td>💕</td>\n",
       "      <td>2031</td>\n",
       "    </tr>\n",
       "    <tr>\n",
       "      <th>55</th>\n",
       "      <td>بازی</td>\n",
       "      <td>2011</td>\n",
       "    </tr>\n",
       "    <tr>\n",
       "      <th>56</th>\n",
       "      <td>تو</td>\n",
       "      <td>1935</td>\n",
       "    </tr>\n",
       "    <tr>\n",
       "      <th>57</th>\n",
       "      <td>وای</td>\n",
       "      <td>1933</td>\n",
       "    </tr>\n",
       "    <tr>\n",
       "      <th>58</th>\n",
       "      <td>💚</td>\n",
       "      <td>1928</td>\n",
       "    </tr>\n",
       "    <tr>\n",
       "      <th>59</th>\n",
       "      <td>😄</td>\n",
       "      <td>1902</td>\n",
       "    </tr>\n",
       "  </tbody>\n",
       "</table>\n",
       "</div>"
      ],
      "text/plain": [
       "         token   freq\n",
       "0         عالی  43699\n",
       "1          بود  42819\n",
       "2            😍  38995\n",
       "3            ❤  35685\n",
       "4         خیلی  29623\n",
       "5            👌  20256\n",
       "6            👍  19529\n",
       "7            و  15166\n",
       "8         فیلم  14251\n",
       "9            😂  13821\n",
       "10           😘  13267\n",
       "11         این  10250\n",
       "12           👏  10130\n",
       "13          که   9405\n",
       "14          از   8984\n",
       "15          من   8732\n",
       "16           🤣   7706\n",
       "17           🤩   7353\n",
       "18         خوب   6764\n",
       "19           ♥   6552\n",
       "20        قشنگ   6370\n",
       "21       واقعا   6143\n",
       "22           😭   5492\n",
       "23           ،   5186\n",
       "24          به   4963\n",
       "25           🥰   4905\n",
       "26          رو   4667\n",
       "27       عالیه   4147\n",
       "28          هم   4113\n",
       "29        حتما   3915\n",
       "30           💖   3861\n",
       "31           🌹   3792\n",
       "32           💜   3632\n",
       "33           💙   3617\n",
       "34      بهترین   3501\n",
       "35           😊   3363\n",
       "36         ولی   3357\n",
       "37      ببینید   3128\n",
       "38          با   3058\n",
       "39           🙏   3051\n",
       "40        دیدم   3003\n",
       "41           💗   2820\n",
       "42       ممنون   2710\n",
       "43        زیبا   2403\n",
       "44       بسیار   2379\n",
       "45        دوست   2358\n",
       "46           ⭐   2265\n",
       "47          بی   2240\n",
       "48           😁   2235\n",
       "49        خنده   2175\n",
       "50      فیلیمو   2116\n",
       "51         فقط   2052\n",
       "52  فوق‌العاده   2046\n",
       "53           🌟   2035\n",
       "54           💕   2031\n",
       "55        بازی   2011\n",
       "56          تو   1935\n",
       "57         وای   1933\n",
       "58           💚   1928\n",
       "59           😄   1902"
      ]
     },
     "execution_count": 106,
     "metadata": {},
     "output_type": "execute_result"
    }
   ],
   "source": [
    "tokens = list(itertools.chain(*itertools.chain(*comments_tokens)))\n",
    "\n",
    "data = FreqDist(tokens).most_common(60)\n",
    "\n",
    "freq_analysis = pd.DataFrame(data, columns=['token', 'freq'])  \n",
    "freq_analysis"
   ]
  },
  {
   "cell_type": "markdown",
   "id": "9b472cd1",
   "metadata": {},
   "source": [
    "<div style=\"direction:rtl; font-family: 'B Lotus'\">یک تحلیل کلی از تعداد کلمات، تعداد کلمات یکتا، میانگین طول کلمات و بزرگترین کلمه موجود در متن</div>"
   ]
  },
  {
   "cell_type": "code",
   "execution_count": 107,
   "id": "d4373e16-ee65-4501-aa22-a12993045947",
   "metadata": {
    "id": "d4373e16-ee65-4501-aa22-a12993045947",
    "outputId": "1fb11eeb-a926-408e-a764-d304d8e3d886"
   },
   "outputs": [
    {
     "name": "stdout",
     "output_type": "stream",
     "text": [
      "Number of words  895263          \n",
      "Number of unique words 22797           \n",
      "Average word length 2.9556755947693585\n",
      "Longest word     خیلی‌عالی‌بود‌من‌مرینت‌هستم‌و‌از‌دختر‌کفشدوزکی‌واقعا‌خوشم‌اومده‌تا‌حالا‌ماجرا‌جویی‌در‌پاریس‌رو‌ندیده‌بود‌ولی‌حالا‌عاشقش‌شدم‌\n"
     ]
    }
   ],
   "source": [
    "print ('%-16s' % 'Number of words', '%-16s' % len(tokens))\n",
    "print ('%-16s' % 'Number of unique words', '%-16s' % len(set(tokens)))\n",
    "avg=np.sum([len(word) for word in tokens])/len(tokens)\n",
    "print ('%-16s' % 'Average word length', '%-16s' % avg)\n",
    "print ('%-16s' % 'Longest word', '%-16s' % tokens[np.argmax([len(word) for word in tokens])])"
   ]
  },
  {
   "cell_type": "markdown",
   "id": "ecda235f",
   "metadata": {
    "scrolled": true
   },
   "source": [
    "<h2 style='direction:rtl;font-family: \"B Lotus\";'> § حذف stop-word  </h2> "
   ]
  },
  {
   "cell_type": "markdown",
   "id": "0e60ac52",
   "metadata": {},
   "source": [
    "<div style=\"direction:rtl; font-family: 'B Lotus'\">در این بخش تلاش می‌کنیم با حذف stop-words کلماتی که مفهومی در کانتکس ما دارند و پرتکرار هستند را شناسایی کنیم؛ برای این منظور سه حالت مختلف را بررسی می‌کنیم (فایل <code>stopwords.txt</code> شامل کلماتی می‌باشد که به عنوان stop-words در نظر گرفته شده است، در انتهای آن موارد متناسب با متن کامنت ها نیز اضافه شده است.):</div>\n",
    "<ul style=\"direction:rtl; font-family: 'B Lotus'\">\n",
    "    <li>بررسی بسامد در حالتی که فقط کلمات فارسی stop-word حذف شده اند (حالت <code>nonstop</code> در جدول)</li>\n",
    "    <li>بررسی بسامد در حالتی که فقط ایموجی‌های متن حذف شده اند (حالت <code>nonemoji</code> در جدول)</li>\n",
    "    <li>بررسی بسامد در حالتی که هم ایموجی‌ها و هم stop-words فارسی حذف شده اند (حالت <code>nonstop_nonemoji</code> در جدول)</li>\n",
    "</ul>"
   ]
  },
  {
   "cell_type": "code",
   "execution_count": 113,
   "id": "ae2834e9",
   "metadata": {},
   "outputs": [],
   "source": [
    "stopwords = [normalizer.normalize(x.strip()) for x in codecs.open('./../data/stopwords.txt','r','utf-8').readlines()]\n",
    "stopwords_withemoji = stopwords.copy()\n",
    "stopwords_withemoji.extend(emoji_alphabet)"
   ]
  },
  {
   "cell_type": "code",
   "execution_count": 121,
   "id": "583b2426",
   "metadata": {
    "scrolled": true
   },
   "outputs": [
    {
     "name": "stderr",
     "output_type": "stream",
     "text": [
      "100%|███████████████████████████████████████████████████████████████████████| 895263/895263 [00:01<00:00, 467803.94it/s]\n",
      "100%|███████████████████████████████████████████████████████████████████████| 895263/895263 [00:04<00:00, 181189.57it/s]\n",
      "100%|███████████████████████████████████████████████████████████████████████| 895263/895263 [00:04<00:00, 204604.47it/s]\n"
     ]
    },
    {
     "data": {
      "text/html": [
       "<div>\n",
       "<style scoped>\n",
       "    .dataframe tbody tr th:only-of-type {\n",
       "        vertical-align: middle;\n",
       "    }\n",
       "\n",
       "    .dataframe tbody tr th {\n",
       "        vertical-align: top;\n",
       "    }\n",
       "\n",
       "    .dataframe thead th {\n",
       "        text-align: right;\n",
       "    }\n",
       "</style>\n",
       "<table border=\"1\" class=\"dataframe\">\n",
       "  <thead>\n",
       "    <tr style=\"text-align: right;\">\n",
       "      <th></th>\n",
       "      <th>nonstop</th>\n",
       "      <th>nonemoji</th>\n",
       "      <th>nonstop_nonemoji</th>\n",
       "    </tr>\n",
       "  </thead>\n",
       "  <tbody>\n",
       "    <tr>\n",
       "      <th>0</th>\n",
       "      <td>(😍, 38995)</td>\n",
       "      <td>(عالی, 43699)</td>\n",
       "      <td>(قشنگ, 6370)</td>\n",
       "    </tr>\n",
       "    <tr>\n",
       "      <th>1</th>\n",
       "      <td>(❤, 35685)</td>\n",
       "      <td>(بود, 42819)</td>\n",
       "      <td>(واقعا, 6143)</td>\n",
       "    </tr>\n",
       "    <tr>\n",
       "      <th>2</th>\n",
       "      <td>(👌, 20256)</td>\n",
       "      <td>(خیلی, 29623)</td>\n",
       "      <td>(عالیه, 4147)</td>\n",
       "    </tr>\n",
       "    <tr>\n",
       "      <th>3</th>\n",
       "      <td>(👍, 19529)</td>\n",
       "      <td>(و, 15166)</td>\n",
       "      <td>(حتما, 3915)</td>\n",
       "    </tr>\n",
       "    <tr>\n",
       "      <th>4</th>\n",
       "      <td>(😂, 13821)</td>\n",
       "      <td>(فیلم, 14251)</td>\n",
       "      <td>(دیدم, 3003)</td>\n",
       "    </tr>\n",
       "    <tr>\n",
       "      <th>5</th>\n",
       "      <td>(😘, 13267)</td>\n",
       "      <td>(این, 10250)</td>\n",
       "      <td>(ممنون, 2710)</td>\n",
       "    </tr>\n",
       "    <tr>\n",
       "      <th>6</th>\n",
       "      <td>(👏, 10130)</td>\n",
       "      <td>(که, 9405)</td>\n",
       "      <td>(زیبا, 2403)</td>\n",
       "    </tr>\n",
       "    <tr>\n",
       "      <th>7</th>\n",
       "      <td>(🤣, 7706)</td>\n",
       "      <td>(از, 8984)</td>\n",
       "      <td>(دوست, 2358)</td>\n",
       "    </tr>\n",
       "    <tr>\n",
       "      <th>8</th>\n",
       "      <td>(🤩, 7353)</td>\n",
       "      <td>(من, 8732)</td>\n",
       "      <td>(خنده, 2175)</td>\n",
       "    </tr>\n",
       "    <tr>\n",
       "      <th>9</th>\n",
       "      <td>(♥, 6552)</td>\n",
       "      <td>(خوب, 6764)</td>\n",
       "      <td>(فوق‌العاده, 2046)</td>\n",
       "    </tr>\n",
       "    <tr>\n",
       "      <th>10</th>\n",
       "      <td>(قشنگ, 6370)</td>\n",
       "      <td>(قشنگ, 6370)</td>\n",
       "      <td>(بازی, 2011)</td>\n",
       "    </tr>\n",
       "    <tr>\n",
       "      <th>11</th>\n",
       "      <td>(واقعا, 6143)</td>\n",
       "      <td>(واقعا, 6143)</td>\n",
       "      <td>(وای, 1933)</td>\n",
       "    </tr>\n",
       "    <tr>\n",
       "      <th>12</th>\n",
       "      <td>(😭, 5492)</td>\n",
       "      <td>(،, 5186)</td>\n",
       "      <td>(خوبه, 1770)</td>\n",
       "    </tr>\n",
       "    <tr>\n",
       "      <th>13</th>\n",
       "      <td>(🥰, 4905)</td>\n",
       "      <td>(به, 4963)</td>\n",
       "      <td>(باحال, 1501)</td>\n",
       "    </tr>\n",
       "    <tr>\n",
       "      <th>14</th>\n",
       "      <td>(عالیه, 4147)</td>\n",
       "      <td>(رو, 4667)</td>\n",
       "      <td>(عاشق, 1469)</td>\n",
       "    </tr>\n",
       "    <tr>\n",
       "      <th>15</th>\n",
       "      <td>(حتما, 3915)</td>\n",
       "      <td>(عالیه, 4147)</td>\n",
       "      <td>(پیشنهاد, 1353)</td>\n",
       "    </tr>\n",
       "    <tr>\n",
       "      <th>16</th>\n",
       "      <td>(💖, 3861)</td>\n",
       "      <td>(هم, 4113)</td>\n",
       "      <td>(قسمت, 1344)</td>\n",
       "    </tr>\n",
       "    <tr>\n",
       "      <th>17</th>\n",
       "      <td>(🌹, 3792)</td>\n",
       "      <td>(حتما, 3915)</td>\n",
       "      <td>(ترسناک, 1266)</td>\n",
       "    </tr>\n",
       "    <tr>\n",
       "      <th>18</th>\n",
       "      <td>(💜, 3632)</td>\n",
       "      <td>(بهترین, 3501)</td>\n",
       "      <td>(قشنگه, 1247)</td>\n",
       "    </tr>\n",
       "    <tr>\n",
       "      <th>19</th>\n",
       "      <td>(💙, 3617)</td>\n",
       "      <td>(ولی, 3357)</td>\n",
       "      <td>(مخصوصا, 1246)</td>\n",
       "    </tr>\n",
       "    <tr>\n",
       "      <th>20</th>\n",
       "      <td>(😊, 3363)</td>\n",
       "      <td>(ببینید, 3128)</td>\n",
       "      <td>(حرف, 1139)</td>\n",
       "    </tr>\n",
       "    <tr>\n",
       "      <th>21</th>\n",
       "      <td>(🙏, 3051)</td>\n",
       "      <td>(با, 3058)</td>\n",
       "      <td>(جالب, 1124)</td>\n",
       "    </tr>\n",
       "    <tr>\n",
       "      <th>22</th>\n",
       "      <td>(دیدم, 3003)</td>\n",
       "      <td>(دیدم, 3003)</td>\n",
       "      <td>(دیدن, 1069)</td>\n",
       "    </tr>\n",
       "    <tr>\n",
       "      <th>23</th>\n",
       "      <td>(💗, 2820)</td>\n",
       "      <td>(ممنون, 2710)</td>\n",
       "      <td>(گرم, 1027)</td>\n",
       "    </tr>\n",
       "    <tr>\n",
       "      <th>24</th>\n",
       "      <td>(ممنون, 2710)</td>\n",
       "      <td>(زیبا, 2403)</td>\n",
       "      <td>(العاده, 972)</td>\n",
       "    </tr>\n",
       "    <tr>\n",
       "      <th>25</th>\n",
       "      <td>(زیبا, 2403)</td>\n",
       "      <td>(بسیار, 2379)</td>\n",
       "      <td>(قشنگی, 960)</td>\n",
       "    </tr>\n",
       "    <tr>\n",
       "      <th>26</th>\n",
       "      <td>(دوست, 2358)</td>\n",
       "      <td>(دوست, 2358)</td>\n",
       "      <td>(ارزش, 958)</td>\n",
       "    </tr>\n",
       "    <tr>\n",
       "      <th>27</th>\n",
       "      <td>(⭐, 2265)</td>\n",
       "      <td>(بی, 2240)</td>\n",
       "      <td>(مرسی, 957)</td>\n",
       "    </tr>\n",
       "    <tr>\n",
       "      <th>28</th>\n",
       "      <td>(😁, 2235)</td>\n",
       "      <td>(خنده, 2175)</td>\n",
       "      <td>(اومد, 951)</td>\n",
       "    </tr>\n",
       "    <tr>\n",
       "      <th>29</th>\n",
       "      <td>(خنده, 2175)</td>\n",
       "      <td>(فیلیمو, 2116)</td>\n",
       "      <td>(دوبله, 937)</td>\n",
       "    </tr>\n",
       "    <tr>\n",
       "      <th>30</th>\n",
       "      <td>(فوق‌العاده, 2046)</td>\n",
       "      <td>(فقط, 2052)</td>\n",
       "      <td>(لایک, 936)</td>\n",
       "    </tr>\n",
       "    <tr>\n",
       "      <th>31</th>\n",
       "      <td>(🌟, 2035)</td>\n",
       "      <td>(فوق‌العاده, 2046)</td>\n",
       "      <td>(جذاب, 920)</td>\n",
       "    </tr>\n",
       "    <tr>\n",
       "      <th>32</th>\n",
       "      <td>(💕, 2031)</td>\n",
       "      <td>(بازی, 2011)</td>\n",
       "      <td>(لذت, 910)</td>\n",
       "    </tr>\n",
       "    <tr>\n",
       "      <th>33</th>\n",
       "      <td>(بازی, 2011)</td>\n",
       "      <td>(تو, 1935)</td>\n",
       "      <td>(نگاه, 894)</td>\n",
       "    </tr>\n",
       "    <tr>\n",
       "      <th>34</th>\n",
       "      <td>(وای, 1933)</td>\n",
       "      <td>(وای, 1933)</td>\n",
       "      <td>(خدا, 893)</td>\n",
       "    </tr>\n",
       "    <tr>\n",
       "      <th>35</th>\n",
       "      <td>(💚, 1928)</td>\n",
       "      <td>(در, 1889)</td>\n",
       "      <td>(خوشم, 885)</td>\n",
       "    </tr>\n",
       "    <tr>\n",
       "      <th>36</th>\n",
       "      <td>(😄, 1902)</td>\n",
       "      <td>(داره, 1828)</td>\n",
       "      <td>(بد, 878)</td>\n",
       "    </tr>\n",
       "    <tr>\n",
       "      <th>37</th>\n",
       "      <td>(😀, 1848)</td>\n",
       "      <td>(خوبه, 1770)</td>\n",
       "      <td>(چقدر, 847)</td>\n",
       "    </tr>\n",
       "    <tr>\n",
       "      <th>38</th>\n",
       "      <td>(خوبه, 1770)</td>\n",
       "      <td>(های, 1762)</td>\n",
       "      <td>(اصلا, 846)</td>\n",
       "    </tr>\n",
       "    <tr>\n",
       "      <th>39</th>\n",
       "      <td>(😎, 1668)</td>\n",
       "      <td>(ها, 1713)</td>\n",
       "      <td>(آخرش, 822)</td>\n",
       "    </tr>\n",
       "    <tr>\n",
       "      <th>40</th>\n",
       "      <td>(💋, 1667)</td>\n",
       "      <td>(همه, 1708)</td>\n",
       "      <td>(دست, 819)</td>\n",
       "    </tr>\n",
       "    <tr>\n",
       "      <th>41</th>\n",
       "      <td>(😅, 1615)</td>\n",
       "      <td>(می, 1693)</td>\n",
       "      <td>(دیگه, 790)</td>\n",
       "    </tr>\n",
       "    <tr>\n",
       "      <th>42</th>\n",
       "      <td>(💞, 1612)</td>\n",
       "      <td>(تا, 1677)</td>\n",
       "      <td>(کاش, 744)</td>\n",
       "    </tr>\n",
       "    <tr>\n",
       "      <th>43</th>\n",
       "      <td>(💛, 1598)</td>\n",
       "      <td>(هست, 1644)</td>\n",
       "      <td>(کارتون, 739)</td>\n",
       "    </tr>\n",
       "    <tr>\n",
       "      <th>44</th>\n",
       "      <td>(😉, 1576)</td>\n",
       "      <td>(میکنم, 1610)</td>\n",
       "      <td>(امیر, 709)</td>\n",
       "    </tr>\n",
       "    <tr>\n",
       "      <th>45</th>\n",
       "      <td>(😃, 1570)</td>\n",
       "      <td>(یه, 1604)</td>\n",
       "      <td>(لطفا, 708)</td>\n",
       "    </tr>\n",
       "    <tr>\n",
       "      <th>46</th>\n",
       "      <td>(💓, 1531)</td>\n",
       "      <td>(باحال, 1501)</td>\n",
       "      <td>(انیمیشن, 701)</td>\n",
       "    </tr>\n",
       "    <tr>\n",
       "      <th>47</th>\n",
       "      <td>(باحال, 1501)</td>\n",
       "      <td>(دارم, 1495)</td>\n",
       "      <td>(محشر, 698)</td>\n",
       "    </tr>\n",
       "    <tr>\n",
       "      <th>48</th>\n",
       "      <td>(عاشق, 1469)</td>\n",
       "      <td>(داشتم, 1479)</td>\n",
       "      <td>(ممنونم, 698)</td>\n",
       "    </tr>\n",
       "    <tr>\n",
       "      <th>49</th>\n",
       "      <td>(🥺, 1459)</td>\n",
       "      <td>(عاشق, 1469)</td>\n",
       "      <td>(نداره, 683)</td>\n",
       "    </tr>\n",
       "    <tr>\n",
       "      <th>50</th>\n",
       "      <td>(😙, 1362)</td>\n",
       "      <td>(اون, 1396)</td>\n",
       "      <td>(سلام, 681)</td>\n",
       "    </tr>\n",
       "    <tr>\n",
       "      <th>51</th>\n",
       "      <td>(پیشنهاد, 1353)</td>\n",
       "      <td>(فیلمی, 1364)</td>\n",
       "      <td>(نداشت, 661)</td>\n",
       "    </tr>\n",
       "    <tr>\n",
       "      <th>52</th>\n",
       "      <td>(قسمت, 1344)</td>\n",
       "      <td>(پیشنهاد, 1353)</td>\n",
       "      <td>(گریه, 623)</td>\n",
       "    </tr>\n",
       "    <tr>\n",
       "      <th>53</th>\n",
       "      <td>(😇, 1332)</td>\n",
       "      <td>(سریال, 1353)</td>\n",
       "      <td>(دنیا, 616)</td>\n",
       "    </tr>\n",
       "    <tr>\n",
       "      <th>54</th>\n",
       "      <td>(🤗, 1310)</td>\n",
       "      <td>(قسمت, 1344)</td>\n",
       "      <td>(بچه, 591)</td>\n",
       "    </tr>\n",
       "    <tr>\n",
       "      <th>55</th>\n",
       "      <td>(ترسناک, 1266)</td>\n",
       "      <td>(دار, 1344)</td>\n",
       "      <td>(درد, 546)</td>\n",
       "    </tr>\n",
       "    <tr>\n",
       "      <th>56</th>\n",
       "      <td>(😚, 1253)</td>\n",
       "      <td>(بار, 1327)</td>\n",
       "      <td>(داستان, 529)</td>\n",
       "    </tr>\n",
       "    <tr>\n",
       "      <th>57</th>\n",
       "      <td>(قشنگه, 1247)</td>\n",
       "      <td>(میشه, 1292)</td>\n",
       "      <td>(شاد, 513)</td>\n",
       "    </tr>\n",
       "    <tr>\n",
       "      <th>58</th>\n",
       "      <td>(مخصوصا, 1246)</td>\n",
       "      <td>(ی, 1291)</td>\n",
       "      <td>(مرد, 508)</td>\n",
       "    </tr>\n",
       "    <tr>\n",
       "      <th>59</th>\n",
       "      <td>(☺, 1202)</td>\n",
       "      <td>(یک, 1266)</td>\n",
       "      <td>(میاد, 507)</td>\n",
       "    </tr>\n",
       "  </tbody>\n",
       "</table>\n",
       "</div>"
      ],
      "text/plain": [
       "               nonstop            nonemoji    nonstop_nonemoji\n",
       "0           (😍, 38995)       (عالی, 43699)        (قشنگ, 6370)\n",
       "1           (❤, 35685)        (بود, 42819)       (واقعا, 6143)\n",
       "2           (👌, 20256)       (خیلی, 29623)       (عالیه, 4147)\n",
       "3           (👍, 19529)          (و, 15166)        (حتما, 3915)\n",
       "4           (😂, 13821)       (فیلم, 14251)        (دیدم, 3003)\n",
       "5           (😘, 13267)        (این, 10250)       (ممنون, 2710)\n",
       "6           (👏, 10130)          (که, 9405)        (زیبا, 2403)\n",
       "7            (🤣, 7706)          (از, 8984)        (دوست, 2358)\n",
       "8            (🤩, 7353)          (من, 8732)        (خنده, 2175)\n",
       "9            (♥, 6552)         (خوب, 6764)  (فوق‌العاده, 2046)\n",
       "10        (قشنگ, 6370)        (قشنگ, 6370)        (بازی, 2011)\n",
       "11       (واقعا, 6143)       (واقعا, 6143)         (وای, 1933)\n",
       "12           (😭, 5492)           (،, 5186)        (خوبه, 1770)\n",
       "13           (🥰, 4905)          (به, 4963)       (باحال, 1501)\n",
       "14       (عالیه, 4147)          (رو, 4667)        (عاشق, 1469)\n",
       "15        (حتما, 3915)       (عالیه, 4147)     (پیشنهاد, 1353)\n",
       "16           (💖, 3861)          (هم, 4113)        (قسمت, 1344)\n",
       "17           (🌹, 3792)        (حتما, 3915)      (ترسناک, 1266)\n",
       "18           (💜, 3632)      (بهترین, 3501)       (قشنگه, 1247)\n",
       "19           (💙, 3617)         (ولی, 3357)      (مخصوصا, 1246)\n",
       "20           (😊, 3363)      (ببینید, 3128)         (حرف, 1139)\n",
       "21           (🙏, 3051)          (با, 3058)        (جالب, 1124)\n",
       "22        (دیدم, 3003)        (دیدم, 3003)        (دیدن, 1069)\n",
       "23           (💗, 2820)       (ممنون, 2710)         (گرم, 1027)\n",
       "24       (ممنون, 2710)        (زیبا, 2403)       (العاده, 972)\n",
       "25        (زیبا, 2403)       (بسیار, 2379)        (قشنگی, 960)\n",
       "26        (دوست, 2358)        (دوست, 2358)         (ارزش, 958)\n",
       "27           (⭐, 2265)          (بی, 2240)         (مرسی, 957)\n",
       "28           (😁, 2235)        (خنده, 2175)         (اومد, 951)\n",
       "29        (خنده, 2175)      (فیلیمو, 2116)        (دوبله, 937)\n",
       "30  (فوق‌العاده, 2046)         (فقط, 2052)         (لایک, 936)\n",
       "31           (🌟, 2035)  (فوق‌العاده, 2046)         (جذاب, 920)\n",
       "32           (💕, 2031)        (بازی, 2011)          (لذت, 910)\n",
       "33        (بازی, 2011)          (تو, 1935)         (نگاه, 894)\n",
       "34         (وای, 1933)         (وای, 1933)          (خدا, 893)\n",
       "35           (💚, 1928)          (در, 1889)         (خوشم, 885)\n",
       "36           (😄, 1902)        (داره, 1828)           (بد, 878)\n",
       "37           (😀, 1848)        (خوبه, 1770)         (چقدر, 847)\n",
       "38        (خوبه, 1770)         (های, 1762)         (اصلا, 846)\n",
       "39           (😎, 1668)          (ها, 1713)         (آخرش, 822)\n",
       "40           (💋, 1667)         (همه, 1708)          (دست, 819)\n",
       "41           (😅, 1615)          (می, 1693)         (دیگه, 790)\n",
       "42           (💞, 1612)          (تا, 1677)          (کاش, 744)\n",
       "43           (💛, 1598)         (هست, 1644)       (کارتون, 739)\n",
       "44           (😉, 1576)       (میکنم, 1610)         (امیر, 709)\n",
       "45           (😃, 1570)          (یه, 1604)         (لطفا, 708)\n",
       "46           (💓, 1531)       (باحال, 1501)      (انیمیشن, 701)\n",
       "47       (باحال, 1501)        (دارم, 1495)         (محشر, 698)\n",
       "48        (عاشق, 1469)       (داشتم, 1479)       (ممنونم, 698)\n",
       "49           (🥺, 1459)        (عاشق, 1469)        (نداره, 683)\n",
       "50           (😙, 1362)         (اون, 1396)         (سلام, 681)\n",
       "51     (پیشنهاد, 1353)       (فیلمی, 1364)        (نداشت, 661)\n",
       "52        (قسمت, 1344)     (پیشنهاد, 1353)         (گریه, 623)\n",
       "53           (😇, 1332)       (سریال, 1353)         (دنیا, 616)\n",
       "54           (🤗, 1310)        (قسمت, 1344)          (بچه, 591)\n",
       "55      (ترسناک, 1266)         (دار, 1344)          (درد, 546)\n",
       "56           (😚, 1253)         (بار, 1327)       (داستان, 529)\n",
       "57       (قشنگه, 1247)        (میشه, 1292)          (شاد, 513)\n",
       "58      (مخصوصا, 1246)           (ی, 1291)          (مرد, 508)\n",
       "59           (☺, 1202)          (یک, 1266)         (میاد, 507)"
      ]
     },
     "execution_count": 121,
     "metadata": {},
     "output_type": "execute_result"
    }
   ],
   "source": [
    "tokens_nonstop = [t for t in tqdm(tokens) if t not in stopwords]\n",
    "tokens_nonemoji = [t for t in tqdm(tokens) if t not in emoji_alphabet]\n",
    "tokens_nonstop_nonemoji = [t for t in tqdm(tokens) if t not in stopwords_withemoji]\n",
    "\n",
    "data_nonstop = {}\n",
    "num = 60\n",
    "data_nonstop['nonstop'] = FreqDist(tokens_nonstop).most_common(num)\n",
    "data_nonstop['nonemoji'] = FreqDist(tokens_nonemoji).most_common(num)\n",
    "data_nonstop['nonstop_nonemoji'] = FreqDist(tokens_nonstop_nonemoji).most_common(num)\n",
    "\n",
    "freq_analysis = pd.DataFrame(data_nonstop)\n",
    "freq_analysis"
   ]
  },
  {
   "cell_type": "markdown",
   "id": "aef3864a",
   "metadata": {},
   "source": [
    "<h2 style='direction:rtl;font-family: \"B Lotus\";'> § ابرواژه کلمات  </h2> "
   ]
  },
  {
   "cell_type": "markdown",
   "id": "f4c3b3da",
   "metadata": {},
   "source": [
    "<div style=\"direction:rtl; font-family: 'B Lotus'\">با استفاده از کتابخانه <code>WordCloudFa</code> که شخصی سازی شده برای زبان فارسی می باشد هر سه حالت بالا را به شکل ابرواژه بررسی می کنیم:</div>\n",
    "<em>\n",
    "    <div style=\"direction:rtl; font-family: 'B Lotus'\">(این کتابخانه به صورت پیش‌فرض بعضی از stop-words را حذف می کند)</div>\n",
    "</em>\n"
   ]
  },
  {
   "cell_type": "code",
   "execution_count": 126,
   "id": "6b8234e6",
   "metadata": {
    "id": "6b8234e6"
   },
   "outputs": [],
   "source": [
    "text = ' '.join(tokens_nonstop)\n",
    "wordcloud = WordCloudFa(persian_normalize=False, width=1500, height=1000)\n",
    "wc = wordcloud.generate(text)\n",
    "image = wc.to_image()\n",
    "# image.show()\n",
    "image.save('./../result/tokens_nonstop_wordcloud.png')"
   ]
  },
  {
   "cell_type": "code",
   "execution_count": 127,
   "id": "a91eca45",
   "metadata": {},
   "outputs": [],
   "source": [
    "text = ' '.join(tokens_nonemoji)\n",
    "wordcloud = WordCloudFa(persian_normalize=False, width=1500, height=1000)\n",
    "wc = wordcloud.generate(text)\n",
    "image = wc.to_image()\n",
    "# image.show()\n",
    "image.save('./../result/tokens_nonemoji_wordcloud.png')"
   ]
  },
  {
   "cell_type": "code",
   "execution_count": 129,
   "id": "cb4acdc6",
   "metadata": {},
   "outputs": [],
   "source": [
    "text = ' '.join(tokens_nonstop_nonemoji)\n",
    "wordcloud = WordCloudFa(persian_normalize=False, width=1500, height=1000)\n",
    "wc = wordcloud.generate(text)\n",
    "image = wc.to_image()\n",
    "# image.show()\n",
    "image.save('./../result/tokens_nonstop_nonemoji_wordcloud.png')"
   ]
  },
  {
   "cell_type": "markdown",
   "id": "bbd97e1f",
   "metadata": {},
   "source": [
    "<div style=\"content: '';clear: both; display: table;\">\n",
    "    <div style=\"float: left; width: 33.33%; padding: 5px;\">\n",
    "        <center>tokens_nonstop_wordcloud</center>\n",
    "        <img src=\"./../result/tokens_nonstop_wordcloud.png\" alt=\"tokens_nonstop_wordcloud\" style=\"width:100%\">\n",
    "    </div>\n",
    "    <div style=\"float: left; width: 33.33%; padding: 5px;\">\n",
    "        <center>tokens_nonemoji_wordcloud</center>\n",
    "        <img src=\"./../result/tokens_nonemoji_wordcloud.png\" alt=\"tokens_nonstop_wordcloud\" style=\"width:100%\">\n",
    "    </div>\n",
    "    <div style=\"float: left; width: 33.33%; padding: 5px;\">\n",
    "        <center>tokens_nonstop_nonemoji_wordcloud</center>\n",
    "        <img src=\"./../result/tokens_nonstop_nonemoji_wordcloud.png\" alt=\"tokens_nonstop_wordcloud\" style=\"width:100%\">\n",
    "    </div>\n",
    "</div>"
   ]
  },
  {
   "cell_type": "markdown",
   "id": "8fafc7ca",
   "metadata": {},
   "source": [
    "<h2 style='direction:rtl;'> § استفاده از lemmatization, stemming  </h2> "
   ]
  },
  {
   "cell_type": "code",
   "execution_count": null,
   "id": "3010e3d8",
   "metadata": {},
   "outputs": [],
   "source": []
  },
  {
   "cell_type": "code",
   "execution_count": null,
   "id": "f3de5339",
   "metadata": {},
   "outputs": [],
   "source": []
  }
 ],
 "metadata": {
  "colab": {
   "collapsed_sections": [],
   "provenance": []
  },
  "kernelspec": {
   "display_name": "Python 3 (ipykernel)",
   "language": "python",
   "name": "python3"
  },
  "language_info": {
   "codemirror_mode": {
    "name": "ipython",
    "version": 3
   },
   "file_extension": ".py",
   "mimetype": "text/x-python",
   "name": "python",
   "nbconvert_exporter": "python",
   "pygments_lexer": "ipython3",
   "version": "3.10.4"
  }
 },
 "nbformat": 4,
 "nbformat_minor": 5
}
