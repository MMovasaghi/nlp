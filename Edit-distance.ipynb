{
 "cells": [
  {
   "cell_type": "markdown",
   "id": "engaging-reporter",
   "metadata": {},
   "source": [
    "<center>بسم الله الرحمن الرحیم</center>"
   ]
  },
  {
   "cell_type": "code",
   "execution_count": 103,
   "id": "initial-vegetation",
   "metadata": {},
   "outputs": [
    {
     "name": "stdout",
     "output_type": "stream",
     "text": [
      "String-1 : salam\n",
      "String-2 : salam\n"
     ]
    }
   ],
   "source": [
    "a = input('String-1 : ')\n",
    "b = input('String-2 : ')"
   ]
  },
  {
   "cell_type": "code",
   "execution_count": 107,
   "id": "active-reggae",
   "metadata": {},
   "outputs": [],
   "source": [
    "def print_matrix(matrix, title):\n",
    "    print(f'{title}:')\n",
    "    for i in range(len(matrix)):\n",
    "        print(matrix[i])\n",
    "    print('---'*len(matrix))"
   ]
  },
  {
   "cell_type": "code",
   "execution_count": 108,
   "id": "velvet-preserve",
   "metadata": {},
   "outputs": [
    {
     "name": "stdout",
     "output_type": "stream",
     "text": [
      "------------------\n",
      "D:\n",
      "[0, 1, 2, 3, 4, 5]\n",
      "[1, 0, 0, 0, 0, 0]\n",
      "[2, 0, 0, 0, 0, 0]\n",
      "[3, 0, 0, 0, 0, 0]\n",
      "[4, 0, 0, 0, 0, 0]\n",
      "[5, 0, 0, 0, 0, 0]\n",
      "------------------\n",
      "------------------\n",
      "P:\n",
      "[0, 1, 2, 3, 4, 5]\n",
      "[1, 0, 0, 0, 0, 0]\n",
      "[2, 0, 0, 0, 0, 0]\n",
      "[3, 0, 0, 0, 0, 0]\n",
      "[4, 0, 0, 0, 0, 0]\n",
      "[5, 0, 0, 0, 0, 0]\n",
      "------------------\n"
     ]
    }
   ],
   "source": [
    "d = [[0 for _ in range(len(a)+1)] for _ in range(len(b)+1)]\n",
    "p = [[-1 for _ in range(len(a)+1)] for _ in range(len(b)+1)]\n",
    "d[0][:] = [j for j in range(len(a)+1)]\n",
    "p[0][:] = [1 for j in range(len(a)+1)]\n",
    "for i in range(len(b)+1):\n",
    "    d[i][0] = i\n",
    "    p[i][0] = 0\n",
    "print_matrix(d, 'D')\n",
    "print_matrix(d, 'P')"
   ]
  },
  {
   "cell_type": "code",
   "execution_count": 109,
   "id": "prescribed-wallet",
   "metadata": {},
   "outputs": [
    {
     "name": "stdout",
     "output_type": "stream",
     "text": [
      "------------------\n",
      "D:\n",
      "[0, 1, 2, 3, 4, 5]\n",
      "[1, 0, 1, 2, 3, 4]\n",
      "[2, 1, 0, 1, 2, 3]\n",
      "[3, 2, 1, 0, 1, 2]\n",
      "[4, 3, 2, 1, 0, 1]\n",
      "[5, 4, 3, 2, 1, 0]\n",
      "------------------\n",
      "------------------\n",
      "P:\n",
      "[0, 1, 2, 3, 4, 5]\n",
      "[1, 0, 1, 2, 3, 4]\n",
      "[2, 1, 0, 1, 2, 3]\n",
      "[3, 2, 1, 0, 1, 2]\n",
      "[4, 3, 2, 1, 0, 1]\n",
      "[5, 4, 3, 2, 1, 0]\n",
      "------------------\n"
     ]
    }
   ],
   "source": [
    "for i in range(1, len(b)+1):\n",
    "    for j in range(1, len(a)+1):\n",
    "        tmp = 2\n",
    "        if a[j-1] == b[i-1]:\n",
    "            tmp = 0\n",
    "        val = [d[i-1][j] + 1, d[i][j-1] + 1, d[i-1][j-1] + tmp]\n",
    "        d[i][j] = min(val)\n",
    "        p[i][j] = val.index(d[i][j]) # 0: top, 1: left, 2: diagonal\n",
    "\n",
    "print_matrix(d, 'D')\n",
    "print_matrix(d, 'P')"
   ]
  },
  {
   "cell_type": "code",
   "execution_count": null,
   "id": "indian-lingerie",
   "metadata": {},
   "outputs": [],
   "source": []
  }
 ],
 "metadata": {
  "kernelspec": {
   "display_name": "Python 3",
   "language": "python",
   "name": "python3"
  },
  "language_info": {
   "codemirror_mode": {
    "name": "ipython",
    "version": 3
   },
   "file_extension": ".py",
   "mimetype": "text/x-python",
   "name": "python",
   "nbconvert_exporter": "python",
   "pygments_lexer": "ipython3",
   "version": "3.8.5"
  }
 },
 "nbformat": 4,
 "nbformat_minor": 5
}
