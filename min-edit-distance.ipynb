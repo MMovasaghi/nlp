{
 "cells": [
  {
   "cell_type": "markdown",
   "id": "engaging-reporter",
   "metadata": {},
   "source": [
    "<center>بسم الله الرحمن الرحیم</center>"
   ]
  },
  {
   "cell_type": "code",
   "execution_count": 123,
   "id": "initial-vegetation",
   "metadata": {},
   "outputs": [
    {
     "name": "stdout",
     "output_type": "stream",
     "text": [
      "String-1 : salam\n",
      "String-2 : ralam\n"
     ]
    }
   ],
   "source": [
    "a = input('String-1 : ')\n",
    "b = input('String-2 : ')"
   ]
  },
  {
   "cell_type": "code",
   "execution_count": 124,
   "id": "active-reggae",
   "metadata": {},
   "outputs": [],
   "source": [
    "def print_matrix(matrix, title):\n",
    "    print(f'{title}:')\n",
    "    for i in range(len(matrix)):\n",
    "        print(matrix[i])\n",
    "    print('---'*len(matrix))"
   ]
  },
  {
   "cell_type": "code",
   "execution_count": 125,
   "id": "guided-fishing",
   "metadata": {},
   "outputs": [],
   "source": [
    "sub = {}\n",
    "alphabet = [chr(i) for i in range(ord('a'), ord('z'))]\n",
    "for c1 in alphabet:\n",
    "    for c2 in alphabet:\n",
    "        if c1 == c2:\n",
    "            sub[(c1, c2)] = 0\n",
    "        else:\n",
    "            sub[(c1, c2)] = 2\n",
    "insert = 3\n",
    "delete = 3"
   ]
  },
  {
   "cell_type": "code",
   "execution_count": 137,
   "id": "velvet-preserve",
   "metadata": {},
   "outputs": [
    {
     "name": "stdout",
     "output_type": "stream",
     "text": [
      "D:\n",
      "[0, 1, 2, 3, 4, 5]\n",
      "[1, 0, 0, 0, 0, 0]\n",
      "[2, 0, 0, 0, 0, 0]\n",
      "[3, 0, 0, 0, 0, 0]\n",
      "[4, 0, 0, 0, 0, 0]\n",
      "[5, 0, 0, 0, 0, 0]\n",
      "------------------\n",
      "P:\n",
      "[0, 1, 2, 3, 4, 5]\n",
      "[1, 0, 0, 0, 0, 0]\n",
      "[2, 0, 0, 0, 0, 0]\n",
      "[3, 0, 0, 0, 0, 0]\n",
      "[4, 0, 0, 0, 0, 0]\n",
      "[5, 0, 0, 0, 0, 0]\n",
      "------------------\n",
      "#######################\n",
      "D-result:\n",
      "[0, 1, 2, 3, 4, 5]\n",
      "[1, 2, 3, 4, 5, 6]\n",
      "[2, 1, 2, 3, 4, 5]\n",
      "[3, 2, 1, 2, 3, 4]\n",
      "[4, 3, 2, 1, 2, 3]\n",
      "[5, 4, 3, 2, 1, 2]\n",
      "------------------\n",
      "P-result:\n",
      "[0, 1, 2, 3, 4, 5]\n",
      "[1, 2, 3, 4, 5, 6]\n",
      "[2, 1, 2, 3, 4, 5]\n",
      "[3, 2, 1, 2, 3, 4]\n",
      "[4, 3, 2, 1, 2, 3]\n",
      "[5, 4, 3, 2, 1, 2]\n",
      "------------------\n"
     ]
    }
   ],
   "source": [
    "d = [[0 for _ in range(len(a)+1)] for _ in range(len(b)+1)]\n",
    "p = [[-1 for _ in range(len(a)+1)] for _ in range(len(b)+1)]\n",
    "d[0][:] = [j for j in range(len(a)+1)]\n",
    "p[0][:] = [1 for j in range(len(a)+1)]\n",
    "for i in range(len(b)+1):\n",
    "    d[i][0] = i\n",
    "    p[i][0] = 0\n",
    "print_matrix(d, 'D')\n",
    "print_matrix(d, 'P')\n",
    "\n",
    "print(\"#######################\")\n",
    "\n",
    "for i in range(1, len(b)+1):\n",
    "    for j in range(1, len(a)+1):\n",
    "        val = [d[i-1][j] + delete, d[i][j-1] + insert, d[i-1][j-1] + sub[(a[i-1].lower(), b[i-1].lower())]]\n",
    "        d[i][j] = min(val)\n",
    "        p[i][j] = val.index(d[i][j]) # 0: top, 1: left, 2: diagonal\n",
    "\n",
    "print_matrix(d, 'D-result')\n",
    "print_matrix(d, 'P-result')"
   ]
  }
 ],
 "metadata": {
  "kernelspec": {
   "display_name": "Python 3",
   "language": "python",
   "name": "python3"
  },
  "language_info": {
   "codemirror_mode": {
    "name": "ipython",
    "version": 3
   },
   "file_extension": ".py",
   "mimetype": "text/x-python",
   "name": "python",
   "nbconvert_exporter": "python",
   "pygments_lexer": "ipython3",
   "version": "3.8.5"
  }
 },
 "nbformat": 4,
 "nbformat_minor": 5
}
